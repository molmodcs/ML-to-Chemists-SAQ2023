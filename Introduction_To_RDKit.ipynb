{
 "cells": [
  {
   "cell_type": "markdown",
   "id": "a94c5c83",
   "metadata": {},
   "source": [
    "## Métodos de Aprendizado de Máquina em Química\n",
    " \n",
    "Prof. Luciano T. Costa \\\n",
    "e-mail: ltcosta@id.uff.br \\\n",
    "Departamento de Físico-Química \\\n",
    "Sala 309 \\\n",
    "Prof. Eduardo Krampser \\\n",
    "e-mail: eduardo.krempser@fiocruz.br \\\n",
    "MolMod-CS: www.molmodcs.uff.br \\\n",
    "Facebook: https://www.facebook.com/molmodcs \\\n",
    "Linkedin: https://www.linkedin.com/in/luciano-t-costa-90a85a164/ "
   ]
  },
  {
   "cell_type": "markdown",
   "id": "9a1b1067",
   "metadata": {},
   "source": [
    "### RDkit: O que é?\n",
    "\n",
    "   O projeto [`RDkit`](https://www.rdkit.org/docs/GettingStartedInPython.html) trata-se de um conjunto de bibliotecas e módulos desenvolvidos para serem aplicados em quimioinformática e aprendizado de máquina (ML, do inglês *machine learning*) no espaço de estruturas químicas, ou seja, como ler, representar e interpretar dados de estruturas químicas em 2D e 3D para metadados numéricos como entrada para algoritmos de ML. Para quem tiver interesse em estar envolvido com as discussões sobre o uso do RDkit, pode escrever para a *mailing list* em: rdkit-devel@lists.sourceforge.net.\n",
    "\n",
    "\n",
    "#### Lendo, Desenhando e Escrevendo moléculas\n",
    "\n",
    "   A maioria das funcionalidades básicas do RDkit é encontrada no módulo `rdkit.Chem`\n",
    "\n",
    "    \n",
    "    "
   ]
  },
  {
   "cell_type": "markdown",
   "id": "0b354f8c",
   "metadata": {},
   "source": [
    "### O que são SMILES?\n",
    "\n",
    "\n",
    "[`SMILES`](https://en.wikipedia.org/wiki/Simplified_molecular-input_line-entry_system) (Simplified Molecular Input Line Entry System) é um sistema de notação química desenvolvido para o processamento da informação química. Baseado nos princípios da teoria de grafos, o sistema permite a representação de moléculas de uma forma simples e eficiente. Uma evolução dos SMILES é a estrutura de notação [`SMARTS`](https://en.wikipedia.org/wiki/SMILES_arbitrary_target_specification#Recursive_SMARTS). Para uma compreensão mais aprofundada e detalhada ver [`link`](https://www.daylight.com/dayhtml/doc/theory/theory.smarts.html). Segue abaixo as referências originais do desenvolvimento:\n",
    "\n",
    "[1] Weininger D (February 1988). \"SMILES, a chemical language and information system. 1. Introduction to methodology and encoding rules\". Journal of Chemical Information and Computer Sciences. 28 (1): 31–6. [`doi`](https://pubs.acs.org/doi/abs/10.1021/ci00057a005)\n",
    "\n",
    "[2] Weininger D, Weininger A, Weininger JL (May 1989). \"SMILES. 2. Algorithm for generation of unique SMILES notation\". Journal of Chemical Information and Modeling. 29 (2): 97–101. [`doi`](https://pubs.acs.org/doi/abs/10.1021/ci00062a008)\n",
    "\n",
    "[3] Weininger D (August 1990). \"SMILES. 3. DEPICT. Graphical depiction of chemical structures\". Journal of Chemical Information and Modeling. 30 (3): 237–43. [`doi`](https://pubs.acs.org/doi/abs/10.1021/ci00067a005)\n"
   ]
  },
  {
   "cell_type": "markdown",
   "id": "0fe4696f",
   "metadata": {},
   "source": [
    "## Importando Bibliotecas"
   ]
  },
  {
   "cell_type": "code",
   "execution_count": 1,
   "id": "b4169626",
   "metadata": {},
   "outputs": [
    {
     "ename": "ModuleNotFoundError",
     "evalue": "No module named 'rdkit'",
     "output_type": "error",
     "traceback": [
      "\u001b[0;31m---------------------------------------------------------------------------\u001b[0m",
      "\u001b[0;31mModuleNotFoundError\u001b[0m                       Traceback (most recent call last)",
      "\u001b[0;32m/tmp/ipykernel_914451/514452394.py\u001b[0m in \u001b[0;36m<module>\u001b[0;34m\u001b[0m\n\u001b[0;32m----> 1\u001b[0;31m \u001b[0;32mfrom\u001b[0m \u001b[0mrdkit\u001b[0m \u001b[0;32mimport\u001b[0m \u001b[0mChem\u001b[0m\u001b[0;34m\u001b[0m\u001b[0;34m\u001b[0m\u001b[0m\n\u001b[0m\u001b[1;32m      2\u001b[0m \u001b[0;32mfrom\u001b[0m \u001b[0mrdkit\u001b[0m\u001b[0;34m.\u001b[0m\u001b[0mChem\u001b[0m \u001b[0;32mimport\u001b[0m \u001b[0mDraw\u001b[0m\u001b[0;34m\u001b[0m\u001b[0;34m\u001b[0m\u001b[0m\n\u001b[1;32m      3\u001b[0m \u001b[0;32mfrom\u001b[0m \u001b[0mrdkit\u001b[0m\u001b[0;34m.\u001b[0m\u001b[0mChem\u001b[0m\u001b[0;34m.\u001b[0m\u001b[0mDraw\u001b[0m \u001b[0;32mimport\u001b[0m \u001b[0mIPythonConsole\u001b[0m\u001b[0;34m\u001b[0m\u001b[0;34m\u001b[0m\u001b[0m\n\u001b[1;32m      4\u001b[0m \u001b[0;32mfrom\u001b[0m \u001b[0mrdkit\u001b[0m\u001b[0;34m.\u001b[0m\u001b[0mChem\u001b[0m \u001b[0;32mimport\u001b[0m \u001b[0mDescriptors\u001b[0m\u001b[0;34m\u001b[0m\u001b[0;34m\u001b[0m\u001b[0m\n\u001b[1;32m      5\u001b[0m \u001b[0;32mfrom\u001b[0m \u001b[0mrdkit\u001b[0m\u001b[0;34m.\u001b[0m\u001b[0mChem\u001b[0m \u001b[0;32mimport\u001b[0m \u001b[0mAllChem\u001b[0m\u001b[0;34m\u001b[0m\u001b[0;34m\u001b[0m\u001b[0m\n",
      "\u001b[0;31mModuleNotFoundError\u001b[0m: No module named 'rdkit'"
     ]
    }
   ],
   "source": [
    "from rdkit import Chem\n",
    "from rdkit.Chem import Draw\n",
    "from rdkit.Chem.Draw import IPythonConsole\n",
    "from rdkit.Chem import Descriptors\n",
    "from rdkit.Chem import AllChem\n",
    "from rdkit import DataStructs\n",
    "import numpy as np"
   ]
  },
  {
   "cell_type": "markdown",
   "id": "01a8eadc",
   "metadata": {},
   "source": [
    "## Mol para Smiles\n",
    "\n",
    "O contrário também é possível, convertendo o formato `mol` de estrutura química para `SMILES` com o uso do módulo [`MolToSmiles`](https://www.herongyang.com/Cheminformatics/RDKit-rdkit-Chem-rdmolfiles-SMILES-Format.html), como exemplificado abaixo:"
   ]
  },
  {
   "cell_type": "code",
   "execution_count": 5,
   "id": "37747c5a",
   "metadata": {},
   "outputs": [
    {
     "data": {
      "text/plain": [
       "'CCCC'"
      ]
     },
     "execution_count": 5,
     "metadata": {},
     "output_type": "execute_result"
    }
   ],
   "source": [
    "smiles = Chem.MolToSmiles(mol)\n",
    "smiles"
   ]
  },
  {
   "cell_type": "markdown",
   "id": "13225538",
   "metadata": {},
   "source": [
    "## Peso da Molécula\n",
    "\n",
    "É possível também, de forma muito simples, imprimir a massa molar de uma molécula:"
   ]
  },
  {
   "cell_type": "code",
   "execution_count": 8,
   "id": "2fd2972f",
   "metadata": {},
   "outputs": [
    {
     "data": {
      "text/plain": [
       "58.123999999999995"
      ]
     },
     "execution_count": 8,
     "metadata": {},
     "output_type": "execute_result"
    }
   ],
   "source": [
    "mw = Descriptors.MolWt(mol)\n",
    "mw"
   ]
  },
  {
   "cell_type": "markdown",
   "id": "95f7c456",
   "metadata": {},
   "source": [
    "## Subestruturas\n",
    "\n",
    "Além disso, é possível a atribuição de várias moléculas em uma lista, para inúmeros usos, utilizando-se principalmente da descrição por SMILES para isso, como no exemplo a seguir:"
   ]
  },
  {
   "cell_type": "code",
   "execution_count": 9,
   "id": "2fa9981a",
   "metadata": {},
   "outputs": [
    {
     "data": {
      "image/png": "[encoded data removed]",
      "text/plain": [
       "<IPython.core.display.Image object>"
      ]
     },
     "execution_count": 9,
     "metadata": {},
     "output_type": "execute_result"
    }
   ],
   "source": [
    "smiles_list = ['C(C(=O)O)N', 'N[C@@H](CC1=CC=CC=C1)C(O)=O', 'O=C([C@H](CC1=CNC=N1)N)O', 'C([C@@H](C(=O)O)N)S']\n",
    "\n",
    "mol_list = []\n",
    "for smiles in smiles_list:\n",
    "   mol = Chem.MolFromSmiles(smiles) # Converte a molécula atual em Mol através do Smiles da primeira lista\n",
    "   mol_list.append(mol) # Atribui a molécula convertida na nova lista criada (mol_list)\n",
    "   \n",
    "Draw.MolsToGridImage(mol_list, molsPerRow=4) # Exibe as moléculas da mol_list"
   ]
  },
  {
   "cell_type": "markdown",
   "id": "55e551aa",
   "metadata": {},
   "source": [
    "## Busca de padrões\n",
    "\n",
    "É possível buscar padrões que sejam comuns a alguma molécula contida em uma lista, desde padrões simples até padrões complexos, no exemplo abaixo iremos buscar por moléculas que contenham enxofre"
   ]
  },
  {
   "cell_type": "code",
   "execution_count": 10,
   "id": "80525133",
   "metadata": {},
   "outputs": [
    {
     "name": "stdout",
     "output_type": "stream",
     "text": [
      "False\n",
      "False\n",
      "False\n",
      "True\n"
     ]
    }
   ],
   "source": [
    "pattern = Chem.MolFromSmiles('S') # Estruturas que possuem S (enxofre)\n",
    "for mol in mol_list:\n",
    "   print(mol.HasSubstructMatch(pattern)) # Retorna true (caso exista na molécula) ou false (caso não exista)"
   ]
  },
  {
   "cell_type": "markdown",
   "id": "21762d15",
   "metadata": {},
   "source": [
    "### SMARTS\n",
    "\n",
    "Há também o método SMARTS, para caso seja necessário encontrar algum padrão mais complexo do que o comum, como um anel por exemplo, assim como no código abaixo."
   ]
  },
  {
   "cell_type": "code",
   "execution_count": 11,
   "id": "e9e4fb60",
   "metadata": {},
   "outputs": [
    {
     "name": "stdout",
     "output_type": "stream",
     "text": [
      "False\n",
      "False\n",
      "True\n",
      "False\n"
     ]
    }
   ],
   "source": [
    "pattern2 = Chem.MolFromSmarts('[r5]') # Estruturas que possuem anéis com 5 lados, podendo ser quantos lados quiser\n",
    "for mol in mol_list:\n",
    "   print(mol.HasSubstructMatch(pattern2))"
   ]
  },
  {
   "cell_type": "markdown",
   "id": "2c76005b",
   "metadata": {},
   "source": [
    "## [Fingerprints](https://www.rdkit.org/UGM/2012/Landrum_RDKit_UGM.Fingerprints.Final.pptx.pdf)\n",
    "\n",
    "### O que são?\n",
    "As *Molecular Fingerprints* são uma maneira de representar moléculas como objetos matemáticos, ao transformar a molécula em um vetor de bits, os quais representam os átomos e ligações da molécula.\n",
    "\n",
    "A forma de se obter as *Morgan Fingerprints* são através da função [AllChem.GetMorganFingerprintAsBitVect()](https://www.programcreek.com/python/example/89502/rdkit.Chem.AllChem.GetMorganFingerprintAsBitVect), basta clicar sobre o nome da função para ser redirecionado a uma publicação com mais exemplos."
   ]
  },
  {
   "cell_type": "code",
   "execution_count": 12,
   "id": "ecf53ae3",
   "metadata": {},
   "outputs": [
    {
     "data": {
      "image/png": "[encoded data removed]",
      "text/plain": [
       "<rdkit.Chem.rdchem.Mol at 0x7f1e1c201150>"
      ]
     },
     "execution_count": 12,
     "metadata": {},
     "output_type": "execute_result"
    }
   ],
   "source": [
    "glycine = mol_list[0]\n",
    "glycine"
   ]
  },
  {
   "cell_type": "code",
   "execution_count": 13,
   "id": "510ff44f",
   "metadata": {},
   "outputs": [
    {
     "data": {
      "text/plain": [
       "(array([ 27,  80, 147, 389, 650, 713, 807, 893, 966, 981]),)"
      ]
     },
     "execution_count": 13,
     "metadata": {},
     "output_type": "execute_result"
    }
   ],
   "source": [
    "bi = {}\n",
    "\n",
    "fp = AllChem.GetMorganFingerprintAsBitVect(glycine, 2, nBits=1024, bitInfo=bi) # Os inputs são, em ordem, a molécula desejada, o raio, o número de bits e onde serão salvos os bits\n",
    "fp_arr = np.zeros((1,))\n",
    "\n",
    "DataStructs.ConvertToNumpyArray(fp, fp_arr)\n",
    "\n",
    "np.nonzero(fp_arr)"
   ]
  },
  {
   "cell_type": "markdown",
   "id": "78a3ac32",
   "metadata": {},
   "source": [
    "Caso deseje, é possível também exibir os Fingerprints com a função abaixo:"
   ]
  },
  {
   "cell_type": "code",
   "execution_count": 16,
   "id": "2b663bc0",
   "metadata": {},
   "outputs": [
    {
     "data": {
      "image/png": "[encoded data removed]",
      "text/plain": [
       "<PIL.PngImagePlugin.PngImageFile image mode=RGB size=750x300>"
      ]
     },
     "execution_count": 16,
     "metadata": {},
     "output_type": "execute_result"
    }
   ],
   "source": [
    "prints = [(glycine, x, bi) for x in fp.GetOnBits()] # GetOnBits() obtém os bits ativados de fp\n",
    "Draw.DrawMorganBits(prints, molsPerRow=5, legends=[str(x) for x in fp.GetOnBits()]) # DrawMorganBits é a função utilizada para visualizar as impressões moleculares"
   ]
  },
  {
   "cell_type": "markdown",
   "id": "b6405a07",
   "metadata": {},
   "source": [
    "## Similaridade\n",
    "\n",
    "É possível também, analisar a [similaridade entre moléculas](https://www.herongyang.com/Cheminformatics/RDKit-Molecule-Similarity-Based-on-Fingerprints.html) com as seguintes funções"
   ]
  },
  {
   "cell_type": "code",
   "execution_count": 17,
   "id": "2d2ceb51",
   "metadata": {},
   "outputs": [
    {
     "data": {
      "image/png": "[encoded data removed]",
      "text/plain": [
       "<IPython.core.display.Image object>"
      ]
     },
     "execution_count": 17,
     "metadata": {},
     "output_type": "execute_result"
    }
   ],
   "source": [
    "cysteine = mol_list[3]\n",
    "Draw.MolsToGridImage([glycine, cysteine])"
   ]
  },
  {
   "cell_type": "code",
   "execution_count": 18,
   "id": "b26d5355",
   "metadata": {},
   "outputs": [
    {
     "name": "stdout",
     "output_type": "stream",
     "text": [
      "cys = [1, 48, 80, 147, 229, 321, 389, 403, 435, 650, 786, 807, 820, 825, 893, 902]\n",
      "gly = [27, 80, 147, 389, 650, 713, 807, 893, 966, 981]\n",
      "\n",
      "\n",
      "In common = {389, 807, 650, 80, 147, 893}\n",
      "Combined = {1, 321, 389, 902, 966, 713, 650, 80, 786, 147, 403, 981, 27, 229, 807, 48, 435, 820, 825, 893}\n",
      "Similarity Score = 0.3\n"
     ]
    }
   ],
   "source": [
    "fp2 = AllChem.GetMorganFingerprintAsBitVect(cysteine, 2, nBits=1024, bitInfo=bi)\n",
    "print('cys =', list(fp2.GetOnBits()))\n",
    "print('gly =', list(fp.GetOnBits()))\n",
    "\n",
    "common = set(fp2.GetOnBits()) & set(fp.GetOnBits()) # Pega os elementos que as duas moléculas tem em comum\n",
    "combined = set(fp2.GetOnBits()) | set(fp.GetOnBits()) # Combina os elementos das duas moléculas\n",
    "\n",
    "print('\\n')\n",
    "\n",
    "print(f'In common =', common)\n",
    "print(f'Combined =', combined)\n",
    "print(f'Similarity Score =', len(common)/len(combined))"
   ]
  },
  {
   "cell_type": "markdown",
   "id": "5b509267",
   "metadata": {},
   "source": [
    "### [Tanimoto Similarity](https://www.pinecone.io/learn/roughly-explained/tanimoto-similarity/)\n",
    "\n",
    "A função a seguir vem para simplificar o processo exibido acima, sendo uma alternativa muito mais simples para se obter o Similarity Score entre as duas moléculas, sem precisar atribuir a variáveis os elementos comuns e combinados"
   ]
  },
  {
   "cell_type": "code",
   "execution_count": 19,
   "id": "6552bf83",
   "metadata": {},
   "outputs": [
    {
     "name": "stdout",
     "output_type": "stream",
     "text": [
      "Similarity Score = 0.3\n"
     ]
    }
   ],
   "source": [
    "print(f'Similarity Score = {DataStructs.TanimotoSimilarity(fp, fp2)}')"
   ]
  },
  {
   "cell_type": "markdown",
   "id": "6802693a",
   "metadata": {},
   "source": [
    "## Outros Exemplos"
   ]
  },
  {
   "cell_type": "code",
   "execution_count": 10,
   "id": "6cb904a8",
   "metadata": {},
   "outputs": [],
   "source": [
    "m = Chem.MolFromMolFile('data/13-dimethyl-1H-imidazol-3-ium.mol')"
   ]
  },
  {
   "cell_type": "code",
   "execution_count": 11,
   "id": "f876b0c6",
   "metadata": {},
   "outputs": [
    {
     "data": {
      "image/png": "[encoded data removed]",
      "text/plain": [
       "<rdkit.Chem.rdchem.Mol at 0x7f0ca59ccba0>"
      ]
     },
     "execution_count": 11,
     "metadata": {},
     "output_type": "execute_result"
    }
   ],
   "source": [
    "m"
   ]
  },
  {
   "cell_type": "code",
   "execution_count": 15,
   "id": "8ed70b2d",
   "metadata": {},
   "outputs": [],
   "source": [
    "stringWithMolData=open('data/input.mol','r').read()"
   ]
  },
  {
   "cell_type": "code",
   "execution_count": 16,
   "id": "b045d8c8",
   "metadata": {},
   "outputs": [],
   "source": [
    "m = Chem.MolFromMolBlock(stringWithMolData)"
   ]
  },
  {
   "cell_type": "code",
   "execution_count": 17,
   "id": "ba8d7b9c",
   "metadata": {},
   "outputs": [
    {
     "data": {
      "image/png": "[encoded data removed]",
      "text/plain": [
       "<rdkit.Chem.rdchem.Mol at 0x7f0ca59cd460>"
      ]
     },
     "execution_count": 17,
     "metadata": {},
     "output_type": "execute_result"
    }
   ],
   "source": [
    "m"
   ]
  },
  {
   "cell_type": "markdown",
   "id": "db75a1d0",
   "metadata": {},
   "source": [
    "Todas as funções acima retornam o objeto `rdkit.Chem.rdchem.Mol` com sucesso."
   ]
  },
  {
   "cell_type": "markdown",
   "id": "f68612e0",
   "metadata": {},
   "source": [
    "Um objeto [`rdkit.Chem.rdchem.Mol`](https://www.rdkit.org/docs/source/rdkit.Chem.rdchem.html#rdkit.Chem.rdchem.Mol) pode ser mostrado graficamente usando [`rdkit.Chem.Draw.MolToImage()`](https://www.rdkit.org/docs/source/rdkit.Chem.Draw.html#rdkit.Chem.Draw.MolToImage):"
   ]
  },
  {
   "cell_type": "code",
   "execution_count": 18,
   "id": "0de8433a",
   "metadata": {},
   "outputs": [],
   "source": [
    "from rdkit.Chem import Draw"
   ]
  },
  {
   "cell_type": "code",
   "execution_count": 19,
   "id": "df58b82d",
   "metadata": {},
   "outputs": [],
   "source": [
    "img = Draw.MolToImage(m)"
   ]
  },
  {
   "cell_type": "code",
   "execution_count": 20,
   "id": "613b2dfa",
   "metadata": {},
   "outputs": [
    {
     "data": {
      "image/png": "[encoded data removed]",
      "text/plain": [
       "<PIL.PngImagePlugin.PngImageFile image mode=RGB size=300x300>"
      ]
     },
     "execution_count": 20,
     "metadata": {},
     "output_type": "execute_result"
    }
   ],
   "source": [
    "img"
   ]
  },
  {
   "cell_type": "markdown",
   "id": "5a9c4c9a",
   "metadata": {},
   "source": [
    "Há um esforço em gerar erros quando são fornecidos SMILES com problema em sua formatação:"
   ]
  },
  {
   "cell_type": "code",
   "execution_count": 21,
   "id": "00cf08d0",
   "metadata": {},
   "outputs": [
    {
     "name": "stderr",
     "output_type": "stream",
     "text": [
      "[18:16:00] Explicit valence for atom # 1 O, 3, is greater than permitted\n"
     ]
    }
   ],
   "source": [
    "m1 = Chem.MolFromSmiles('CO(C)C')"
   ]
  },
  {
   "cell_type": "code",
   "execution_count": 22,
   "id": "427f65a9",
   "metadata": {},
   "outputs": [
    {
     "name": "stderr",
     "output_type": "stream",
     "text": [
      "[18:16:14] Can't kekulize mol.  Unkekulized atoms: 0 1 2\n"
     ]
    }
   ],
   "source": [
    "m2 = Chem.MolFromSmiles('c1cc1')"
   ]
  },
  {
   "cell_type": "code",
   "execution_count": 24,
   "id": "50550dc2",
   "metadata": {},
   "outputs": [
    {
     "data": {
      "text/plain": [
       "True"
      ]
     },
     "execution_count": 24,
     "metadata": {},
     "output_type": "execute_result"
    }
   ],
   "source": [
    "m1 is None"
   ]
  },
  {
   "cell_type": "code",
   "execution_count": 25,
   "id": "e459823f",
   "metadata": {},
   "outputs": [
    {
     "data": {
      "text/plain": [
       "True"
      ]
     },
     "execution_count": 25,
     "metadata": {},
     "output_type": "execute_result"
    }
   ],
   "source": [
    "m2 is None"
   ]
  },
  {
   "cell_type": "markdown",
   "id": "1ae9f6c6",
   "metadata": {},
   "source": [
    "#### Lendo um conjunto de moléculas"
   ]
  },
  {
   "cell_type": "markdown",
   "id": "2e7e3f2a",
   "metadata": {},
   "source": [
    "Grupos de moléculas são lidos usando um `Supplier`: (por exemplo, um [`rdkit.Chem.rdmolfiles.SDMolSupplier`](https://www.rdkit.org/docs/source/rdkit.Chem.rdmolfiles.html#rdkit.Chem.rdmolfiles.SDMolSupplier) ou um [`rdkit.Chem.rdmolfiles.SmilesMolSupplier`](https://www.rdkit.org/docs/source/rdkit.Chem.rdmolfiles.html#rdkit.Chem.rdmolfiles.SmilesMolSupplier)):"
   ]
  },
  {
   "cell_type": "code",
   "execution_count": 33,
   "id": "66745b42",
   "metadata": {},
   "outputs": [],
   "source": [
    "suppl = Chem.SDMolSupplier('data/5ht3ligs.sdf')"
   ]
  },
  {
   "cell_type": "code",
   "execution_count": 34,
   "id": "606b6d85",
   "metadata": {},
   "outputs": [
    {
     "name": "stdout",
     "output_type": "stream",
     "text": [
      "20\n",
      "24\n",
      "24\n",
      "26\n"
     ]
    }
   ],
   "source": [
    "for mol in suppl:\n",
    "    print(mol.GetNumAtoms())\n"
   ]
  },
  {
   "cell_type": "markdown",
   "id": "022e0b44",
   "metadata": {},
   "source": [
    "Pode-se também construir listas de moléculas de um `Supplier`:"
   ]
  },
  {
   "cell_type": "code",
   "execution_count": 35,
   "id": "1dcc93a3",
   "metadata": {},
   "outputs": [],
   "source": [
    "mols = [x for x in suppl]"
   ]
  },
  {
   "cell_type": "code",
   "execution_count": 36,
   "id": "804cc3ad",
   "metadata": {},
   "outputs": [
    {
     "data": {
      "text/plain": [
       "4"
      ]
     },
     "execution_count": 36,
     "metadata": {},
     "output_type": "execute_result"
    }
   ],
   "source": [
    "len(mols)"
   ]
  },
  {
   "cell_type": "code",
   "execution_count": 37,
   "id": "d4b6355b",
   "metadata": {},
   "outputs": [
    {
     "data": {
      "text/plain": [
       "[<rdkit.Chem.rdchem.Mol at 0x7f0ca4aaa180>,\n",
       " <rdkit.Chem.rdchem.Mol at 0x7f0ca4aa9540>,\n",
       " <rdkit.Chem.rdchem.Mol at 0x7f0ca4aa9690>,\n",
       " <rdkit.Chem.rdchem.Mol at 0x7f0ca4aa94d0>]"
      ]
     },
     "execution_count": 37,
     "metadata": {},
     "output_type": "execute_result"
    }
   ],
   "source": [
    "mols"
   ]
  },
  {
   "cell_type": "code",
   "execution_count": 38,
   "id": "e9ec431b",
   "metadata": {},
   "outputs": [
    {
     "data": {
      "text/plain": [
       "20"
      ]
     },
     "execution_count": 38,
     "metadata": {},
     "output_type": "execute_result"
    }
   ],
   "source": [
    "suppl[0].GetNumAtoms()"
   ]
  },
  {
   "cell_type": "markdown",
   "id": "81676293",
   "metadata": {},
   "source": [
    "Pode-se também checar se foi ou não encontrado a info num arquivo com o `Supplier`:"
   ]
  },
  {
   "cell_type": "code",
   "execution_count": 39,
   "id": "6c1daf1a",
   "metadata": {},
   "outputs": [
    {
     "name": "stdout",
     "output_type": "stream",
     "text": [
      "20\n",
      "24\n",
      "24\n",
      "26\n"
     ]
    }
   ],
   "source": [
    "with Chem.SDMolSupplier('data/5ht3ligs.sdf') as suppl:\n",
    "\n",
    "  for mol in suppl:\n",
    "\n",
    "    if mol is None: continue\n",
    "\n",
    "    print(mol.GetNumAtoms())"
   ]
  },
  {
   "cell_type": "markdown",
   "id": "323b8971",
   "metadata": {},
   "source": [
    "Um tipo alternativo de `Supplier`, o [`rdkit.Chem.rdmolfiles.ForwardSDMolSupplier`](https://www.rdkit.org/docs/source/rdkit.Chem.rdmolfiles.html#rdkit.Chem.rdmolfiles.ForwardSDMolSupplier) pode ser usado para ler objetos tipo arquivo:"
   ]
  },
  {
   "cell_type": "code",
   "execution_count": 40,
   "id": "4fe31cf1",
   "metadata": {},
   "outputs": [
    {
     "name": "stdout",
     "output_type": "stream",
     "text": [
      "20\n",
      "24\n",
      "24\n",
      "26\n"
     ]
    }
   ],
   "source": [
    "inf = open('data/5ht3ligs.sdf','rb')\n",
    "\n",
    "with Chem.ForwardSDMolSupplier(inf) as fsuppl:\n",
    "\n",
    "  for mol in fsuppl:\n",
    "\n",
    "    if mol is None: continue\n",
    "\n",
    "    print(mol.GetNumAtoms())"
   ]
  },
  {
   "cell_type": "markdown",
   "id": "21e90902",
   "metadata": {},
   "source": [
    "Isto significa que eles podem ser usados para ler arquivos zipados:"
   ]
  },
  {
   "cell_type": "code",
   "execution_count": 41,
   "id": "bb4fc0aa",
   "metadata": {},
   "outputs": [],
   "source": [
    "import gzip"
   ]
  },
  {
   "cell_type": "code",
   "execution_count": 42,
   "id": "3b8e9486",
   "metadata": {},
   "outputs": [],
   "source": [
    "inf = gzip.open('data/actives_5ht3.sdf.gz')"
   ]
  },
  {
   "cell_type": "code",
   "execution_count": 43,
   "id": "5884a867",
   "metadata": {},
   "outputs": [],
   "source": [
    "with Chem.ForwardSDMolSupplier(inf) as gzsuppl:\n",
    "\n",
    "   ms = [x for x in gzsuppl if x is not None]"
   ]
  },
  {
   "cell_type": "code",
   "execution_count": 44,
   "id": "eddc1c19",
   "metadata": {},
   "outputs": [
    {
     "data": {
      "text/plain": [
       "180"
      ]
     },
     "execution_count": 44,
     "metadata": {},
     "output_type": "execute_result"
    }
   ],
   "source": [
    "len(ms)"
   ]
  },
  {
   "cell_type": "markdown",
   "id": "4b51e59a",
   "metadata": {},
   "source": [
    "Note que o `ForwardSDMolSuppliers` não pode ser usado para acessar objetos de forma randômica:"
   ]
  },
  {
   "cell_type": "code",
   "execution_count": 45,
   "id": "be49965b",
   "metadata": {},
   "outputs": [],
   "source": [
    "inf = open('data/5ht3ligs.sdf','rb')"
   ]
  },
  {
   "cell_type": "code",
   "execution_count": 51,
   "id": "cf1c535c",
   "metadata": {},
   "outputs": [
    {
     "ename": "TypeError",
     "evalue": "'ForwardSDMolSupplier' object is not subscriptable",
     "output_type": "error",
     "traceback": [
      "\u001b[0;31m---------------------------------------------------------------------------\u001b[0m",
      "\u001b[0;31mTypeError\u001b[0m                                 Traceback (most recent call last)",
      "Cell \u001b[0;32mIn[51], line 2\u001b[0m\n\u001b[1;32m      1\u001b[0m \u001b[38;5;28;01mwith\u001b[39;00m Chem\u001b[38;5;241m.\u001b[39mForwardSDMolSupplier(inf) \u001b[38;5;28;01mas\u001b[39;00m fsuppl:\n\u001b[0;32m----> 2\u001b[0m     \u001b[43mfsuppl\u001b[49m\u001b[43m[\u001b[49m\u001b[38;5;241;43m0\u001b[39;49m\u001b[43m]\u001b[49m\n",
      "\u001b[0;31mTypeError\u001b[0m: 'ForwardSDMolSupplier' object is not subscriptable"
     ]
    }
   ],
   "source": [
    "with Chem.ForwardSDMolSupplier(inf) as fsuppl:\n",
    "    fsuppl[0]"
   ]
  },
  {
   "cell_type": "markdown",
   "id": "6c037404",
   "metadata": {},
   "source": [
    "#### Escrevendo Moléculas"
   ]
  },
  {
   "cell_type": "code",
   "execution_count": 52,
   "id": "b319a231",
   "metadata": {},
   "outputs": [],
   "source": [
    "# para SMILES"
   ]
  },
  {
   "cell_type": "code",
   "execution_count": 53,
   "id": "4a2763d1",
   "metadata": {},
   "outputs": [],
   "source": [
    "m = Chem.MolFromMolFile('data/chiral.mol')"
   ]
  },
  {
   "cell_type": "code",
   "execution_count": 54,
   "id": "24a2f464",
   "metadata": {},
   "outputs": [
    {
     "data": {
      "text/plain": [
       "'C[C@H](O)c1ccccc1'"
      ]
     },
     "execution_count": 54,
     "metadata": {},
     "output_type": "execute_result"
    }
   ],
   "source": [
    "Chem.MolToSmiles(m)"
   ]
  },
  {
   "cell_type": "code",
   "execution_count": 55,
   "id": "1f9b0dfb",
   "metadata": {},
   "outputs": [
    {
     "data": {
      "text/plain": [
       "'CC(O)c1ccccc1'"
      ]
     },
     "execution_count": 55,
     "metadata": {},
     "output_type": "execute_result"
    }
   ],
   "source": [
    "Chem.MolToSmiles(m,isomericSmiles=False)"
   ]
  },
  {
   "cell_type": "markdown",
   "id": "f7983b62",
   "metadata": {},
   "source": [
    "Note que os SMILES fornecidos estão na forma CANÔNICA, então a saída deve ser a mesma independente da molécula. Se a forma de Kekule dos SMILES é preferida, pode-se usar a forma `kekuleSmiles`:"
   ]
  },
  {
   "cell_type": "code",
   "execution_count": 56,
   "id": "1fde2913",
   "metadata": {},
   "outputs": [],
   "source": [
    "Chem.Kekulize(m)"
   ]
  },
  {
   "cell_type": "code",
   "execution_count": 57,
   "id": "58a405a8",
   "metadata": {},
   "outputs": [
    {
     "data": {
      "text/plain": [
       "'C[C@H](O)C1=CC=CC=C1'"
      ]
     },
     "execution_count": 57,
     "metadata": {},
     "output_type": "execute_result"
    }
   ],
   "source": [
    "Chem.MolToSmiles(m,kekuleSmiles=True)"
   ]
  },
  {
   "cell_type": "markdown",
   "id": "756561d7",
   "metadata": {},
   "source": [
    "[`MDL Mol`](https://docs.chemaxon.com/display/docs/mdl-molfiles-rgfiles-sdfiles-rxnfiles-rdfiles-formats.md) blocks estão também disponíveis. "
   ]
  },
  {
   "cell_type": "code",
   "execution_count": 58,
   "id": "756897a2",
   "metadata": {},
   "outputs": [],
   "source": [
    "m2 = Chem.MolFromSmiles('C1CCC1')"
   ]
  },
  {
   "cell_type": "code",
   "execution_count": 59,
   "id": "ec804632",
   "metadata": {},
   "outputs": [
    {
     "name": "stdout",
     "output_type": "stream",
     "text": [
      "\n",
      "     RDKit          2D\n",
      "\n",
      "  4  4  0  0  0  0  0  0  0  0999 V2000\n",
      "    1.0607    0.0000    0.0000 C   0  0  0  0  0  0  0  0  0  0  0  0\n",
      "   -0.0000   -1.0607    0.0000 C   0  0  0  0  0  0  0  0  0  0  0  0\n",
      "   -1.0607    0.0000    0.0000 C   0  0  0  0  0  0  0  0  0  0  0  0\n",
      "    0.0000    1.0607    0.0000 C   0  0  0  0  0  0  0  0  0  0  0  0\n",
      "  1  2  1  0\n",
      "  2  3  1  0\n",
      "  3  4  1  0\n",
      "  4  1  1  0\n",
      "M  END\n",
      "\n"
     ]
    }
   ],
   "source": [
    "print(Chem.MolToMolBlock(m2))"
   ]
  },
  {
   "cell_type": "code",
   "execution_count": 60,
   "id": "918a0b19",
   "metadata": {},
   "outputs": [
    {
     "data": {
      "image/png": "[encoded data removed]",
      "text/plain": [
       "<rdkit.Chem.rdchem.Mol at 0x7f0ca490c200>"
      ]
     },
     "execution_count": 60,
     "metadata": {},
     "output_type": "execute_result"
    }
   ],
   "source": [
    "m2"
   ]
  },
  {
   "cell_type": "code",
   "execution_count": 62,
   "id": "dc553477",
   "metadata": {},
   "outputs": [
    {
     "data": {
      "text/plain": [
       "0"
      ]
     },
     "execution_count": 62,
     "metadata": {},
     "output_type": "execute_result"
    }
   ],
   "source": [
    "# note que nessa notação de SMILES os hidrogênios estão implícitos. Para adicionar:\n",
    "\n",
    "from rdkit.Chem import AllChem\n",
    "m3 = Chem.AddHs(m2)\n",
    "AllChem.EmbedMolecule(m3,randomSeed=0xf00d)"
   ]
  },
  {
   "cell_type": "code",
   "execution_count": 63,
   "id": "297d3d4a",
   "metadata": {},
   "outputs": [
    {
     "name": "stdout",
     "output_type": "stream",
     "text": [
      "\n",
      "     RDKit          3D\n",
      "\n",
      " 12 12  0  0  0  0  0  0  0  0999 V2000\n",
      "    1.0256    0.2491   -0.0964 C   0  0  0  0  0  0  0  0  0  0  0  0\n",
      "   -0.2041    0.9236    0.4320 C   0  0  0  0  0  0  0  0  0  0  0  0\n",
      "   -1.0435   -0.2466   -0.0266 C   0  0  0  0  0  0  0  0  0  0  0  0\n",
      "    0.2104   -0.9922   -0.3417 C   0  0  0  0  0  0  0  0  0  0  0  0\n",
      "    1.4182    0.7667   -0.9782 H   0  0  0  0  0  0  0  0  0  0  0  0\n",
      "    1.8181    0.1486    0.6820 H   0  0  0  0  0  0  0  0  0  0  0  0\n",
      "   -0.1697    1.0826    1.5236 H   0  0  0  0  0  0  0  0  0  0  0  0\n",
      "   -0.5336    1.8391   -0.1051 H   0  0  0  0  0  0  0  0  0  0  0  0\n",
      "   -1.6809   -0.0600   -0.8987 H   0  0  0  0  0  0  0  0  0  0  0  0\n",
      "   -1.6501   -0.6194    0.8220 H   0  0  0  0  0  0  0  0  0  0  0  0\n",
      "    0.4659   -1.7768    0.3858 H   0  0  0  0  0  0  0  0  0  0  0  0\n",
      "    0.3439   -1.3147   -1.3988 H   0  0  0  0  0  0  0  0  0  0  0  0\n",
      "  1  2  1  0\n",
      "  2  3  1  0\n",
      "  3  4  1  0\n",
      "  4  1  1  0\n",
      "  1  5  1  0\n",
      "  1  6  1  0\n",
      "  2  7  1  0\n",
      "  2  8  1  0\n",
      "  3  9  1  0\n",
      "  3 10  1  0\n",
      "  4 11  1  0\n",
      "  4 12  1  0\n",
      "M  END\n",
      "\n"
     ]
    }
   ],
   "source": [
    "print(Chem.MolToMolBlock(m3))"
   ]
  },
  {
   "cell_type": "code",
   "execution_count": 64,
   "id": "14edc602",
   "metadata": {},
   "outputs": [
    {
     "data": {
      "image/png": "[encoded data removed]",
      "text/plain": [
       "<rdkit.Chem.rdchem.Mol at 0x7f0ca490d230>"
      ]
     },
     "execution_count": 64,
     "metadata": {},
     "output_type": "execute_result"
    }
   ],
   "source": [
    "m3"
   ]
  },
  {
   "cell_type": "code",
   "execution_count": 65,
   "id": "b8745561",
   "metadata": {},
   "outputs": [
    {
     "name": "stdout",
     "output_type": "stream",
     "text": [
      "\n",
      "     RDKit          3D\n",
      "\n",
      "  4  4  0  0  0  0  0  0  0  0999 V2000\n",
      "    1.0256    0.2491   -0.0964 C   0  0  0  0  0  0  0  0  0  0  0  0\n",
      "   -0.2041    0.9236    0.4320 C   0  0  0  0  0  0  0  0  0  0  0  0\n",
      "   -1.0435   -0.2466   -0.0266 C   0  0  0  0  0  0  0  0  0  0  0  0\n",
      "    0.2104   -0.9922   -0.3417 C   0  0  0  0  0  0  0  0  0  0  0  0\n",
      "  1  2  1  0\n",
      "  2  3  1  0\n",
      "  3  4  1  0\n",
      "  4  1  1  0\n",
      "M  END\n",
      "\n"
     ]
    }
   ],
   "source": [
    "# Para remover usa-se:\n",
    "\n",
    "m3 = Chem.RemoveHs(m3)\n",
    "print(Chem.MolToMolBlock(m3))"
   ]
  },
  {
   "cell_type": "markdown",
   "id": "e6922cd7",
   "metadata": {},
   "source": [
    "Se quiser escrever em um arquivo de saída, pode usar o objeto de arquivo Python como segue:"
   ]
  },
  {
   "cell_type": "code",
   "execution_count": 66,
   "id": "83fc8b72",
   "metadata": {},
   "outputs": [],
   "source": [
    "print(Chem.MolToMolBlock(m2),file=open('data/ciclobutano.mol','w+'))"
   ]
  },
  {
   "cell_type": "code",
   "execution_count": null,
   "id": "612b310f",
   "metadata": {},
   "outputs": [],
   "source": []
  }
 ],
 "metadata": {
  "kernelspec": {
   "display_name": "Python 3 (ipykernel)",
   "language": "python",
   "name": "python3"
  },
  "language_info": {
   "codemirror_mode": {
    "name": "ipython",
    "version": 3
   },
   "file_extension": ".py",
   "mimetype": "text/x-python",
   "name": "python",
   "nbconvert_exporter": "python",
   "pygments_lexer": "ipython3",
   "version": "3.11.3"
  }
 },
 "nbformat": 4,
 "nbformat_minor": 5
}
