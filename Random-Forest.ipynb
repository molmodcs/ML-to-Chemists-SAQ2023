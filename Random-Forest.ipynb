{
 "cells": [
  {
   "cell_type": "markdown",
   "id": "611763ce",
   "metadata": {},
   "source": [
    "## Métodos de Aprendizado de Máquina em Química\n",
    " \n",
    "Prof. Luciano T. Costa \\\n",
    "e-mail: ltcosta@id.uff.br \\\n",
    "Departamento de Físico-Química \\\n",
    "Sala 309 \\\n",
    "Prof. Eduardo Krampser \\\n",
    "e-mail: eduardo.krempser@fiocruz.br \\\n",
    "MolMod-CS: www.molmodcs.uff.br \\\n",
    "Facebook: https://www.facebook.com/molmodcs \\\n",
    "Linkedin: https://www.linkedin.com/in/luciano-t-costa-90a85a164/ "
   ]
  },
  {
   "cell_type": "code",
   "execution_count": null,
   "id": "ac8d7044",
   "metadata": {},
   "outputs": [],
   "source": [
    "import pandas as pd\n",
    "import numpy as np\n",
    "from sklearn.tree import DecisionTreeClassifier \n",
    "from sklearn.model_selection import train_test_split\n",
    "from matplotlib import pyplot as plt\n",
    "from sklearn import tree\n",
    "from sklearn.model_selection import GridSearchCV\n",
    "from sklearn.metrics import classification_report, confusion_matrix, accuracy_score, matthews_corrcoef\n",
    "from sklearn.preprocessing import StandardScaler\n",
    "from sklearn.ensemble import RandomForestClassifier"
   ]
  },
  {
   "cell_type": "markdown",
   "id": "b3f057a7",
   "metadata": {},
   "source": [
    "**Random Forest**\n",
    "\n",
    "A Random Forest é um exemplo dentre os métodos chamados de \"ensemble\", ou seja, seu resultado é baseado na combinação de diversos outros modelos, no caso da Random Forest, na combinação da predição realizada por diferentes árvores de decisão.\n",
    "\n",
    "Os métodos de ensemble são, em geral, mais robustos às inconsistências dos dados e por isso podem apresentar maior capacidade de generalização. No caso da Random Forest, além da geração combinada de inúmeras árvores de decisão, seus mecanismos de particionamento de dados e atributos ampliam sua robustes frente aos ruídos e vieses da coleta de dados."
   ]
  },
  {
   "cell_type": "markdown",
   "id": "0c76897e",
   "metadata": {},
   "source": [
    "Nesse exemplo usamos o conjunto de dados disponível em [https://www.openml.org/d/1494], contendo 41 atributos (descritores moleculares) usados para classificar 1055 moléculas em duas classes (biodegradáveis prontas e não prontas)."
   ]
  },
  {
   "cell_type": "code",
   "execution_count": 25,
   "id": "4027de6b",
   "metadata": {},
   "outputs": [
    {
     "data": {
      "text/html": [
       "<div>\n",
       "<style scoped>\n",
       "    .dataframe tbody tr th:only-of-type {\n",
       "        vertical-align: middle;\n",
       "    }\n",
       "\n",
       "    .dataframe tbody tr th {\n",
       "        vertical-align: top;\n",
       "    }\n",
       "\n",
       "    .dataframe thead th {\n",
       "        text-align: right;\n",
       "    }\n",
       "</style>\n",
       "<table border=\"1\" class=\"dataframe\">\n",
       "  <thead>\n",
       "    <tr style=\"text-align: right;\">\n",
       "      <th></th>\n",
       "      <th>V1</th>\n",
       "      <th>V2</th>\n",
       "      <th>V3</th>\n",
       "      <th>V4</th>\n",
       "      <th>V5</th>\n",
       "      <th>V6</th>\n",
       "      <th>V7</th>\n",
       "      <th>V8</th>\n",
       "      <th>V9</th>\n",
       "      <th>V10</th>\n",
       "      <th>...</th>\n",
       "      <th>V33</th>\n",
       "      <th>V34</th>\n",
       "      <th>V35</th>\n",
       "      <th>V36</th>\n",
       "      <th>V37</th>\n",
       "      <th>V38</th>\n",
       "      <th>V39</th>\n",
       "      <th>V40</th>\n",
       "      <th>V41</th>\n",
       "      <th>Class</th>\n",
       "    </tr>\n",
       "  </thead>\n",
       "  <tbody>\n",
       "    <tr>\n",
       "      <th>0</th>\n",
       "      <td>3.919</td>\n",
       "      <td>2.6909</td>\n",
       "      <td>0</td>\n",
       "      <td>0</td>\n",
       "      <td>0</td>\n",
       "      <td>0</td>\n",
       "      <td>0</td>\n",
       "      <td>31.4</td>\n",
       "      <td>2</td>\n",
       "      <td>0</td>\n",
       "      <td>...</td>\n",
       "      <td>0</td>\n",
       "      <td>0</td>\n",
       "      <td>0</td>\n",
       "      <td>2.949</td>\n",
       "      <td>1.591</td>\n",
       "      <td>0</td>\n",
       "      <td>7.253</td>\n",
       "      <td>0</td>\n",
       "      <td>0</td>\n",
       "      <td>2</td>\n",
       "    </tr>\n",
       "    <tr>\n",
       "      <th>1</th>\n",
       "      <td>4.170</td>\n",
       "      <td>2.1144</td>\n",
       "      <td>0</td>\n",
       "      <td>0</td>\n",
       "      <td>0</td>\n",
       "      <td>0</td>\n",
       "      <td>0</td>\n",
       "      <td>30.8</td>\n",
       "      <td>1</td>\n",
       "      <td>1</td>\n",
       "      <td>...</td>\n",
       "      <td>0</td>\n",
       "      <td>0</td>\n",
       "      <td>0</td>\n",
       "      <td>3.315</td>\n",
       "      <td>1.967</td>\n",
       "      <td>0</td>\n",
       "      <td>7.257</td>\n",
       "      <td>0</td>\n",
       "      <td>0</td>\n",
       "      <td>2</td>\n",
       "    </tr>\n",
       "    <tr>\n",
       "      <th>2</th>\n",
       "      <td>3.932</td>\n",
       "      <td>3.2512</td>\n",
       "      <td>0</td>\n",
       "      <td>0</td>\n",
       "      <td>0</td>\n",
       "      <td>0</td>\n",
       "      <td>0</td>\n",
       "      <td>26.7</td>\n",
       "      <td>2</td>\n",
       "      <td>4</td>\n",
       "      <td>...</td>\n",
       "      <td>0</td>\n",
       "      <td>0</td>\n",
       "      <td>1</td>\n",
       "      <td>3.076</td>\n",
       "      <td>2.417</td>\n",
       "      <td>0</td>\n",
       "      <td>7.601</td>\n",
       "      <td>0</td>\n",
       "      <td>0</td>\n",
       "      <td>2</td>\n",
       "    </tr>\n",
       "    <tr>\n",
       "      <th>3</th>\n",
       "      <td>3.000</td>\n",
       "      <td>2.7098</td>\n",
       "      <td>0</td>\n",
       "      <td>0</td>\n",
       "      <td>0</td>\n",
       "      <td>0</td>\n",
       "      <td>0</td>\n",
       "      <td>20.0</td>\n",
       "      <td>0</td>\n",
       "      <td>2</td>\n",
       "      <td>...</td>\n",
       "      <td>0</td>\n",
       "      <td>0</td>\n",
       "      <td>1</td>\n",
       "      <td>3.046</td>\n",
       "      <td>5.000</td>\n",
       "      <td>0</td>\n",
       "      <td>6.690</td>\n",
       "      <td>0</td>\n",
       "      <td>0</td>\n",
       "      <td>2</td>\n",
       "    </tr>\n",
       "    <tr>\n",
       "      <th>4</th>\n",
       "      <td>4.236</td>\n",
       "      <td>3.3944</td>\n",
       "      <td>0</td>\n",
       "      <td>0</td>\n",
       "      <td>0</td>\n",
       "      <td>0</td>\n",
       "      <td>0</td>\n",
       "      <td>29.4</td>\n",
       "      <td>2</td>\n",
       "      <td>4</td>\n",
       "      <td>...</td>\n",
       "      <td>0</td>\n",
       "      <td>0</td>\n",
       "      <td>0</td>\n",
       "      <td>3.351</td>\n",
       "      <td>2.405</td>\n",
       "      <td>0</td>\n",
       "      <td>8.003</td>\n",
       "      <td>0</td>\n",
       "      <td>0</td>\n",
       "      <td>2</td>\n",
       "    </tr>\n",
       "  </tbody>\n",
       "</table>\n",
       "<p>5 rows × 42 columns</p>\n",
       "</div>"
      ],
      "text/plain": [
       "      V1      V2  V3  V4  V5  V6  V7    V8  V9  V10  ...  V33  V34  V35  \\\n",
       "0  3.919  2.6909   0   0   0   0   0  31.4   2    0  ...    0    0    0   \n",
       "1  4.170  2.1144   0   0   0   0   0  30.8   1    1  ...    0    0    0   \n",
       "2  3.932  3.2512   0   0   0   0   0  26.7   2    4  ...    0    0    1   \n",
       "3  3.000  2.7098   0   0   0   0   0  20.0   0    2  ...    0    0    1   \n",
       "4  4.236  3.3944   0   0   0   0   0  29.4   2    4  ...    0    0    0   \n",
       "\n",
       "     V36    V37  V38    V39  V40  V41  Class  \n",
       "0  2.949  1.591    0  7.253    0    0      2  \n",
       "1  3.315  1.967    0  7.257    0    0      2  \n",
       "2  3.076  2.417    0  7.601    0    0      2  \n",
       "3  3.046  5.000    0  6.690    0    0      2  \n",
       "4  3.351  2.405    0  8.003    0    0      2  \n",
       "\n",
       "[5 rows x 42 columns]"
      ]
     },
     "execution_count": 25,
     "metadata": {},
     "output_type": "execute_result"
    }
   ],
   "source": [
    "datafile = \"data/qsar-biodeg.csv\"\n",
    "df = pd.read_csv(datafile, header = 0)\n",
    "df.head()"
   ]
  },
  {
   "cell_type": "code",
   "execution_count": 26,
   "id": "ee0e4fec",
   "metadata": {},
   "outputs": [],
   "source": [
    "x = df.loc[:, df.columns != 'Class']\n",
    "y = df.Class"
   ]
  },
  {
   "cell_type": "code",
   "execution_count": 27,
   "id": "3164ba1b",
   "metadata": {},
   "outputs": [],
   "source": [
    "x_train, x_test, y_train, y_test = train_test_split(x, y, test_size=0.3, random_state=1) "
   ]
  },
  {
   "cell_type": "markdown",
   "id": "d0dda11b",
   "metadata": {},
   "source": [
    "O método de Random Forest possui diversos hiperparâmetros, entre os principais:\n",
    "- n_estimators: número de árvores de decisão a serem geradas;\n",
    "- criterion: medida a ser usada para a avaliar a qualidade da separação dos dados após o teste de cada nó (exemplo 'gini');\n",
    "- max_depth: Profundidade máxima de cada árvore de decisão;\n",
    "- max_features: O número de atributos a serem considerados ao procurar a melhor divisão"
   ]
  },
  {
   "cell_type": "code",
   "execution_count": 29,
   "id": "af6745a5",
   "metadata": {},
   "outputs": [],
   "source": [
    "classifier = RandomForestClassifier(n_estimators=100) #Random Forest\n",
    "classifier = classifier.fit(x_train,y_train)\n",
    "y_pred = classifier.predict(x_test)"
   ]
  },
  {
   "cell_type": "code",
   "execution_count": 30,
   "id": "952d1e7a",
   "metadata": {},
   "outputs": [
    {
     "name": "stdout",
     "output_type": "stream",
     "text": [
      "Accuracy: 0.8580441640378549\n",
      "              precision    recall  f1-score   support\n",
      "\n",
      "           1       0.85      0.95      0.90       206\n",
      "           2       0.88      0.69      0.77       111\n",
      "\n",
      "    accuracy                           0.86       317\n",
      "   macro avg       0.86      0.82      0.84       317\n",
      "weighted avg       0.86      0.86      0.85       317\n",
      "\n",
      "[[195  11]\n",
      " [ 34  77]]\n"
     ]
    }
   ],
   "source": [
    "print(\"Accuracy:\",accuracy_score(y_test, y_pred))\n",
    "print(classification_report(y_test, y_pred))\n",
    "print(confusion_matrix(y_test, y_pred)) "
   ]
  },
  {
   "cell_type": "markdown",
   "id": "8bd8b485",
   "metadata": {},
   "source": [
    "**Interpretação dos modelos**\n",
    "\n",
    "Além da avaliação estatística dos modelos, todo resultado deve ser interpretado em sua qualidade e viabilidade sobre o domínio da aplicação. Um dos possíveis caminhos no suporte da interpretação dos modelos preditivos gerados é a análise sobre o impacto de cada atributo sobre o modelo final. \n",
    "\n",
    "Um método simples é a apresentação da importância dos atributos segundo o modelo de Random Forest gerado."
   ]
  },
  {
   "cell_type": "code",
   "execution_count": 31,
   "id": "98dfb333",
   "metadata": {},
   "outputs": [
    {
     "data": {
      "text/plain": [
       "array([0.06558648, 0.03467825, 0.01239179, 0.00129024, 0.02007579,\n",
       "       0.01276696, 0.01880859, 0.02824048, 0.023975  , 0.0267852 ,\n",
       "       0.0192093 , 0.03813239, 0.03697114, 0.02731956, 0.03531084,\n",
       "       0.02725735, 0.02548698, 0.03449459, 0.00125851, 0.00064135,\n",
       "       0.00012661, 0.06282054, 0.01063272, 0.00069103, 0.00181771,\n",
       "       0.00039145, 0.04591452, 0.01991149, 0.00036868, 0.02965624,\n",
       "       0.02882052, 0.00426298, 0.01549384, 0.02566884, 0.00999472,\n",
       "       0.10279887, 0.03035618, 0.02875074, 0.07141693, 0.00967168,\n",
       "       0.00975291])"
      ]
     },
     "execution_count": 31,
     "metadata": {},
     "output_type": "execute_result"
    }
   ],
   "source": [
    "classifier.feature_importances_"
   ]
  },
  {
   "cell_type": "code",
   "execution_count": 32,
   "id": "e3b5e28b",
   "metadata": {},
   "outputs": [
    {
     "data": {
      "text/plain": [
       "V36    0.102799\n",
       "V39    0.071417\n",
       "V1     0.065586\n",
       "V22    0.062821\n",
       "V27    0.045915\n",
       "V12    0.038132\n",
       "V13    0.036971\n",
       "V15    0.035311\n",
       "V2     0.034678\n",
       "V18    0.034495\n",
       "V37    0.030356\n",
       "V30    0.029656\n",
       "V31    0.028821\n",
       "V38    0.028751\n",
       "V8     0.028240\n",
       "V14    0.027320\n",
       "V16    0.027257\n",
       "V10    0.026785\n",
       "V34    0.025669\n",
       "V17    0.025487\n",
       "V9     0.023975\n",
       "V5     0.020076\n",
       "V28    0.019911\n",
       "V11    0.019209\n",
       "V7     0.018809\n",
       "V33    0.015494\n",
       "V6     0.012767\n",
       "V3     0.012392\n",
       "V23    0.010633\n",
       "V35    0.009995\n",
       "V41    0.009753\n",
       "V40    0.009672\n",
       "V32    0.004263\n",
       "V25    0.001818\n",
       "V4     0.001290\n",
       "V19    0.001259\n",
       "V24    0.000691\n",
       "V20    0.000641\n",
       "V26    0.000391\n",
       "V29    0.000369\n",
       "V21    0.000127\n",
       "dtype: float64"
      ]
     },
     "execution_count": 32,
     "metadata": {},
     "output_type": "execute_result"
    }
   ],
   "source": [
    "#Importância dos atributos\n",
    "feature_imp = pd.Series(classifier.feature_importances_,index=x.columns).sort_values(ascending=False)\n",
    "feature_imp"
   ]
  },
  {
   "cell_type": "code",
   "execution_count": 33,
   "id": "41cd8a8e",
   "metadata": {},
   "outputs": [
    {
     "data": {
      "text/plain": [
       "<BarContainer object of 41 artists>"
      ]
     },
     "execution_count": 33,
     "metadata": {},
     "output_type": "execute_result"
    },
    {
     "data": {
      "image/png": "[encoded data removed]",
      "text/plain": [
       "<Figure size 1080x2160 with 1 Axes>"
      ]
     },
     "metadata": {
      "needs_background": "light"
     },
     "output_type": "display_data"
    }
   ],
   "source": [
    "sorted_idx = classifier.feature_importances_.argsort()\n",
    "classifier.feature_importances_[sorted_idx]\n",
    "plt.figure(figsize=(15,30))\n",
    "plt.barh(x.columns, classifier.feature_importances_[sorted_idx])"
   ]
  },
  {
   "cell_type": "markdown",
   "id": "bed25976",
   "metadata": {},
   "source": [
    "**Desbalanceamento de Dados**\n",
    "\n",
    "Dentre os grandes desafios na aplicação de métodos de Aprendizado de Máquina está o desbalanceamento de dados, considerando que na maioria das situações práticas não possuímos as classes de interesse igualmente representadas. Observando o gráfico a seguir devemos nos perguntar, o que significa 80% de acurácia sobre esse conjunto de dados? Esse percentual possui o mesmo impacto caso a resposta do modelo seja a classe 1 ou a 2?"
   ]
  },
  {
   "cell_type": "code",
   "execution_count": 9,
   "id": "42903672",
   "metadata": {},
   "outputs": [
    {
     "data": {
      "image/png": "[encoded data removed]",
      "text/plain": [
       "<Figure size 432x288 with 1 Axes>"
      ]
     },
     "metadata": {
      "needs_background": "light"
     },
     "output_type": "display_data"
    }
   ],
   "source": [
    "classes = y_train\n",
    "unique, counts = np.unique(classes, return_counts=True)\n",
    "\n",
    "plt.bar(unique,counts)\n",
    "plt.title('Class Frequency')\n",
    "plt.xlabel('Class')\n",
    "plt.ylabel('Frequency')\n",
    "plt.show()"
   ]
  },
  {
   "cell_type": "markdown",
   "id": "3fa088bd",
   "metadata": {},
   "source": [
    "Nessas situações as medidas de avaliação e de treinamento dos modelos devem ser adequados. Uma possível solução é o tratamento dos dados de entrada, forçando-os para uma mais similar representação das classes. \n",
    "Um solução simplificada é a redução dos dados associados com a classe majoritária até a proximidade do quantitativo de dados da classe minoritária, técnica conhecida como 'undersample'."
   ]
  },
  {
   "cell_type": "code",
   "execution_count": 34,
   "id": "219a086c",
   "metadata": {},
   "outputs": [],
   "source": [
    "resample_1_index = df.Class[df.Class.eq(1)].sample(245).index\n",
    "resample_2_index = df.Class[df.Class.eq(2)].sample(245).index\n",
    "\n",
    "df = df.loc[resample_1_index.union(resample_2_index)]"
   ]
  },
  {
   "cell_type": "code",
   "execution_count": 35,
   "id": "8ea357f5",
   "metadata": {},
   "outputs": [
    {
     "data": {
      "text/html": [
       "<div>\n",
       "<style scoped>\n",
       "    .dataframe tbody tr th:only-of-type {\n",
       "        vertical-align: middle;\n",
       "    }\n",
       "\n",
       "    .dataframe tbody tr th {\n",
       "        vertical-align: top;\n",
       "    }\n",
       "\n",
       "    .dataframe thead th {\n",
       "        text-align: right;\n",
       "    }\n",
       "</style>\n",
       "<table border=\"1\" class=\"dataframe\">\n",
       "  <thead>\n",
       "    <tr style=\"text-align: right;\">\n",
       "      <th></th>\n",
       "      <th>V1</th>\n",
       "      <th>V2</th>\n",
       "      <th>V3</th>\n",
       "      <th>V4</th>\n",
       "      <th>V5</th>\n",
       "      <th>V6</th>\n",
       "      <th>V7</th>\n",
       "      <th>V8</th>\n",
       "      <th>V9</th>\n",
       "      <th>V10</th>\n",
       "      <th>...</th>\n",
       "      <th>V33</th>\n",
       "      <th>V34</th>\n",
       "      <th>V35</th>\n",
       "      <th>V36</th>\n",
       "      <th>V37</th>\n",
       "      <th>V38</th>\n",
       "      <th>V39</th>\n",
       "      <th>V40</th>\n",
       "      <th>V41</th>\n",
       "      <th>Class</th>\n",
       "    </tr>\n",
       "  </thead>\n",
       "  <tbody>\n",
       "    <tr>\n",
       "      <th>0</th>\n",
       "      <td>3.919</td>\n",
       "      <td>2.6909</td>\n",
       "      <td>0</td>\n",
       "      <td>0</td>\n",
       "      <td>0</td>\n",
       "      <td>0</td>\n",
       "      <td>0</td>\n",
       "      <td>31.4</td>\n",
       "      <td>2</td>\n",
       "      <td>0</td>\n",
       "      <td>...</td>\n",
       "      <td>0</td>\n",
       "      <td>0</td>\n",
       "      <td>0</td>\n",
       "      <td>2.949</td>\n",
       "      <td>1.591</td>\n",
       "      <td>0</td>\n",
       "      <td>7.253</td>\n",
       "      <td>0</td>\n",
       "      <td>0</td>\n",
       "      <td>2</td>\n",
       "    </tr>\n",
       "    <tr>\n",
       "      <th>1</th>\n",
       "      <td>4.170</td>\n",
       "      <td>2.1144</td>\n",
       "      <td>0</td>\n",
       "      <td>0</td>\n",
       "      <td>0</td>\n",
       "      <td>0</td>\n",
       "      <td>0</td>\n",
       "      <td>30.8</td>\n",
       "      <td>1</td>\n",
       "      <td>1</td>\n",
       "      <td>...</td>\n",
       "      <td>0</td>\n",
       "      <td>0</td>\n",
       "      <td>0</td>\n",
       "      <td>3.315</td>\n",
       "      <td>1.967</td>\n",
       "      <td>0</td>\n",
       "      <td>7.257</td>\n",
       "      <td>0</td>\n",
       "      <td>0</td>\n",
       "      <td>2</td>\n",
       "    </tr>\n",
       "    <tr>\n",
       "      <th>2</th>\n",
       "      <td>3.932</td>\n",
       "      <td>3.2512</td>\n",
       "      <td>0</td>\n",
       "      <td>0</td>\n",
       "      <td>0</td>\n",
       "      <td>0</td>\n",
       "      <td>0</td>\n",
       "      <td>26.7</td>\n",
       "      <td>2</td>\n",
       "      <td>4</td>\n",
       "      <td>...</td>\n",
       "      <td>0</td>\n",
       "      <td>0</td>\n",
       "      <td>1</td>\n",
       "      <td>3.076</td>\n",
       "      <td>2.417</td>\n",
       "      <td>0</td>\n",
       "      <td>7.601</td>\n",
       "      <td>0</td>\n",
       "      <td>0</td>\n",
       "      <td>2</td>\n",
       "    </tr>\n",
       "    <tr>\n",
       "      <th>4</th>\n",
       "      <td>4.236</td>\n",
       "      <td>3.3944</td>\n",
       "      <td>0</td>\n",
       "      <td>0</td>\n",
       "      <td>0</td>\n",
       "      <td>0</td>\n",
       "      <td>0</td>\n",
       "      <td>29.4</td>\n",
       "      <td>2</td>\n",
       "      <td>4</td>\n",
       "      <td>...</td>\n",
       "      <td>0</td>\n",
       "      <td>0</td>\n",
       "      <td>0</td>\n",
       "      <td>3.351</td>\n",
       "      <td>2.405</td>\n",
       "      <td>0</td>\n",
       "      <td>8.003</td>\n",
       "      <td>0</td>\n",
       "      <td>0</td>\n",
       "      <td>2</td>\n",
       "    </tr>\n",
       "    <tr>\n",
       "      <th>5</th>\n",
       "      <td>4.236</td>\n",
       "      <td>3.4286</td>\n",
       "      <td>0</td>\n",
       "      <td>0</td>\n",
       "      <td>0</td>\n",
       "      <td>0</td>\n",
       "      <td>0</td>\n",
       "      <td>28.6</td>\n",
       "      <td>2</td>\n",
       "      <td>4</td>\n",
       "      <td>...</td>\n",
       "      <td>0</td>\n",
       "      <td>0</td>\n",
       "      <td>0</td>\n",
       "      <td>3.351</td>\n",
       "      <td>2.556</td>\n",
       "      <td>0</td>\n",
       "      <td>7.904</td>\n",
       "      <td>0</td>\n",
       "      <td>0</td>\n",
       "      <td>2</td>\n",
       "    </tr>\n",
       "    <tr>\n",
       "      <th>...</th>\n",
       "      <td>...</td>\n",
       "      <td>...</td>\n",
       "      <td>...</td>\n",
       "      <td>...</td>\n",
       "      <td>...</td>\n",
       "      <td>...</td>\n",
       "      <td>...</td>\n",
       "      <td>...</td>\n",
       "      <td>...</td>\n",
       "      <td>...</td>\n",
       "      <td>...</td>\n",
       "      <td>...</td>\n",
       "      <td>...</td>\n",
       "      <td>...</td>\n",
       "      <td>...</td>\n",
       "      <td>...</td>\n",
       "      <td>...</td>\n",
       "      <td>...</td>\n",
       "      <td>...</td>\n",
       "      <td>...</td>\n",
       "      <td>...</td>\n",
       "    </tr>\n",
       "    <tr>\n",
       "      <th>1035</th>\n",
       "      <td>5.262</td>\n",
       "      <td>4.5221</td>\n",
       "      <td>1</td>\n",
       "      <td>0</td>\n",
       "      <td>0</td>\n",
       "      <td>0</td>\n",
       "      <td>0</td>\n",
       "      <td>28.3</td>\n",
       "      <td>3</td>\n",
       "      <td>4</td>\n",
       "      <td>...</td>\n",
       "      <td>0</td>\n",
       "      <td>0</td>\n",
       "      <td>0</td>\n",
       "      <td>4.415</td>\n",
       "      <td>2.115</td>\n",
       "      <td>0</td>\n",
       "      <td>9.152</td>\n",
       "      <td>0</td>\n",
       "      <td>0</td>\n",
       "      <td>1</td>\n",
       "    </tr>\n",
       "    <tr>\n",
       "      <th>1041</th>\n",
       "      <td>5.388</td>\n",
       "      <td>3.3114</td>\n",
       "      <td>0</td>\n",
       "      <td>0</td>\n",
       "      <td>0</td>\n",
       "      <td>1</td>\n",
       "      <td>3</td>\n",
       "      <td>39.3</td>\n",
       "      <td>4</td>\n",
       "      <td>1</td>\n",
       "      <td>...</td>\n",
       "      <td>1</td>\n",
       "      <td>0</td>\n",
       "      <td>1</td>\n",
       "      <td>3.780</td>\n",
       "      <td>2.188</td>\n",
       "      <td>0</td>\n",
       "      <td>8.357</td>\n",
       "      <td>0</td>\n",
       "      <td>0</td>\n",
       "      <td>1</td>\n",
       "    </tr>\n",
       "    <tr>\n",
       "      <th>1042</th>\n",
       "      <td>4.970</td>\n",
       "      <td>3.3797</td>\n",
       "      <td>0</td>\n",
       "      <td>0</td>\n",
       "      <td>0</td>\n",
       "      <td>0</td>\n",
       "      <td>4</td>\n",
       "      <td>40.9</td>\n",
       "      <td>3</td>\n",
       "      <td>1</td>\n",
       "      <td>...</td>\n",
       "      <td>1</td>\n",
       "      <td>0</td>\n",
       "      <td>1</td>\n",
       "      <td>3.774</td>\n",
       "      <td>2.267</td>\n",
       "      <td>0</td>\n",
       "      <td>8.239</td>\n",
       "      <td>0</td>\n",
       "      <td>0</td>\n",
       "      <td>1</td>\n",
       "    </tr>\n",
       "    <tr>\n",
       "      <th>1048</th>\n",
       "      <td>5.265</td>\n",
       "      <td>3.3444</td>\n",
       "      <td>2</td>\n",
       "      <td>0</td>\n",
       "      <td>6</td>\n",
       "      <td>0</td>\n",
       "      <td>1</td>\n",
       "      <td>35.3</td>\n",
       "      <td>2</td>\n",
       "      <td>3</td>\n",
       "      <td>...</td>\n",
       "      <td>0</td>\n",
       "      <td>3</td>\n",
       "      <td>0</td>\n",
       "      <td>4.698</td>\n",
       "      <td>2.463</td>\n",
       "      <td>2</td>\n",
       "      <td>9.666</td>\n",
       "      <td>0</td>\n",
       "      <td>0</td>\n",
       "      <td>1</td>\n",
       "    </tr>\n",
       "    <tr>\n",
       "      <th>1052</th>\n",
       "      <td>4.869</td>\n",
       "      <td>1.7670</td>\n",
       "      <td>0</td>\n",
       "      <td>1</td>\n",
       "      <td>9</td>\n",
       "      <td>0</td>\n",
       "      <td>5</td>\n",
       "      <td>44.4</td>\n",
       "      <td>0</td>\n",
       "      <td>4</td>\n",
       "      <td>...</td>\n",
       "      <td>4</td>\n",
       "      <td>13</td>\n",
       "      <td>0</td>\n",
       "      <td>3.848</td>\n",
       "      <td>2.576</td>\n",
       "      <td>5</td>\n",
       "      <td>9.537</td>\n",
       "      <td>1</td>\n",
       "      <td>0</td>\n",
       "      <td>1</td>\n",
       "    </tr>\n",
       "  </tbody>\n",
       "</table>\n",
       "<p>490 rows × 42 columns</p>\n",
       "</div>"
      ],
      "text/plain": [
       "         V1      V2  V3  V4  V5  V6  V7    V8  V9  V10  ...  V33  V34  V35  \\\n",
       "0     3.919  2.6909   0   0   0   0   0  31.4   2    0  ...    0    0    0   \n",
       "1     4.170  2.1144   0   0   0   0   0  30.8   1    1  ...    0    0    0   \n",
       "2     3.932  3.2512   0   0   0   0   0  26.7   2    4  ...    0    0    1   \n",
       "4     4.236  3.3944   0   0   0   0   0  29.4   2    4  ...    0    0    0   \n",
       "5     4.236  3.4286   0   0   0   0   0  28.6   2    4  ...    0    0    0   \n",
       "...     ...     ...  ..  ..  ..  ..  ..   ...  ..  ...  ...  ...  ...  ...   \n",
       "1035  5.262  4.5221   1   0   0   0   0  28.3   3    4  ...    0    0    0   \n",
       "1041  5.388  3.3114   0   0   0   1   3  39.3   4    1  ...    1    0    1   \n",
       "1042  4.970  3.3797   0   0   0   0   4  40.9   3    1  ...    1    0    1   \n",
       "1048  5.265  3.3444   2   0   6   0   1  35.3   2    3  ...    0    3    0   \n",
       "1052  4.869  1.7670   0   1   9   0   5  44.4   0    4  ...    4   13    0   \n",
       "\n",
       "        V36    V37  V38    V39  V40  V41  Class  \n",
       "0     2.949  1.591    0  7.253    0    0      2  \n",
       "1     3.315  1.967    0  7.257    0    0      2  \n",
       "2     3.076  2.417    0  7.601    0    0      2  \n",
       "4     3.351  2.405    0  8.003    0    0      2  \n",
       "5     3.351  2.556    0  7.904    0    0      2  \n",
       "...     ...    ...  ...    ...  ...  ...    ...  \n",
       "1035  4.415  2.115    0  9.152    0    0      1  \n",
       "1041  3.780  2.188    0  8.357    0    0      1  \n",
       "1042  3.774  2.267    0  8.239    0    0      1  \n",
       "1048  4.698  2.463    2  9.666    0    0      1  \n",
       "1052  3.848  2.576    5  9.537    1    0      1  \n",
       "\n",
       "[490 rows x 42 columns]"
      ]
     },
     "execution_count": 35,
     "metadata": {},
     "output_type": "execute_result"
    }
   ],
   "source": [
    "df"
   ]
  },
  {
   "cell_type": "code",
   "execution_count": 36,
   "id": "6802945c",
   "metadata": {},
   "outputs": [],
   "source": [
    "x = df.loc[:, df.columns != 'Class']\n",
    "y = df.Class"
   ]
  },
  {
   "cell_type": "code",
   "execution_count": 37,
   "id": "da3e7edf",
   "metadata": {},
   "outputs": [],
   "source": [
    "x_train, x_test, y_train, y_test = train_test_split(x, y, test_size=0.3, random_state=1) "
   ]
  },
  {
   "cell_type": "code",
   "execution_count": 38,
   "id": "f81318b9",
   "metadata": {},
   "outputs": [
    {
     "data": {
      "image/png": "[encoded data removed]",
      "text/plain": [
       "<Figure size 432x288 with 1 Axes>"
      ]
     },
     "metadata": {
      "needs_background": "light"
     },
     "output_type": "display_data"
    }
   ],
   "source": [
    "classes = y_train\n",
    "unique, counts = np.unique(classes, return_counts=True)\n",
    "\n",
    "plt.bar(unique,counts)\n",
    "plt.title('Class Frequency')\n",
    "plt.xlabel('Class')\n",
    "plt.ylabel('Frequency')\n",
    "plt.show()"
   ]
  },
  {
   "cell_type": "code",
   "execution_count": 39,
   "id": "37b356d8",
   "metadata": {},
   "outputs": [],
   "source": [
    "classifier = RandomForestClassifier(n_estimators=100) #Random Forest\n",
    "classifier = classifier.fit(x_train,y_train)\n",
    "y_pred = classifier.predict(x_test)"
   ]
  },
  {
   "cell_type": "code",
   "execution_count": 40,
   "id": "cec99447",
   "metadata": {},
   "outputs": [
    {
     "name": "stdout",
     "output_type": "stream",
     "text": [
      "              precision    recall  f1-score   support\n",
      "\n",
      "           1       0.84      0.81      0.83        73\n",
      "           2       0.82      0.85      0.83        74\n",
      "\n",
      "    accuracy                           0.83       147\n",
      "   macro avg       0.83      0.83      0.83       147\n",
      "weighted avg       0.83      0.83      0.83       147\n",
      "\n"
     ]
    }
   ],
   "source": [
    "print(classification_report(y_test, y_pred))"
   ]
  },
  {
   "cell_type": "code",
   "execution_count": 41,
   "id": "4e8d536d",
   "metadata": {},
   "outputs": [
    {
     "name": "stdout",
     "output_type": "stream",
     "text": [
      "[[59 14]\n",
      " [11 63]]\n"
     ]
    }
   ],
   "source": [
    "print(confusion_matrix(y_test, y_pred)) "
   ]
  },
  {
   "cell_type": "code",
   "execution_count": 42,
   "id": "e7adf818",
   "metadata": {},
   "outputs": [],
   "source": [
    "y_predb = classifier.predict_proba(x_test)"
   ]
  },
  {
   "cell_type": "code",
   "execution_count": 43,
   "id": "dd2a138f",
   "metadata": {},
   "outputs": [
    {
     "data": {
      "text/plain": [
       "array([[0.69, 0.31],\n",
       "       [0.32, 0.68],\n",
       "       [0.02, 0.98],\n",
       "       [0.11, 0.89],\n",
       "       [0.75, 0.25],\n",
       "       [0.23, 0.77],\n",
       "       [0.89, 0.11],\n",
       "       [0.46, 0.54],\n",
       "       [0.01, 0.99],\n",
       "       [0.88, 0.12],\n",
       "       [0.62, 0.38],\n",
       "       [0.03, 0.97],\n",
       "       [0.97, 0.03],\n",
       "       [0.74, 0.26],\n",
       "       [0.86, 0.14],\n",
       "       [0.84, 0.16],\n",
       "       [0.5 , 0.5 ],\n",
       "       [0.94, 0.06],\n",
       "       [0.5 , 0.5 ],\n",
       "       [0.86, 0.14],\n",
       "       [0.83, 0.17],\n",
       "       [0.67, 0.33],\n",
       "       [0.55, 0.45],\n",
       "       [0.9 , 0.1 ],\n",
       "       [0.41, 0.59],\n",
       "       [0.18, 0.82],\n",
       "       [0.97, 0.03],\n",
       "       [0.  , 1.  ],\n",
       "       [0.73, 0.27],\n",
       "       [0.61, 0.39],\n",
       "       [0.33, 0.67],\n",
       "       [0.  , 1.  ],\n",
       "       [0.91, 0.09],\n",
       "       [0.05, 0.95],\n",
       "       [0.09, 0.91],\n",
       "       [0.31, 0.69],\n",
       "       [0.81, 0.19],\n",
       "       [0.67, 0.33],\n",
       "       [0.44, 0.56],\n",
       "       [0.96, 0.04],\n",
       "       [0.91, 0.09],\n",
       "       [0.08, 0.92],\n",
       "       [0.54, 0.46],\n",
       "       [0.24, 0.76],\n",
       "       [0.66, 0.34],\n",
       "       [0.04, 0.96],\n",
       "       [0.84, 0.16],\n",
       "       [0.88, 0.12],\n",
       "       [0.03, 0.97],\n",
       "       [0.17, 0.83],\n",
       "       [0.13, 0.87],\n",
       "       [0.43, 0.57],\n",
       "       [0.24, 0.76],\n",
       "       [0.78, 0.22],\n",
       "       [0.14, 0.86],\n",
       "       [0.89, 0.11],\n",
       "       [0.91, 0.09],\n",
       "       [0.22, 0.78],\n",
       "       [0.68, 0.32],\n",
       "       [0.41, 0.59],\n",
       "       [0.61, 0.39],\n",
       "       [0.21, 0.79],\n",
       "       [0.68, 0.32],\n",
       "       [0.89, 0.11],\n",
       "       [0.  , 1.  ],\n",
       "       [0.89, 0.11],\n",
       "       [0.05, 0.95],\n",
       "       [0.52, 0.48],\n",
       "       [0.53, 0.47],\n",
       "       [0.  , 1.  ],\n",
       "       [0.03, 0.97],\n",
       "       [0.95, 0.05],\n",
       "       [0.62, 0.38],\n",
       "       [0.39, 0.61],\n",
       "       [0.53, 0.47],\n",
       "       [0.12, 0.88],\n",
       "       [0.89, 0.11],\n",
       "       [0.31, 0.69],\n",
       "       [0.95, 0.05],\n",
       "       [0.78, 0.22],\n",
       "       [0.47, 0.53],\n",
       "       [0.89, 0.11],\n",
       "       [0.13, 0.87],\n",
       "       [0.96, 0.04],\n",
       "       [0.4 , 0.6 ],\n",
       "       [0.74, 0.26],\n",
       "       [0.99, 0.01],\n",
       "       [0.41, 0.59],\n",
       "       [0.13, 0.87],\n",
       "       [0.35, 0.65],\n",
       "       [0.85, 0.15],\n",
       "       [0.36, 0.64],\n",
       "       [0.1 , 0.9 ],\n",
       "       [0.3 , 0.7 ],\n",
       "       [0.99, 0.01],\n",
       "       [0.67, 0.33],\n",
       "       [0.91, 0.09],\n",
       "       [0.09, 0.91],\n",
       "       [0.41, 0.59],\n",
       "       [0.86, 0.14],\n",
       "       [0.88, 0.12],\n",
       "       [0.  , 1.  ],\n",
       "       [0.24, 0.76],\n",
       "       [0.42, 0.58],\n",
       "       [0.72, 0.28],\n",
       "       [0.12, 0.88],\n",
       "       [0.65, 0.35],\n",
       "       [0.6 , 0.4 ],\n",
       "       [0.31, 0.69],\n",
       "       [0.29, 0.71],\n",
       "       [0.2 , 0.8 ],\n",
       "       [0.07, 0.93],\n",
       "       [0.93, 0.07],\n",
       "       [0.07, 0.93],\n",
       "       [0.48, 0.52],\n",
       "       [0.17, 0.83],\n",
       "       [0.12, 0.88],\n",
       "       [0.54, 0.46],\n",
       "       [0.02, 0.98],\n",
       "       [0.01, 0.99],\n",
       "       [0.93, 0.07],\n",
       "       [0.92, 0.08],\n",
       "       [0.87, 0.13],\n",
       "       [0.76, 0.24],\n",
       "       [0.14, 0.86],\n",
       "       [0.09, 0.91],\n",
       "       [0.  , 1.  ],\n",
       "       [0.27, 0.73],\n",
       "       [0.45, 0.55],\n",
       "       [0.33, 0.67],\n",
       "       [0.01, 0.99],\n",
       "       [0.09, 0.91],\n",
       "       [0.95, 0.05],\n",
       "       [0.31, 0.69],\n",
       "       [0.75, 0.25],\n",
       "       [0.  , 1.  ],\n",
       "       [0.85, 0.15],\n",
       "       [0.28, 0.72],\n",
       "       [0.8 , 0.2 ],\n",
       "       [0.76, 0.24],\n",
       "       [0.11, 0.89],\n",
       "       [0.59, 0.41],\n",
       "       [0.34, 0.66],\n",
       "       [0.08, 0.92],\n",
       "       [0.33, 0.67],\n",
       "       [0.1 , 0.9 ],\n",
       "       [0.26, 0.74]])"
      ]
     },
     "execution_count": 43,
     "metadata": {},
     "output_type": "execute_result"
    }
   ],
   "source": [
    "y_predb"
   ]
  },
  {
   "cell_type": "markdown",
   "id": "7d7430bd",
   "metadata": {},
   "source": [
    "**Curva ROC**\n",
    "\n",
    "A Curva ROC nos permite avaliar a variação da sensibilidade e especificidade. "
   ]
  },
  {
   "cell_type": "code",
   "execution_count": 48,
   "id": "ee623da6",
   "metadata": {},
   "outputs": [],
   "source": [
    "from sklearn.metrics import RocCurveDisplay"
   ]
  },
  {
   "cell_type": "code",
   "execution_count": 49,
   "id": "53d5d229",
   "metadata": {},
   "outputs": [
    {
     "data": {
      "image/png": "[encoded data removed]",
      "text/plain": [
       "<Figure size 432x288 with 1 Axes>"
      ]
     },
     "metadata": {
      "needs_background": "light"
     },
     "output_type": "display_data"
    }
   ],
   "source": [
    "rfc_disp = RocCurveDisplay.from_estimator(classifier, x_test, y_test)"
   ]
  },
  {
   "cell_type": "code",
   "execution_count": 50,
   "id": "2387b22c",
   "metadata": {},
   "outputs": [],
   "source": [
    "from sklearn.svm import SVC\n",
    "svc = SVC(random_state=16)\n",
    "svc.fit(x_train, y_train)\n",
    "svc_disp = RocCurveDisplay.from_estimator(svc, x_test, y_test, ax=rfc_disp.ax_)"
   ]
  },
  {
   "cell_type": "code",
   "execution_count": 51,
   "id": "8149df0d",
   "metadata": {},
   "outputs": [
    {
     "data": {
      "image/png": "[encoded data removed]",
      "text/plain": [
       "<Figure size 432x288 with 1 Axes>"
      ]
     },
     "metadata": {
      "needs_background": "light"
     },
     "output_type": "display_data"
    }
   ],
   "source": [
    "ax = plt.gca()\n",
    "rfc_disp.plot(ax=ax, alpha=0.8)\n",
    "svc_disp.plot(ax=ax, alpha=0.8)\n",
    "plt.show()"
   ]
  }
 ],
 "metadata": {
  "kernelspec": {
   "display_name": "Python 3 (ipykernel)",
   "language": "python",
   "name": "python3"
  },
  "language_info": {
   "codemirror_mode": {
    "name": "ipython",
    "version": 3
   },
   "file_extension": ".py",
   "mimetype": "text/x-python",
   "name": "python",
   "nbconvert_exporter": "python",
   "pygments_lexer": "ipython3",
   "version": "3.11.3"
  }
 },
 "nbformat": 4,
 "nbformat_minor": 5
}
