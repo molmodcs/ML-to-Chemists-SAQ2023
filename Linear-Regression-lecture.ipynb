{
 "cells": [
  {
   "cell_type": "markdown",
   "id": "a54b781f",
   "metadata": {},
   "source": [
    "## Métodos de Aprendizagem de Máquina em Química\n",
    " \n",
    "Prof. Luciano T. Costa \\\n",
    "e-mail: ltcosta@id.uff.br \\\n",
    "Departamento de Físico-Química \\\n",
    "Sala 309 \\\n",
    "Prof. Eduardo Krampser \\\n",
    "e-mail: eduardo.krempser@fiocruz.br \\\n",
    "MolMod-CS: www.molmodcs.uff.br \\\n",
    "Facebook: https://www.facebook.com/molmodcs \\\n",
    "Linkedin: https://www.linkedin.com/in/luciano-t-costa-90a85a164/ "
   ]
  },
  {
   "cell_type": "markdown",
   "id": "24e0be9d",
   "metadata": {},
   "source": [
    "### O que é Regressão?\n",
    "\n",
    "- **Análise de Regressão** é um método estatístico para estimar a relação entre uma variável dependente e um ou mais variáveis independentes\n",
    "\n",
    "- Análise de Regressão é amplamente usada em diferentes áreas da ciência como Química, Física e Biologia, e também em Engenharia e Finanças. \n",
    "\n",
    "- Os principais usos de Regressão são:\n",
    "\n",
    "1) **Predição**: Prever um evento/fato/estado/objeto a partir de um conhecimento prévio\n",
    "2) **Inferência**: Determinar como um evento/fato/estado/objeto afeta a produção de outro\n",
    "\n",
    "- Quando usada para a predição, **Análise de Regressão** apresenta uma sobreposição relevante na área de **Aprendizado  de Máquina**"
   ]
  },
  {
   "cell_type": "markdown",
   "id": "9ad1359d",
   "metadata": {},
   "source": [
    "### Modelo Linear de Regressão\n",
    "\n",
    "$$ y = b_0 + b_1*x_1 + b_2*x_2 + \\cdots + b_n*x_n $$\n",
    "\n",
    "em que nesta equação temos:\n",
    "\n",
    "- y é o valor predito;\n",
    "- n é o número de atributos ou *features*;\n",
    "- $x_i$ é o iésimo valor do atributo ou *feature value*;\n",
    "- $b_j$ é o jésimo parâmetro do modelo (incluindo o termo de bias, $b_0$, e os  pesos dos atributos, ($b_1, b_2, \\cdots,b_n$)).\n",
    "\n",
    "Esta equação pdoe ser reescrita de forma vetorizada, como segue:\n",
    "\n",
    "$$ y = h_B(x) = \\textbf{B}.\\textbf{X} $$\n",
    "\n",
    "onde:\n",
    "\n",
    "- $\\textbf{B}$ é o vetor de parâmetros do modelo, contendo o termo de *bias* $b_0$ e os pesos dos atributos ou *features*, $b_1$ até $b_n$.\n",
    "- $\\textbf{X}$ é o vetor de atributos ou *features*, contendo $x_0$ a $x_n$ com $x_0$ sempre igual a 1. \n",
    "- $\\textbf{B}$.$\\textbf{X}$ é o produto dos vetores, que resulta em $b_0 x_0 + b_1 x_1 + \\cdots + b_n x_n$.\n",
    "- $h_B(x)$ é a função hipótese, usando o modelo de parâmetros $\\textbf{B}$. \n",
    "\n",
    "### NOTA IMPORTANTE:\n",
    "\n",
    "*Em aprendizado de Máquina, vetores são geralmente representados como vetores de coluna, que são matrizes 2D com uma única coluna. Se* $\\textbf{B}$ e $\\textbf{X}$ *então a predição é* $y = \\textbf{B}^{T} \\textbf{X}$, *onde* $\\textbf{B}^{T}$ *é a transposta de* $\\textbf{B}$ *(um vetor linha em vez de um vetor coluna)*\n",
    "\n",
    "### Como avaliar a performance de uma regressão? \n",
    "\n",
    "Uma medida típica de avaliação da performance de uma regressão é o erro da raiz quadrática média, RMSE (do inglês, *Root Mean Square Error*), dado por:\n",
    "\n",
    "$$ RMSE(X,h) = \\sqrt{\\frac{1}{m} \\sum_{i=1}^{m} \\left( h(x^{(i)}) - y^{(i)} \\right)^2} $$\n",
    "\n",
    "A depender dos dados e da dispersão da regressão, pode-se fazer uso erro absoluto médio, MAE (do inglês, *Mean Absolute Error*), dado por:\n",
    "\n",
    "$$ MAE(X,h) = \\frac{1}{m} \\sum_{i=1}^{m} | h(x^{(i)}) - y^{(i)} | $$\n",
    "\n",
    "ou na prática usa-se apenas o MSE, dado por:\n",
    "\n",
    "$$ MSE(X,h_B) = \\frac{1}{m} \\sum_{i=1}^{m} \\left( \\textbf{B}^{T} x^{(i)} - y^{(i)} \\right)^2 $$"
   ]
  },
  {
   "cell_type": "code",
   "execution_count": 1,
   "id": "8cf59023",
   "metadata": {},
   "outputs": [],
   "source": [
    "# Uploading the libraries we need"
   ]
  },
  {
   "cell_type": "code",
   "execution_count": 7,
   "id": "37f31887",
   "metadata": {},
   "outputs": [],
   "source": [
    "import numpy as np \n",
    "from sklearn.linear_model import LinearRegression"
   ]
  },
  {
   "cell_type": "markdown",
   "id": "421ad496",
   "metadata": {},
   "source": [
    "### Trabalhando com dados inseridos na mão"
   ]
  },
  {
   "cell_type": "code",
   "execution_count": 8,
   "id": "6685e5c4",
   "metadata": {},
   "outputs": [],
   "source": [
    "# Creating the dummy dataset x and y"
   ]
  },
  {
   "cell_type": "code",
   "execution_count": 9,
   "id": "2c0b83f8",
   "metadata": {},
   "outputs": [],
   "source": [
    "x = np.array([5, 15, 25, 35, 45, 55]).reshape((-1,1))\n",
    "y = np.array([5, 20, 14, 32, 22, 38])"
   ]
  },
  {
   "cell_type": "code",
   "execution_count": 10,
   "id": "27aba354",
   "metadata": {},
   "outputs": [
    {
     "name": "stdout",
     "output_type": "stream",
     "text": [
      "(6, 1)\n"
     ]
    }
   ],
   "source": [
    "print(x.shape)"
   ]
  },
  {
   "cell_type": "code",
   "execution_count": 11,
   "id": "c0cdcc3a",
   "metadata": {},
   "outputs": [
    {
     "name": "stdout",
     "output_type": "stream",
     "text": [
      "(6,)\n"
     ]
    }
   ],
   "source": [
    "print(y.shape)"
   ]
  },
  {
   "cell_type": "code",
   "execution_count": 12,
   "id": "bdd0e131",
   "metadata": {},
   "outputs": [],
   "source": [
    "# Building the regression model"
   ]
  },
  {
   "cell_type": "code",
   "execution_count": 13,
   "id": "4666ed2a",
   "metadata": {},
   "outputs": [],
   "source": [
    "model = LinearRegression()"
   ]
  },
  {
   "cell_type": "code",
   "execution_count": 14,
   "id": "69cae757",
   "metadata": {},
   "outputs": [
    {
     "data": {
      "text/html": [
       "<style>#sk-container-id-1 {color: black;}#sk-container-id-1 pre{padding: 0;}#sk-container-id-1 div.sk-toggleable {background-color: white;}#sk-container-id-1 label.sk-toggleable__label {cursor: pointer;display: block;width: 100%;margin-bottom: 0;padding: 0.3em;box-sizing: border-box;text-align: center;}#sk-container-id-1 label.sk-toggleable__label-arrow:before {content: \"▸\";float: left;margin-right: 0.25em;color: #696969;}#sk-container-id-1 label.sk-toggleable__label-arrow:hover:before {color: black;}#sk-container-id-1 div.sk-estimator:hover label.sk-toggleable__label-arrow:before {color: black;}#sk-container-id-1 div.sk-toggleable__content {max-height: 0;max-width: 0;overflow: hidden;text-align: left;background-color: #f0f8ff;}#sk-container-id-1 div.sk-toggleable__content pre {margin: 0.2em;color: black;border-radius: 0.25em;background-color: #f0f8ff;}#sk-container-id-1 input.sk-toggleable__control:checked~div.sk-toggleable__content {max-height: 200px;max-width: 100%;overflow: auto;}#sk-container-id-1 input.sk-toggleable__control:checked~label.sk-toggleable__label-arrow:before {content: \"▾\";}#sk-container-id-1 div.sk-estimator input.sk-toggleable__control:checked~label.sk-toggleable__label {background-color: #d4ebff;}#sk-container-id-1 div.sk-label input.sk-toggleable__control:checked~label.sk-toggleable__label {background-color: #d4ebff;}#sk-container-id-1 input.sk-hidden--visually {border: 0;clip: rect(1px 1px 1px 1px);clip: rect(1px, 1px, 1px, 1px);height: 1px;margin: -1px;overflow: hidden;padding: 0;position: absolute;width: 1px;}#sk-container-id-1 div.sk-estimator {font-family: monospace;background-color: #f0f8ff;border: 1px dotted black;border-radius: 0.25em;box-sizing: border-box;margin-bottom: 0.5em;}#sk-container-id-1 div.sk-estimator:hover {background-color: #d4ebff;}#sk-container-id-1 div.sk-parallel-item::after {content: \"\";width: 100%;border-bottom: 1px solid gray;flex-grow: 1;}#sk-container-id-1 div.sk-label:hover label.sk-toggleable__label {background-color: #d4ebff;}#sk-container-id-1 div.sk-serial::before {content: \"\";position: absolute;border-left: 1px solid gray;box-sizing: border-box;top: 0;bottom: 0;left: 50%;z-index: 0;}#sk-container-id-1 div.sk-serial {display: flex;flex-direction: column;align-items: center;background-color: white;padding-right: 0.2em;padding-left: 0.2em;position: relative;}#sk-container-id-1 div.sk-item {position: relative;z-index: 1;}#sk-container-id-1 div.sk-parallel {display: flex;align-items: stretch;justify-content: center;background-color: white;position: relative;}#sk-container-id-1 div.sk-item::before, #sk-container-id-1 div.sk-parallel-item::before {content: \"\";position: absolute;border-left: 1px solid gray;box-sizing: border-box;top: 0;bottom: 0;left: 50%;z-index: -1;}#sk-container-id-1 div.sk-parallel-item {display: flex;flex-direction: column;z-index: 1;position: relative;background-color: white;}#sk-container-id-1 div.sk-parallel-item:first-child::after {align-self: flex-end;width: 50%;}#sk-container-id-1 div.sk-parallel-item:last-child::after {align-self: flex-start;width: 50%;}#sk-container-id-1 div.sk-parallel-item:only-child::after {width: 0;}#sk-container-id-1 div.sk-dashed-wrapped {border: 1px dashed gray;margin: 0 0.4em 0.5em 0.4em;box-sizing: border-box;padding-bottom: 0.4em;background-color: white;}#sk-container-id-1 div.sk-label label {font-family: monospace;font-weight: bold;display: inline-block;line-height: 1.2em;}#sk-container-id-1 div.sk-label-container {text-align: center;}#sk-container-id-1 div.sk-container {/* jupyter's `normalize.less` sets `[hidden] { display: none; }` but bootstrap.min.css set `[hidden] { display: none !important; }` so we also need the `!important` here to be able to override the default hidden behavior on the sphinx rendered scikit-learn.org. See: https://github.com/scikit-learn/scikit-learn/issues/21755 */display: inline-block !important;position: relative;}#sk-container-id-1 div.sk-text-repr-fallback {display: none;}</style><div id=\"sk-container-id-1\" class=\"sk-top-container\"><div class=\"sk-text-repr-fallback\"><pre>LinearRegression()</pre><b>In a Jupyter environment, please rerun this cell to show the HTML representation or trust the notebook. <br />On GitHub, the HTML representation is unable to render, please try loading this page with nbviewer.org.</b></div><div class=\"sk-container\" hidden><div class=\"sk-item\"><div class=\"sk-estimator sk-toggleable\"><input class=\"sk-toggleable__control sk-hidden--visually\" id=\"sk-estimator-id-1\" type=\"checkbox\" checked><label for=\"sk-estimator-id-1\" class=\"sk-toggleable__label sk-toggleable__label-arrow\">LinearRegression</label><div class=\"sk-toggleable__content\"><pre>LinearRegression()</pre></div></div></div></div></div>"
      ],
      "text/plain": [
       "LinearRegression()"
      ]
     },
     "execution_count": 14,
     "metadata": {},
     "output_type": "execute_result"
    }
   ],
   "source": [
    "model.fit(x,y)         # x is the input data and y is the response"
   ]
  },
  {
   "cell_type": "code",
   "execution_count": 15,
   "id": "1c521438",
   "metadata": {},
   "outputs": [
    {
     "data": {
      "text/plain": [
       "5.633333333333329"
      ]
     },
     "execution_count": 15,
     "metadata": {},
     "output_type": "execute_result"
    }
   ],
   "source": [
    "model.intercept_        # this is b0 in the model"
   ]
  },
  {
   "cell_type": "code",
   "execution_count": 16,
   "id": "d8e1fa76",
   "metadata": {},
   "outputs": [
    {
     "data": {
      "text/plain": [
       "array([0.54])"
      ]
     },
     "execution_count": 16,
     "metadata": {},
     "output_type": "execute_result"
    }
   ],
   "source": [
    "model.coef_             # this is b1 in the model"
   ]
  },
  {
   "cell_type": "code",
   "execution_count": 17,
   "id": "46f78d7a",
   "metadata": {},
   "outputs": [
    {
     "name": "stdout",
     "output_type": "stream",
     "text": [
      "0.7158756137479542\n"
     ]
    }
   ],
   "source": [
    "r_sq = model.score(x,y)\n",
    "print(r_sq)"
   ]
  },
  {
   "cell_type": "code",
   "execution_count": 18,
   "id": "e6c08386",
   "metadata": {},
   "outputs": [],
   "source": [
    "# How to predict a value using this model?"
   ]
  },
  {
   "cell_type": "code",
   "execution_count": 19,
   "id": "26ee282c",
   "metadata": {},
   "outputs": [
    {
     "name": "stdout",
     "output_type": "stream",
     "text": [
      "[ 8.33333333 13.73333333 19.13333333 24.53333333 29.93333333 35.33333333]\n"
     ]
    }
   ],
   "source": [
    "y_pred = model.predict(x)\n",
    "print(y_pred)"
   ]
  },
  {
   "cell_type": "code",
   "execution_count": 20,
   "id": "d9aa140d",
   "metadata": {},
   "outputs": [],
   "source": [
    "# The model is described by:  y = b0 + b1*x"
   ]
  },
  {
   "cell_type": "code",
   "execution_count": 21,
   "id": "f92b876e",
   "metadata": {},
   "outputs": [
    {
     "data": {
      "text/plain": [
       "array([[ 8.33333333],\n",
       "       [13.73333333],\n",
       "       [19.13333333],\n",
       "       [24.53333333],\n",
       "       [29.93333333],\n",
       "       [35.33333333]])"
      ]
     },
     "execution_count": 21,
     "metadata": {},
     "output_type": "execute_result"
    }
   ],
   "source": [
    "model.intercept_ + model.coef_ * x"
   ]
  },
  {
   "cell_type": "code",
   "execution_count": 22,
   "id": "0df6cea4",
   "metadata": {},
   "outputs": [],
   "source": [
    "# Now let's create a new input data and use this model to predict the responses"
   ]
  },
  {
   "cell_type": "code",
   "execution_count": 23,
   "id": "452fda35",
   "metadata": {},
   "outputs": [
    {
     "name": "stdout",
     "output_type": "stream",
     "text": [
      "[[0]\n",
      " [1]\n",
      " [2]\n",
      " [3]\n",
      " [4]]\n"
     ]
    }
   ],
   "source": [
    "x_new = np.arange(5).reshape((-1,1))\n",
    "print(x_new)"
   ]
  },
  {
   "cell_type": "code",
   "execution_count": 24,
   "id": "5144c767",
   "metadata": {},
   "outputs": [
    {
     "name": "stdout",
     "output_type": "stream",
     "text": [
      "[5.63333333 6.17333333 6.71333333 7.25333333 7.79333333]\n"
     ]
    }
   ],
   "source": [
    "y_new = model.predict(x_new)\n",
    "print(y_new)"
   ]
  },
  {
   "cell_type": "code",
   "execution_count": 25,
   "id": "2547d920",
   "metadata": {},
   "outputs": [],
   "source": [
    "# plotting the dataset with the MatPlotLib"
   ]
  },
  {
   "cell_type": "code",
   "execution_count": 26,
   "id": "887aff08",
   "metadata": {},
   "outputs": [
    {
     "data": {
      "text/plain": [
       "<matplotlib.collections.PathCollection at 0x7fcb61eb2310>"
      ]
     },
     "execution_count": 26,
     "metadata": {},
     "output_type": "execute_result"
    },
    {
     "data": {
      "image/png": "[encoded data removed]",
      "text/plain": [
       "<Figure size 640x480 with 1 Axes>"
      ]
     },
     "metadata": {},
     "output_type": "display_data"
    }
   ],
   "source": [
    "import matplotlib.pyplot as plt\n",
    "plt.xlabel(' x_new data ')\n",
    "plt.ylabel(' y_new data ')\n",
    "plt.title(' Regression Plot')\n",
    "plt.scatter(x_new, y_new, s=80)"
   ]
  },
  {
   "cell_type": "markdown",
   "id": "1394873c",
   "metadata": {},
   "source": [
    "### Trabalhando com dados gerados aleatoriamente"
   ]
  },
  {
   "cell_type": "code",
   "execution_count": 27,
   "id": "f85e3551",
   "metadata": {},
   "outputs": [],
   "source": [
    "# importando numpy\n",
    "import numpy as np"
   ]
  },
  {
   "cell_type": "code",
   "execution_count": 28,
   "id": "04113638",
   "metadata": {},
   "outputs": [],
   "source": [
    "X = 2 * np.random.rand(100, 1)\n",
    "y = 4 + 3 * X + np.random.randn(100, 1)"
   ]
  },
  {
   "cell_type": "code",
   "execution_count": 29,
   "id": "445b82f5",
   "metadata": {},
   "outputs": [],
   "source": [
    "X_b = np.c_[np.ones((100, 1)), X] # add x0 = 1 to each instance\n",
    "theta_best = np.linalg.inv(X_b.T.dot(X_b)).dot(X_b.T).dot(y)"
   ]
  },
  {
   "cell_type": "code",
   "execution_count": 30,
   "id": "7bff7e84",
   "metadata": {},
   "outputs": [
    {
     "data": {
      "text/plain": [
       "array([[4.48635075],\n",
       "       [2.70518404]])"
      ]
     },
     "execution_count": 30,
     "metadata": {},
     "output_type": "execute_result"
    }
   ],
   "source": [
    "theta_best"
   ]
  },
  {
   "cell_type": "code",
   "execution_count": 31,
   "id": "4eb2cf3d",
   "metadata": {},
   "outputs": [],
   "source": [
    "X_new = np.array([[0], [2]])"
   ]
  },
  {
   "cell_type": "code",
   "execution_count": 32,
   "id": "7bcf6aaf",
   "metadata": {},
   "outputs": [
    {
     "data": {
      "text/plain": [
       "array([[0],\n",
       "       [2]])"
      ]
     },
     "execution_count": 32,
     "metadata": {},
     "output_type": "execute_result"
    }
   ],
   "source": [
    "X_new"
   ]
  },
  {
   "cell_type": "code",
   "execution_count": 33,
   "id": "3c487283",
   "metadata": {},
   "outputs": [
    {
     "name": "stdout",
     "output_type": "stream",
     "text": [
      "[[0]\n",
      " [2]]\n"
     ]
    }
   ],
   "source": [
    "print(X_new)"
   ]
  },
  {
   "cell_type": "code",
   "execution_count": 34,
   "id": "d4a0ff85",
   "metadata": {},
   "outputs": [],
   "source": [
    "X_new_b = np.c_[np.ones((2, 1)), X_new] # add x0 = 1 to each instance"
   ]
  },
  {
   "cell_type": "code",
   "execution_count": 35,
   "id": "1d1a182d",
   "metadata": {},
   "outputs": [
    {
     "data": {
      "text/plain": [
       "array([[1., 0.],\n",
       "       [1., 2.]])"
      ]
     },
     "execution_count": 35,
     "metadata": {},
     "output_type": "execute_result"
    }
   ],
   "source": [
    "X_new_b"
   ]
  },
  {
   "cell_type": "code",
   "execution_count": 36,
   "id": "1bd5b41b",
   "metadata": {},
   "outputs": [],
   "source": [
    "y_predict = X_new_b.dot(theta_best)"
   ]
  },
  {
   "cell_type": "code",
   "execution_count": 37,
   "id": "060991c8",
   "metadata": {},
   "outputs": [
    {
     "data": {
      "text/plain": [
       "array([[4.48635075],\n",
       "       [9.89671883]])"
      ]
     },
     "execution_count": 37,
     "metadata": {},
     "output_type": "execute_result"
    }
   ],
   "source": [
    "y_predict"
   ]
  },
  {
   "cell_type": "code",
   "execution_count": 38,
   "id": "0324384b",
   "metadata": {},
   "outputs": [
    {
     "data": {
      "image/png": "[encoded data removed]",
      "text/plain": [
       "<Figure size 640x480 with 1 Axes>"
      ]
     },
     "metadata": {},
     "output_type": "display_data"
    }
   ],
   "source": [
    "# Vamos plotar este modelo com o matplotlib\n",
    "import matplotlib.pyplot as plt\n",
    "plt.plot(X_new, y_predict, \"r-\")\n",
    "plt.plot(X, y, \"b.\")\n",
    "plt.axis([0, 2, 0, 15])\n",
    "plt.show()\n"
   ]
  },
  {
   "cell_type": "markdown",
   "id": "68a3511f",
   "metadata": {},
   "source": [
    "### Aprendizado de Máquina usando Scikit-Learn\n",
    "\n",
    "- Aprendizado de Máquina ocorre quando um programa exibe comportamento que **NÃO** é explicitamente programado, mas que é resultado do aprendizado com os dados. No entanto a melhor forma de entender o aprendizado de máquina é realizando um exemplo, como o que veremos a seguir. \n",
    "\n",
    "- A biblioteca `scikit-learn` é abreviada como `sklearn` quando importada. Na demonstração deste exemplo faremos uso dos módulos [`numpy`](), [`pandas`]() e [`matplotlib`](). "
   ]
  },
  {
   "cell_type": "code",
   "execution_count": 39,
   "id": "2577cc29",
   "metadata": {},
   "outputs": [],
   "source": [
    "from sklearn.linear_model import LinearRegression"
   ]
  },
  {
   "cell_type": "code",
   "execution_count": 40,
   "id": "e0d1424b",
   "metadata": {},
   "outputs": [],
   "source": [
    "lin_reg = LinearRegression()"
   ]
  },
  {
   "cell_type": "code",
   "execution_count": 41,
   "id": "508cf150",
   "metadata": {},
   "outputs": [
    {
     "data": {
      "text/html": [
       "<style>#sk-container-id-2 {color: black;}#sk-container-id-2 pre{padding: 0;}#sk-container-id-2 div.sk-toggleable {background-color: white;}#sk-container-id-2 label.sk-toggleable__label {cursor: pointer;display: block;width: 100%;margin-bottom: 0;padding: 0.3em;box-sizing: border-box;text-align: center;}#sk-container-id-2 label.sk-toggleable__label-arrow:before {content: \"▸\";float: left;margin-right: 0.25em;color: #696969;}#sk-container-id-2 label.sk-toggleable__label-arrow:hover:before {color: black;}#sk-container-id-2 div.sk-estimator:hover label.sk-toggleable__label-arrow:before {color: black;}#sk-container-id-2 div.sk-toggleable__content {max-height: 0;max-width: 0;overflow: hidden;text-align: left;background-color: #f0f8ff;}#sk-container-id-2 div.sk-toggleable__content pre {margin: 0.2em;color: black;border-radius: 0.25em;background-color: #f0f8ff;}#sk-container-id-2 input.sk-toggleable__control:checked~div.sk-toggleable__content {max-height: 200px;max-width: 100%;overflow: auto;}#sk-container-id-2 input.sk-toggleable__control:checked~label.sk-toggleable__label-arrow:before {content: \"▾\";}#sk-container-id-2 div.sk-estimator input.sk-toggleable__control:checked~label.sk-toggleable__label {background-color: #d4ebff;}#sk-container-id-2 div.sk-label input.sk-toggleable__control:checked~label.sk-toggleable__label {background-color: #d4ebff;}#sk-container-id-2 input.sk-hidden--visually {border: 0;clip: rect(1px 1px 1px 1px);clip: rect(1px, 1px, 1px, 1px);height: 1px;margin: -1px;overflow: hidden;padding: 0;position: absolute;width: 1px;}#sk-container-id-2 div.sk-estimator {font-family: monospace;background-color: #f0f8ff;border: 1px dotted black;border-radius: 0.25em;box-sizing: border-box;margin-bottom: 0.5em;}#sk-container-id-2 div.sk-estimator:hover {background-color: #d4ebff;}#sk-container-id-2 div.sk-parallel-item::after {content: \"\";width: 100%;border-bottom: 1px solid gray;flex-grow: 1;}#sk-container-id-2 div.sk-label:hover label.sk-toggleable__label {background-color: #d4ebff;}#sk-container-id-2 div.sk-serial::before {content: \"\";position: absolute;border-left: 1px solid gray;box-sizing: border-box;top: 0;bottom: 0;left: 50%;z-index: 0;}#sk-container-id-2 div.sk-serial {display: flex;flex-direction: column;align-items: center;background-color: white;padding-right: 0.2em;padding-left: 0.2em;position: relative;}#sk-container-id-2 div.sk-item {position: relative;z-index: 1;}#sk-container-id-2 div.sk-parallel {display: flex;align-items: stretch;justify-content: center;background-color: white;position: relative;}#sk-container-id-2 div.sk-item::before, #sk-container-id-2 div.sk-parallel-item::before {content: \"\";position: absolute;border-left: 1px solid gray;box-sizing: border-box;top: 0;bottom: 0;left: 50%;z-index: -1;}#sk-container-id-2 div.sk-parallel-item {display: flex;flex-direction: column;z-index: 1;position: relative;background-color: white;}#sk-container-id-2 div.sk-parallel-item:first-child::after {align-self: flex-end;width: 50%;}#sk-container-id-2 div.sk-parallel-item:last-child::after {align-self: flex-start;width: 50%;}#sk-container-id-2 div.sk-parallel-item:only-child::after {width: 0;}#sk-container-id-2 div.sk-dashed-wrapped {border: 1px dashed gray;margin: 0 0.4em 0.5em 0.4em;box-sizing: border-box;padding-bottom: 0.4em;background-color: white;}#sk-container-id-2 div.sk-label label {font-family: monospace;font-weight: bold;display: inline-block;line-height: 1.2em;}#sk-container-id-2 div.sk-label-container {text-align: center;}#sk-container-id-2 div.sk-container {/* jupyter's `normalize.less` sets `[hidden] { display: none; }` but bootstrap.min.css set `[hidden] { display: none !important; }` so we also need the `!important` here to be able to override the default hidden behavior on the sphinx rendered scikit-learn.org. See: https://github.com/scikit-learn/scikit-learn/issues/21755 */display: inline-block !important;position: relative;}#sk-container-id-2 div.sk-text-repr-fallback {display: none;}</style><div id=\"sk-container-id-2\" class=\"sk-top-container\"><div class=\"sk-text-repr-fallback\"><pre>LinearRegression()</pre><b>In a Jupyter environment, please rerun this cell to show the HTML representation or trust the notebook. <br />On GitHub, the HTML representation is unable to render, please try loading this page with nbviewer.org.</b></div><div class=\"sk-container\" hidden><div class=\"sk-item\"><div class=\"sk-estimator sk-toggleable\"><input class=\"sk-toggleable__control sk-hidden--visually\" id=\"sk-estimator-id-2\" type=\"checkbox\" checked><label for=\"sk-estimator-id-2\" class=\"sk-toggleable__label sk-toggleable__label-arrow\">LinearRegression</label><div class=\"sk-toggleable__content\"><pre>LinearRegression()</pre></div></div></div></div></div>"
      ],
      "text/plain": [
       "LinearRegression()"
      ]
     },
     "execution_count": 41,
     "metadata": {},
     "output_type": "execute_result"
    }
   ],
   "source": [
    "lin_reg.fit(X, y)"
   ]
  },
  {
   "cell_type": "code",
   "execution_count": 42,
   "id": "35670220",
   "metadata": {},
   "outputs": [
    {
     "data": {
      "text/plain": [
       "(array([4.48635075]), array([[2.70518404]]))"
      ]
     },
     "execution_count": 42,
     "metadata": {},
     "output_type": "execute_result"
    }
   ],
   "source": [
    "lin_reg.intercept_, lin_reg.coef_"
   ]
  },
  {
   "cell_type": "code",
   "execution_count": 43,
   "id": "17ceb653",
   "metadata": {},
   "outputs": [
    {
     "data": {
      "text/plain": [
       "array([[4.48635075],\n",
       "       [9.89671883]])"
      ]
     },
     "execution_count": 43,
     "metadata": {},
     "output_type": "execute_result"
    }
   ],
   "source": [
    " lin_reg.predict(X_new)"
   ]
  },
  {
   "cell_type": "markdown",
   "id": "9601655f",
   "metadata": {},
   "source": [
    "### Regressão com SciPy\n",
    "\n",
    "- **SciPy** [`(link)`](https://scipy.org/) é uma biblioteca, ou seja, uma coleção de ferramentas e funções numéricas já prontas para resolver os mais diferentes problemas matemáticos em Química, Física, Biologia e Engenharia. Para mais detalhes acesse o [`Tutorial`](https://www.guru99.com/scipy-tutorial.html). Algumas ferramentas e módulos do SciPy são úteis para **álgebra linear** `scipy.linalg`, otimização e ajustes `scipy.optimize`, estatística e números randômicos `scipy.stats`, e integração numérica `scipy.integrate`. \n",
    "\n",
    "- Vamos praticar um exercício do excelente livro *on line* elaborado por Charlie Weiss, ver link em [`SciCompforChemists`](https://github.com/weisscharlesj/SciCompforChemists)."
   ]
  },
  {
   "cell_type": "code",
   "execution_count": 44,
   "id": "7da21317",
   "metadata": {},
   "outputs": [],
   "source": [
    "import pandas as pd\n",
    "import numpy as np\n",
    "import matplotlib.pyplot as plt"
   ]
  },
  {
   "cell_type": "markdown",
   "id": "4996cce6",
   "metadata": {},
   "source": [
    "### Aprendizado Supervisionado\n",
    "\n",
    "- Aprendizado supervisionado é quando um algoritmo de aprendizado de máquina possui informações das características e respostas com o objetivo de desenvolver um modelo que faça a predição das respostas com base nas características fornecidas (do inglês, *features and targets prediction model*). \n",
    "\n",
    "#### Características e Informação\n",
    "\n",
    "- O arquivo `ROH_data.csv` contem informação de 70 álcoois simples, incluindo seus pontos de ebulição. Nosso objetivo é gerar uma função ou algoritmo para predizer os pontos de ebulição baseados na informação e características que possuem.\n",
    "\n"
   ]
  },
  {
   "cell_type": "code",
   "execution_count": 45,
   "id": "1525de61",
   "metadata": {},
   "outputs": [
    {
     "data": {
      "text/html": [
       "<div>\n",
       "<style scoped>\n",
       "    .dataframe tbody tr th:only-of-type {\n",
       "        vertical-align: middle;\n",
       "    }\n",
       "\n",
       "    .dataframe tbody tr th {\n",
       "        vertical-align: top;\n",
       "    }\n",
       "\n",
       "    .dataframe thead th {\n",
       "        text-align: right;\n",
       "    }\n",
       "</style>\n",
       "<table border=\"1\" class=\"dataframe\">\n",
       "  <thead>\n",
       "    <tr style=\"text-align: right;\">\n",
       "      <th></th>\n",
       "      <th>bp</th>\n",
       "      <th>MW</th>\n",
       "      <th>carbons</th>\n",
       "      <th>degree</th>\n",
       "      <th>aliphatic</th>\n",
       "      <th>avg_aryl_position</th>\n",
       "      <th>cyclic</th>\n",
       "    </tr>\n",
       "  </thead>\n",
       "  <tbody>\n",
       "    <tr>\n",
       "      <th>0</th>\n",
       "      <td>338</td>\n",
       "      <td>32.04</td>\n",
       "      <td>1</td>\n",
       "      <td>1</td>\n",
       "      <td>1</td>\n",
       "      <td>0.0</td>\n",
       "      <td>0</td>\n",
       "    </tr>\n",
       "    <tr>\n",
       "      <th>1</th>\n",
       "      <td>351</td>\n",
       "      <td>46.07</td>\n",
       "      <td>2</td>\n",
       "      <td>1</td>\n",
       "      <td>1</td>\n",
       "      <td>0.0</td>\n",
       "      <td>0</td>\n",
       "    </tr>\n",
       "    <tr>\n",
       "      <th>2</th>\n",
       "      <td>371</td>\n",
       "      <td>60.10</td>\n",
       "      <td>3</td>\n",
       "      <td>1</td>\n",
       "      <td>1</td>\n",
       "      <td>0.0</td>\n",
       "      <td>0</td>\n",
       "    </tr>\n",
       "    <tr>\n",
       "      <th>3</th>\n",
       "      <td>356</td>\n",
       "      <td>60.10</td>\n",
       "      <td>3</td>\n",
       "      <td>2</td>\n",
       "      <td>1</td>\n",
       "      <td>0.0</td>\n",
       "      <td>0</td>\n",
       "    </tr>\n",
       "    <tr>\n",
       "      <th>4</th>\n",
       "      <td>391</td>\n",
       "      <td>74.12</td>\n",
       "      <td>4</td>\n",
       "      <td>1</td>\n",
       "      <td>1</td>\n",
       "      <td>0.0</td>\n",
       "      <td>0</td>\n",
       "    </tr>\n",
       "  </tbody>\n",
       "</table>\n",
       "</div>"
      ],
      "text/plain": [
       "    bp     MW  carbons  degree  aliphatic  avg_aryl_position  cyclic\n",
       "0  338  32.04        1       1          1                0.0       0\n",
       "1  351  46.07        2       1          1                0.0       0\n",
       "2  371  60.10        3       1          1                0.0       0\n",
       "3  356  60.10        3       2          1                0.0       0\n",
       "4  391  74.12        4       1          1                0.0       0"
      ]
     },
     "execution_count": 45,
     "metadata": {},
     "output_type": "execute_result"
    }
   ],
   "source": [
    "ROH = pd.read_csv('data/ROH_data.csv', sep=',')\n",
    "ROH.head()"
   ]
  },
  {
   "cell_type": "markdown",
   "id": "423d908b",
   "metadata": {},
   "source": [
    "O conjunto de dados inclui o ponto de ebulição (K), o peso molecular (g/mol), número de átomos de carbono, se o álcool é ou não alifático, se é cíclico e a posição média dos substituídos aril. O scikit-learn requer que toda `features` (atributos) seja representada numericamente. As três últimas `1` significa VERDADEIRO e `0` FALSO. Observe que nem todo atributo será útil para predizer o ponto de ebulição. A intuição química diz que a massa molar tem uma correlação direta e será importante para essa predição, como mostrado abaixo. "
   ]
  },
  {
   "cell_type": "code",
   "execution_count": 46,
   "id": "509c0b7f",
   "metadata": {},
   "outputs": [
    {
     "data": {
      "image/png": "[encoded data removed]",
      "text/plain": [
       "<Figure size 640x480 with 2 Axes>"
      ]
     },
     "metadata": {},
     "output_type": "display_data"
    }
   ],
   "source": [
    "plt.scatter(ROH['MW'], ROH['bp'], alpha=0.8, c=ROH['degree'], cmap='viridis')\n",
    "plt.xlabel('MW, g/mol')\n",
    "plt.ylabel('bp, K')\n",
    "cbar = plt.colorbar()\n",
    "cbar.set_label('Degree')"
   ]
  },
  {
   "cell_type": "markdown",
   "id": "d9a40682",
   "metadata": {},
   "source": [
    "### Separando os dados em Treinamento e Teste (*Train Test Split*)\n",
    "\n",
    "- Qualquer que seja o treinamento de um modelo em `Machine Learning` para fazer predições, é importante avaliar a acurácia dessas predições. É uma decisão não justa testar um algoritmo sobre dados já vistos e/ou treinados anteriormente. No caso dos álcoois e dados que temos no exemplo, treinar sobre um conjunto de álcoois pequenos e testar sobre o conjunto de álcoois maiores pode gerar uma predição ruim, já que o algoritmo de ML não está familiarizado com um conjunto de estrutura de maior massa molar. A boa notícia é que o scikit-learn possui uma `built-in function` para embaralhar e separar o conjunto de dados em **TREINAMENTO** e **TESTE**, `train_test_split()`.\n",
    "- *The arguments are the **features, target, and the fraction** of the data set to be used for testing. Below, a quarter of the data set is allotted for testing (test_size=0.25).*\n",
    "\n",
    "```{tip}\n",
    "The `train_test_splot()` function randomly shuffles the data set before splitting it resulting in different results each time the function is called. The `random_state=` argument can be used to produce fixed results for example or demo purposes.\n",
    "```"
   ]
  },
  {
   "cell_type": "code",
   "execution_count": 47,
   "id": "ad5053b5",
   "metadata": {},
   "outputs": [],
   "source": [
    "from sklearn.model_selection import train_test_split"
   ]
  },
  {
   "cell_type": "code",
   "execution_count": 48,
   "id": "500f67e3",
   "metadata": {},
   "outputs": [],
   "source": [
    "target = ROH['bp']\n",
    "features = ROH[[ 'MW', 'carbons', 'degree', 'aliphatic', \n",
    "                'avg_aryl_position','cyclic']]"
   ]
  },
  {
   "cell_type": "code",
   "execution_count": 49,
   "id": "7287d3e8",
   "metadata": {},
   "outputs": [],
   "source": [
    "X_train, X_test, y_train, y_test =train_test_split(features, target, \n",
    "                                                   test_size=0.25, random_state=18)"
   ]
  },
  {
   "cell_type": "markdown",
   "id": "dbf2ae3b",
   "metadata": {},
   "source": [
    "The output includes four values containing the training/testing features and targets. By convention, `X` contains the features and `y` are the target values because they are the independent and dependent variables, respectively; and the features variable is capitalized because it contains multiple values per alcohol."
   ]
  },
  {
   "cell_type": "markdown",
   "id": "062a8641",
   "metadata": {},
   "source": [
    "\n",
    "```{tip}\n",
    "Another variable name convention is to capitalize variables that contain a collection and use lowercase letters for single values. For example, a single $x$ value in a plot would be `x` while a list containing multiple $x$ values would be `X`.\n",
    "```\n"
   ]
  },
  {
   "cell_type": "markdown",
   "id": "8fa64c1f",
   "metadata": {},
   "source": [
    "## Training a Linear Regression Model\n",
    "\n",
    "```{index} single: regression; machine learning\n",
    "```\n",
    "\n",
    "Now for some machine learning using a very simple *linear regression* model. This model treats the target value as a linear combination or weighted sum of the features where $x$ are the features and $w$ are the weights.\n",
    "\n",
    "$$ target = w_0x_0 + w_1x_1 + w_2x_2 + w_3x_3 + w_4x_4 + w_5x_5 + ... $$\n",
    "\n",
    "The general procedure for supervised machine learning, regardless of model, usually includes three steps.\n",
    "\n",
    "1. Create a model and attach it to a variable\n",
    "2. Train the model with the training data\n",
    "3. Evaluate the model using the testing data or use it to make predictions.\n",
    "\n",
    "To implement these steps, the linear model from the `linear_model` module is first created with the `LinearRegression()` function and assigned the variable `reg`. Next, it is trained using the `fit()` method and the training data from above."
   ]
  },
  {
   "cell_type": "code",
   "execution_count": 119,
   "id": "0b533c91",
   "metadata": {},
   "outputs": [],
   "source": [
    "from sklearn import linear_model\n",
    "from sklearn.metrics import mean_squared_error, r2_score "
   ]
  },
  {
   "cell_type": "code",
   "execution_count": 120,
   "id": "c01fb174",
   "metadata": {},
   "outputs": [],
   "source": [
    "reg = linear_model.LinearRegression()"
   ]
  },
  {
   "cell_type": "code",
   "execution_count": 121,
   "id": "4626b97e",
   "metadata": {},
   "outputs": [
    {
     "data": {
      "text/html": [
       "<style>#sk-container-id-15 {color: black;}#sk-container-id-15 pre{padding: 0;}#sk-container-id-15 div.sk-toggleable {background-color: white;}#sk-container-id-15 label.sk-toggleable__label {cursor: pointer;display: block;width: 100%;margin-bottom: 0;padding: 0.3em;box-sizing: border-box;text-align: center;}#sk-container-id-15 label.sk-toggleable__label-arrow:before {content: \"▸\";float: left;margin-right: 0.25em;color: #696969;}#sk-container-id-15 label.sk-toggleable__label-arrow:hover:before {color: black;}#sk-container-id-15 div.sk-estimator:hover label.sk-toggleable__label-arrow:before {color: black;}#sk-container-id-15 div.sk-toggleable__content {max-height: 0;max-width: 0;overflow: hidden;text-align: left;background-color: #f0f8ff;}#sk-container-id-15 div.sk-toggleable__content pre {margin: 0.2em;color: black;border-radius: 0.25em;background-color: #f0f8ff;}#sk-container-id-15 input.sk-toggleable__control:checked~div.sk-toggleable__content {max-height: 200px;max-width: 100%;overflow: auto;}#sk-container-id-15 input.sk-toggleable__control:checked~label.sk-toggleable__label-arrow:before {content: \"▾\";}#sk-container-id-15 div.sk-estimator input.sk-toggleable__control:checked~label.sk-toggleable__label {background-color: #d4ebff;}#sk-container-id-15 div.sk-label input.sk-toggleable__control:checked~label.sk-toggleable__label {background-color: #d4ebff;}#sk-container-id-15 input.sk-hidden--visually {border: 0;clip: rect(1px 1px 1px 1px);clip: rect(1px, 1px, 1px, 1px);height: 1px;margin: -1px;overflow: hidden;padding: 0;position: absolute;width: 1px;}#sk-container-id-15 div.sk-estimator {font-family: monospace;background-color: #f0f8ff;border: 1px dotted black;border-radius: 0.25em;box-sizing: border-box;margin-bottom: 0.5em;}#sk-container-id-15 div.sk-estimator:hover {background-color: #d4ebff;}#sk-container-id-15 div.sk-parallel-item::after {content: \"\";width: 100%;border-bottom: 1px solid gray;flex-grow: 1;}#sk-container-id-15 div.sk-label:hover label.sk-toggleable__label {background-color: #d4ebff;}#sk-container-id-15 div.sk-serial::before {content: \"\";position: absolute;border-left: 1px solid gray;box-sizing: border-box;top: 0;bottom: 0;left: 50%;z-index: 0;}#sk-container-id-15 div.sk-serial {display: flex;flex-direction: column;align-items: center;background-color: white;padding-right: 0.2em;padding-left: 0.2em;position: relative;}#sk-container-id-15 div.sk-item {position: relative;z-index: 1;}#sk-container-id-15 div.sk-parallel {display: flex;align-items: stretch;justify-content: center;background-color: white;position: relative;}#sk-container-id-15 div.sk-item::before, #sk-container-id-15 div.sk-parallel-item::before {content: \"\";position: absolute;border-left: 1px solid gray;box-sizing: border-box;top: 0;bottom: 0;left: 50%;z-index: -1;}#sk-container-id-15 div.sk-parallel-item {display: flex;flex-direction: column;z-index: 1;position: relative;background-color: white;}#sk-container-id-15 div.sk-parallel-item:first-child::after {align-self: flex-end;width: 50%;}#sk-container-id-15 div.sk-parallel-item:last-child::after {align-self: flex-start;width: 50%;}#sk-container-id-15 div.sk-parallel-item:only-child::after {width: 0;}#sk-container-id-15 div.sk-dashed-wrapped {border: 1px dashed gray;margin: 0 0.4em 0.5em 0.4em;box-sizing: border-box;padding-bottom: 0.4em;background-color: white;}#sk-container-id-15 div.sk-label label {font-family: monospace;font-weight: bold;display: inline-block;line-height: 1.2em;}#sk-container-id-15 div.sk-label-container {text-align: center;}#sk-container-id-15 div.sk-container {/* jupyter's `normalize.less` sets `[hidden] { display: none; }` but bootstrap.min.css set `[hidden] { display: none !important; }` so we also need the `!important` here to be able to override the default hidden behavior on the sphinx rendered scikit-learn.org. See: https://github.com/scikit-learn/scikit-learn/issues/21755 */display: inline-block !important;position: relative;}#sk-container-id-15 div.sk-text-repr-fallback {display: none;}</style><div id=\"sk-container-id-15\" class=\"sk-top-container\"><div class=\"sk-text-repr-fallback\"><pre>LinearRegression()</pre><b>In a Jupyter environment, please rerun this cell to show the HTML representation or trust the notebook. <br />On GitHub, the HTML representation is unable to render, please try loading this page with nbviewer.org.</b></div><div class=\"sk-container\" hidden><div class=\"sk-item\"><div class=\"sk-estimator sk-toggleable\"><input class=\"sk-toggleable__control sk-hidden--visually\" id=\"sk-estimator-id-15\" type=\"checkbox\" checked><label for=\"sk-estimator-id-15\" class=\"sk-toggleable__label sk-toggleable__label-arrow\">LinearRegression</label><div class=\"sk-toggleable__content\"><pre>LinearRegression()</pre></div></div></div></div></div>"
      ],
      "text/plain": [
       "LinearRegression()"
      ]
     },
     "execution_count": 121,
     "metadata": {},
     "output_type": "execute_result"
    }
   ],
   "source": [
    "reg.fit(X_train, y_train)"
   ]
  },
  {
   "cell_type": "code",
   "execution_count": 122,
   "id": "7542fcc6",
   "metadata": {},
   "outputs": [
    {
     "data": {
      "text/plain": [
       "array([521.94389573, 439.60028899, 421.38488633, 485.6143471 ,\n",
       "       355.07207513, 444.98911542, 439.60028899, 487.61879909,\n",
       "       488.64633926, 497.31838329, 388.22848073, 406.39325504,\n",
       "       424.6086577 , 444.98911542, 485.56371876, 439.60028899,\n",
       "       503.77912142, 409.61702641])"
      ]
     },
     "execution_count": 122,
     "metadata": {},
     "output_type": "execute_result"
    }
   ],
   "source": [
    "prediction = reg.predict(X_test)\n",
    "prediction"
   ]
  },
  {
   "cell_type": "code",
   "execution_count": 123,
   "id": "d596df12",
   "metadata": {},
   "outputs": [
    {
     "name": "stdout",
     "output_type": "stream",
     "text": [
      "[521.94389573 439.60028899 421.38488633 485.6143471  355.07207513\n",
      " 444.98911542 439.60028899 487.61879909 488.64633926 497.31838329\n",
      " 388.22848073 406.39325504 424.6086577  444.98911542 485.56371876\n",
      " 439.60028899 503.77912142 409.61702641]\n"
     ]
    }
   ],
   "source": [
    "y_pred = reg.predict(X_test)\n",
    "print(y_pred)"
   ]
  },
  {
   "cell_type": "markdown",
   "id": "5aefd5ca",
   "metadata": {},
   "source": [
    "Remember that the algorithm has been only provided the features for the testing subset; it has never seen the y_test target data. The performance can be assessed by plotting the predictions against the true values."
   ]
  },
  {
   "cell_type": "code",
   "execution_count": 124,
   "id": "9dddcb5e",
   "metadata": {},
   "outputs": [
    {
     "name": "stdout",
     "output_type": "stream",
     "text": [
      "[ -5.06283477  89.19634615 -14.99163129   5.73273187  -2.05508033\n",
      "  15.9368917 ]\n"
     ]
    }
   ],
   "source": [
    "print(reg.coef_)"
   ]
  },
  {
   "cell_type": "code",
   "execution_count": 126,
   "id": "4f436661",
   "metadata": {},
   "outputs": [
    {
     "name": "stdout",
     "output_type": "stream",
     "text": [
      "412.78616575428634\n"
     ]
    }
   ],
   "source": [
    "print(reg.intercept_)"
   ]
  },
  {
   "cell_type": "code",
   "execution_count": 127,
   "id": "7a9b13c9",
   "metadata": {},
   "outputs": [
    {
     "name": "stdout",
     "output_type": "stream",
     "text": [
      "Mean Squared Error (MSE): 49.17080312261136\n",
      "R-Squared (R2): 0.9738116533899367\n"
     ]
    }
   ],
   "source": [
    "MSE = mean_squared_error(y_test, y_pred)\n",
    "R2 = reg.score(X_test,y_test)\n",
    "print(f\"Mean Squared Error (MSE): {MSE}\")\n",
    "print(f\"R-Squared (R2): {R2}\")"
   ]
  },
  {
   "cell_type": "code",
   "execution_count": 57,
   "id": "75b7e96e",
   "metadata": {},
   "outputs": [
    {
     "data": {
      "image/png": "[encoded data removed]",
      "text/plain": [
       "<Figure size 640x480 with 1 Axes>"
      ]
     },
     "metadata": {},
     "output_type": "display_data"
    }
   ],
   "source": [
    "plt.plot(prediction, y_test, 'o')\n",
    "plt.plot(y_test, y_test, '-', lw=1.3, alpha=0.5)\n",
    "plt.title(\"Linear Regression model\")\n",
    "plt.xlabel('Predicted bp, K')\n",
    "plt.ylabel('True bp, K');"
   ]
  },
  {
   "cell_type": "markdown",
   "id": "c04c984a",
   "metadata": {},
   "source": [
    "### Model Evaluation\n",
    "\n",
    "It is important to evaluate the effectiveness of trained machine learning models before rolling them out for widespread use, and scikit-learn provides multiple built-in functions to help in this task. The first is the `score()` method. Instead of making predictions using the testing features and then plotting the predictions against the known values, the `score()` method takes in the testing features and target values and returns the $r^2$. The closer the $r^2$ value is to 1, the better the predictions are."
   ]
  },
  {
   "cell_type": "code",
   "execution_count": 58,
   "id": "7dd124e4",
   "metadata": {},
   "outputs": [
    {
     "data": {
      "text/plain": [
       "0.9738116533899367"
      ]
     },
     "execution_count": 58,
     "metadata": {},
     "output_type": "execute_result"
    }
   ],
   "source": [
    "reg.score(X_test, y_test)"
   ]
  },
  {
   "cell_type": "markdown",
   "id": "a869156e",
   "metadata": {},
   "source": [
    "## Ridge Regression or Tikhonov regularization\n",
    "\n",
    "``` (info class)\n",
    "class sklearn.linear_model.Ridge(alpha=1.0, *, fit_intercept=True, copy_X=True, max_iter=None, tol=0.0001, solver='auto', positive=False, random_state=None)\n",
    "```    \n"
   ]
  },
  {
   "cell_type": "markdown",
   "id": "b846a5e0",
   "metadata": {},
   "source": [
    "A Ridge Regression é uma técnica de regressão linear regularizada que visa lidar com o problema de multicolinearidade (alta correlação entre variáveis independentes) e, ao mesmo tempo, reduzir o risco de overfitting em modelos de regressão. A Ridge Regression é uma extensão da regressão linear simples que adiciona uma penalização L2 (também conhecida como norma euclidiana) aos coeficientes do modelo. É um modelo em que a função de penalização é uma função de mínimos quadrados linear e a regularização é dada por uma norma L2. Detalhes sobre o método pode ser visto no [`link`](https://scikit-learn.org/stable/modules/generated/sklearn.linear_model.Ridge.html). \n"
   ]
  },
  {
   "cell_type": "code",
   "execution_count": 59,
   "id": "1e36d7cb",
   "metadata": {},
   "outputs": [],
   "source": [
    "from sklearn.linear_model import Ridge"
   ]
  },
  {
   "cell_type": "code",
   "execution_count": 60,
   "id": "f68b0203",
   "metadata": {},
   "outputs": [],
   "source": [
    "clf = Ridge(alpha=4.0,positive=False,solver='auto')"
   ]
  },
  {
   "cell_type": "code",
   "execution_count": 61,
   "id": "dd27be0d",
   "metadata": {},
   "outputs": [
    {
     "data": {
      "text/html": [
       "<style>#sk-container-id-4 {color: black;}#sk-container-id-4 pre{padding: 0;}#sk-container-id-4 div.sk-toggleable {background-color: white;}#sk-container-id-4 label.sk-toggleable__label {cursor: pointer;display: block;width: 100%;margin-bottom: 0;padding: 0.3em;box-sizing: border-box;text-align: center;}#sk-container-id-4 label.sk-toggleable__label-arrow:before {content: \"▸\";float: left;margin-right: 0.25em;color: #696969;}#sk-container-id-4 label.sk-toggleable__label-arrow:hover:before {color: black;}#sk-container-id-4 div.sk-estimator:hover label.sk-toggleable__label-arrow:before {color: black;}#sk-container-id-4 div.sk-toggleable__content {max-height: 0;max-width: 0;overflow: hidden;text-align: left;background-color: #f0f8ff;}#sk-container-id-4 div.sk-toggleable__content pre {margin: 0.2em;color: black;border-radius: 0.25em;background-color: #f0f8ff;}#sk-container-id-4 input.sk-toggleable__control:checked~div.sk-toggleable__content {max-height: 200px;max-width: 100%;overflow: auto;}#sk-container-id-4 input.sk-toggleable__control:checked~label.sk-toggleable__label-arrow:before {content: \"▾\";}#sk-container-id-4 div.sk-estimator input.sk-toggleable__control:checked~label.sk-toggleable__label {background-color: #d4ebff;}#sk-container-id-4 div.sk-label input.sk-toggleable__control:checked~label.sk-toggleable__label {background-color: #d4ebff;}#sk-container-id-4 input.sk-hidden--visually {border: 0;clip: rect(1px 1px 1px 1px);clip: rect(1px, 1px, 1px, 1px);height: 1px;margin: -1px;overflow: hidden;padding: 0;position: absolute;width: 1px;}#sk-container-id-4 div.sk-estimator {font-family: monospace;background-color: #f0f8ff;border: 1px dotted black;border-radius: 0.25em;box-sizing: border-box;margin-bottom: 0.5em;}#sk-container-id-4 div.sk-estimator:hover {background-color: #d4ebff;}#sk-container-id-4 div.sk-parallel-item::after {content: \"\";width: 100%;border-bottom: 1px solid gray;flex-grow: 1;}#sk-container-id-4 div.sk-label:hover label.sk-toggleable__label {background-color: #d4ebff;}#sk-container-id-4 div.sk-serial::before {content: \"\";position: absolute;border-left: 1px solid gray;box-sizing: border-box;top: 0;bottom: 0;left: 50%;z-index: 0;}#sk-container-id-4 div.sk-serial {display: flex;flex-direction: column;align-items: center;background-color: white;padding-right: 0.2em;padding-left: 0.2em;position: relative;}#sk-container-id-4 div.sk-item {position: relative;z-index: 1;}#sk-container-id-4 div.sk-parallel {display: flex;align-items: stretch;justify-content: center;background-color: white;position: relative;}#sk-container-id-4 div.sk-item::before, #sk-container-id-4 div.sk-parallel-item::before {content: \"\";position: absolute;border-left: 1px solid gray;box-sizing: border-box;top: 0;bottom: 0;left: 50%;z-index: -1;}#sk-container-id-4 div.sk-parallel-item {display: flex;flex-direction: column;z-index: 1;position: relative;background-color: white;}#sk-container-id-4 div.sk-parallel-item:first-child::after {align-self: flex-end;width: 50%;}#sk-container-id-4 div.sk-parallel-item:last-child::after {align-self: flex-start;width: 50%;}#sk-container-id-4 div.sk-parallel-item:only-child::after {width: 0;}#sk-container-id-4 div.sk-dashed-wrapped {border: 1px dashed gray;margin: 0 0.4em 0.5em 0.4em;box-sizing: border-box;padding-bottom: 0.4em;background-color: white;}#sk-container-id-4 div.sk-label label {font-family: monospace;font-weight: bold;display: inline-block;line-height: 1.2em;}#sk-container-id-4 div.sk-label-container {text-align: center;}#sk-container-id-4 div.sk-container {/* jupyter's `normalize.less` sets `[hidden] { display: none; }` but bootstrap.min.css set `[hidden] { display: none !important; }` so we also need the `!important` here to be able to override the default hidden behavior on the sphinx rendered scikit-learn.org. See: https://github.com/scikit-learn/scikit-learn/issues/21755 */display: inline-block !important;position: relative;}#sk-container-id-4 div.sk-text-repr-fallback {display: none;}</style><div id=\"sk-container-id-4\" class=\"sk-top-container\"><div class=\"sk-text-repr-fallback\"><pre>Ridge(alpha=4.0)</pre><b>In a Jupyter environment, please rerun this cell to show the HTML representation or trust the notebook. <br />On GitHub, the HTML representation is unable to render, please try loading this page with nbviewer.org.</b></div><div class=\"sk-container\" hidden><div class=\"sk-item\"><div class=\"sk-estimator sk-toggleable\"><input class=\"sk-toggleable__control sk-hidden--visually\" id=\"sk-estimator-id-4\" type=\"checkbox\" checked><label for=\"sk-estimator-id-4\" class=\"sk-toggleable__label sk-toggleable__label-arrow\">Ridge</label><div class=\"sk-toggleable__content\"><pre>Ridge(alpha=4.0)</pre></div></div></div></div></div>"
      ],
      "text/plain": [
       "Ridge(alpha=4.0)"
      ]
     },
     "execution_count": 61,
     "metadata": {},
     "output_type": "execute_result"
    }
   ],
   "source": [
    "clf.fit(X_train,y_train)"
   ]
  },
  {
   "cell_type": "code",
   "execution_count": 62,
   "id": "a35ac7e7",
   "metadata": {},
   "outputs": [
    {
     "data": {
      "text/html": [
       "<style>#sk-container-id-5 {color: black;}#sk-container-id-5 pre{padding: 0;}#sk-container-id-5 div.sk-toggleable {background-color: white;}#sk-container-id-5 label.sk-toggleable__label {cursor: pointer;display: block;width: 100%;margin-bottom: 0;padding: 0.3em;box-sizing: border-box;text-align: center;}#sk-container-id-5 label.sk-toggleable__label-arrow:before {content: \"▸\";float: left;margin-right: 0.25em;color: #696969;}#sk-container-id-5 label.sk-toggleable__label-arrow:hover:before {color: black;}#sk-container-id-5 div.sk-estimator:hover label.sk-toggleable__label-arrow:before {color: black;}#sk-container-id-5 div.sk-toggleable__content {max-height: 0;max-width: 0;overflow: hidden;text-align: left;background-color: #f0f8ff;}#sk-container-id-5 div.sk-toggleable__content pre {margin: 0.2em;color: black;border-radius: 0.25em;background-color: #f0f8ff;}#sk-container-id-5 input.sk-toggleable__control:checked~div.sk-toggleable__content {max-height: 200px;max-width: 100%;overflow: auto;}#sk-container-id-5 input.sk-toggleable__control:checked~label.sk-toggleable__label-arrow:before {content: \"▾\";}#sk-container-id-5 div.sk-estimator input.sk-toggleable__control:checked~label.sk-toggleable__label {background-color: #d4ebff;}#sk-container-id-5 div.sk-label input.sk-toggleable__control:checked~label.sk-toggleable__label {background-color: #d4ebff;}#sk-container-id-5 input.sk-hidden--visually {border: 0;clip: rect(1px 1px 1px 1px);clip: rect(1px, 1px, 1px, 1px);height: 1px;margin: -1px;overflow: hidden;padding: 0;position: absolute;width: 1px;}#sk-container-id-5 div.sk-estimator {font-family: monospace;background-color: #f0f8ff;border: 1px dotted black;border-radius: 0.25em;box-sizing: border-box;margin-bottom: 0.5em;}#sk-container-id-5 div.sk-estimator:hover {background-color: #d4ebff;}#sk-container-id-5 div.sk-parallel-item::after {content: \"\";width: 100%;border-bottom: 1px solid gray;flex-grow: 1;}#sk-container-id-5 div.sk-label:hover label.sk-toggleable__label {background-color: #d4ebff;}#sk-container-id-5 div.sk-serial::before {content: \"\";position: absolute;border-left: 1px solid gray;box-sizing: border-box;top: 0;bottom: 0;left: 50%;z-index: 0;}#sk-container-id-5 div.sk-serial {display: flex;flex-direction: column;align-items: center;background-color: white;padding-right: 0.2em;padding-left: 0.2em;position: relative;}#sk-container-id-5 div.sk-item {position: relative;z-index: 1;}#sk-container-id-5 div.sk-parallel {display: flex;align-items: stretch;justify-content: center;background-color: white;position: relative;}#sk-container-id-5 div.sk-item::before, #sk-container-id-5 div.sk-parallel-item::before {content: \"\";position: absolute;border-left: 1px solid gray;box-sizing: border-box;top: 0;bottom: 0;left: 50%;z-index: -1;}#sk-container-id-5 div.sk-parallel-item {display: flex;flex-direction: column;z-index: 1;position: relative;background-color: white;}#sk-container-id-5 div.sk-parallel-item:first-child::after {align-self: flex-end;width: 50%;}#sk-container-id-5 div.sk-parallel-item:last-child::after {align-self: flex-start;width: 50%;}#sk-container-id-5 div.sk-parallel-item:only-child::after {width: 0;}#sk-container-id-5 div.sk-dashed-wrapped {border: 1px dashed gray;margin: 0 0.4em 0.5em 0.4em;box-sizing: border-box;padding-bottom: 0.4em;background-color: white;}#sk-container-id-5 div.sk-label label {font-family: monospace;font-weight: bold;display: inline-block;line-height: 1.2em;}#sk-container-id-5 div.sk-label-container {text-align: center;}#sk-container-id-5 div.sk-container {/* jupyter's `normalize.less` sets `[hidden] { display: none; }` but bootstrap.min.css set `[hidden] { display: none !important; }` so we also need the `!important` here to be able to override the default hidden behavior on the sphinx rendered scikit-learn.org. See: https://github.com/scikit-learn/scikit-learn/issues/21755 */display: inline-block !important;position: relative;}#sk-container-id-5 div.sk-text-repr-fallback {display: none;}</style><div id=\"sk-container-id-5\" class=\"sk-top-container\"><div class=\"sk-text-repr-fallback\"><pre>Ridge()</pre><b>In a Jupyter environment, please rerun this cell to show the HTML representation or trust the notebook. <br />On GitHub, the HTML representation is unable to render, please try loading this page with nbviewer.org.</b></div><div class=\"sk-container\" hidden><div class=\"sk-item\"><div class=\"sk-estimator sk-toggleable\"><input class=\"sk-toggleable__control sk-hidden--visually\" id=\"sk-estimator-id-5\" type=\"checkbox\" checked><label for=\"sk-estimator-id-5\" class=\"sk-toggleable__label sk-toggleable__label-arrow\">Ridge</label><div class=\"sk-toggleable__content\"><pre>Ridge()</pre></div></div></div></div></div>"
      ],
      "text/plain": [
       "Ridge()"
      ]
     },
     "execution_count": 62,
     "metadata": {},
     "output_type": "execute_result"
    }
   ],
   "source": [
    "Ridge()"
   ]
  },
  {
   "cell_type": "code",
   "execution_count": 63,
   "id": "17ab84d6",
   "metadata": {},
   "outputs": [],
   "source": [
    "prediction = clf.predict(X_test)"
   ]
  },
  {
   "cell_type": "code",
   "execution_count": 64,
   "id": "532b2ffd",
   "metadata": {},
   "outputs": [
    {
     "data": {
      "text/plain": [
       "array([520.35326579, 438.53093332, 420.65880423, 484.59429277,\n",
       "       362.7223054 , 451.79552689, 438.53093332, 479.75718076,\n",
       "       477.33494604, 498.95275902, 391.69055481, 409.57004132,\n",
       "       427.44217041, 451.79552689, 484.60165019, 438.53093332,\n",
       "       502.47377928, 416.3534075 ])"
      ]
     },
     "execution_count": 64,
     "metadata": {},
     "output_type": "execute_result"
    }
   ],
   "source": [
    "prediction"
   ]
  },
  {
   "cell_type": "code",
   "execution_count": 65,
   "id": "65d50397",
   "metadata": {},
   "outputs": [
    {
     "data": {
      "image/png": "[encoded data removed]",
      "text/plain": [
       "<Figure size 640x480 with 1 Axes>"
      ]
     },
     "metadata": {},
     "output_type": "display_data"
    }
   ],
   "source": [
    "plt.plot(prediction, y_test, 'x')\n",
    "plt.plot(y_test, y_test, '-', lw=1.3, alpha=0.5)\n",
    "plt.title(\"Ridge Regression model\")\n",
    "plt.xlabel('Predicted bp, K')\n",
    "plt.ylabel('True bp, K');"
   ]
  },
  {
   "cell_type": "code",
   "execution_count": 66,
   "id": "02632793",
   "metadata": {},
   "outputs": [
    {
     "data": {
      "text/plain": [
       "0.9534721290079212"
      ]
     },
     "execution_count": 66,
     "metadata": {},
     "output_type": "execute_result"
    }
   ],
   "source": [
    "clf.score(X_test,y_test)"
   ]
  },
  {
   "cell_type": "code",
   "execution_count": 67,
   "id": "bfcb00bf",
   "metadata": {},
   "outputs": [
    {
     "name": "stdout",
     "output_type": "stream",
     "text": [
      "[  0.7357423    7.55702199 -11.08876291 -10.62740308   4.84446943\n",
      "  15.20479542]\n"
     ]
    }
   ],
   "source": [
    "print(clf.coef_)"
   ]
  },
  {
   "cell_type": "code",
   "execution_count": 68,
   "id": "d7ef4310",
   "metadata": {},
   "outputs": [
    {
     "name": "stdout",
     "output_type": "stream",
     "text": [
      "321.85468970679995\n"
     ]
    }
   ],
   "source": [
    "print(clf.intercept_)"
   ]
  },
  {
   "cell_type": "markdown",
   "id": "881d9690",
   "metadata": {},
   "source": [
    "## Ridge Regression or Tikhonov regularization\n",
    "\n",
    "``` (info class)\n",
    "class sklearn.kernel_ridge.KernelRidge(alpha=1, *, kernel='linear', gamma=None, degree=3, coef0=1, kernel_params=None)\n",
    "```    \n"
   ]
  },
  {
   "cell_type": "markdown",
   "id": "54246081",
   "metadata": {},
   "source": [
    "Kernel ridge regression (KRR) combines ridge regression (linear least squares with l2-norm regularization) with the kernel trick. It thus learns a linear function in the space induced by the respective kernel and the data. For non-linear kernels, this corresponds to a non-linear function in the original space.\n",
    "\n",
    "The form of the model learned by KRR is identical to support vector regression (SVR). However, different loss functions are used: KRR uses squared error loss while support vector regression uses epsilon-insensitive loss, both combined with l2 regularization. In contrast to SVR, fitting a KRR model can be done in closed-form and is typically faster for medium-sized datasets. On the other hand, the learned model is non-sparse and thus slower than SVR, which learns a sparse model for epsilon > 0, at prediction-time.\n",
    "\n",
    "This estimator has built-in support for multi-variate regression (i.e., when y is a 2d-array of shape ([n_samples, n_targets])."
   ]
  },
  {
   "cell_type": "code",
   "execution_count": 69,
   "id": "ebd7d22d",
   "metadata": {},
   "outputs": [],
   "source": [
    "from sklearn.kernel_ridge import KernelRidge"
   ]
  },
  {
   "cell_type": "code",
   "execution_count": 70,
   "id": "8f8a8991",
   "metadata": {},
   "outputs": [],
   "source": [
    "clf_KRR = KernelRidge(alpha=1.0,kernel='linear')"
   ]
  },
  {
   "cell_type": "code",
   "execution_count": 71,
   "id": "6069342e",
   "metadata": {},
   "outputs": [
    {
     "data": {
      "text/html": [
       "<style>#sk-container-id-6 {color: black;}#sk-container-id-6 pre{padding: 0;}#sk-container-id-6 div.sk-toggleable {background-color: white;}#sk-container-id-6 label.sk-toggleable__label {cursor: pointer;display: block;width: 100%;margin-bottom: 0;padding: 0.3em;box-sizing: border-box;text-align: center;}#sk-container-id-6 label.sk-toggleable__label-arrow:before {content: \"▸\";float: left;margin-right: 0.25em;color: #696969;}#sk-container-id-6 label.sk-toggleable__label-arrow:hover:before {color: black;}#sk-container-id-6 div.sk-estimator:hover label.sk-toggleable__label-arrow:before {color: black;}#sk-container-id-6 div.sk-toggleable__content {max-height: 0;max-width: 0;overflow: hidden;text-align: left;background-color: #f0f8ff;}#sk-container-id-6 div.sk-toggleable__content pre {margin: 0.2em;color: black;border-radius: 0.25em;background-color: #f0f8ff;}#sk-container-id-6 input.sk-toggleable__control:checked~div.sk-toggleable__content {max-height: 200px;max-width: 100%;overflow: auto;}#sk-container-id-6 input.sk-toggleable__control:checked~label.sk-toggleable__label-arrow:before {content: \"▾\";}#sk-container-id-6 div.sk-estimator input.sk-toggleable__control:checked~label.sk-toggleable__label {background-color: #d4ebff;}#sk-container-id-6 div.sk-label input.sk-toggleable__control:checked~label.sk-toggleable__label {background-color: #d4ebff;}#sk-container-id-6 input.sk-hidden--visually {border: 0;clip: rect(1px 1px 1px 1px);clip: rect(1px, 1px, 1px, 1px);height: 1px;margin: -1px;overflow: hidden;padding: 0;position: absolute;width: 1px;}#sk-container-id-6 div.sk-estimator {font-family: monospace;background-color: #f0f8ff;border: 1px dotted black;border-radius: 0.25em;box-sizing: border-box;margin-bottom: 0.5em;}#sk-container-id-6 div.sk-estimator:hover {background-color: #d4ebff;}#sk-container-id-6 div.sk-parallel-item::after {content: \"\";width: 100%;border-bottom: 1px solid gray;flex-grow: 1;}#sk-container-id-6 div.sk-label:hover label.sk-toggleable__label {background-color: #d4ebff;}#sk-container-id-6 div.sk-serial::before {content: \"\";position: absolute;border-left: 1px solid gray;box-sizing: border-box;top: 0;bottom: 0;left: 50%;z-index: 0;}#sk-container-id-6 div.sk-serial {display: flex;flex-direction: column;align-items: center;background-color: white;padding-right: 0.2em;padding-left: 0.2em;position: relative;}#sk-container-id-6 div.sk-item {position: relative;z-index: 1;}#sk-container-id-6 div.sk-parallel {display: flex;align-items: stretch;justify-content: center;background-color: white;position: relative;}#sk-container-id-6 div.sk-item::before, #sk-container-id-6 div.sk-parallel-item::before {content: \"\";position: absolute;border-left: 1px solid gray;box-sizing: border-box;top: 0;bottom: 0;left: 50%;z-index: -1;}#sk-container-id-6 div.sk-parallel-item {display: flex;flex-direction: column;z-index: 1;position: relative;background-color: white;}#sk-container-id-6 div.sk-parallel-item:first-child::after {align-self: flex-end;width: 50%;}#sk-container-id-6 div.sk-parallel-item:last-child::after {align-self: flex-start;width: 50%;}#sk-container-id-6 div.sk-parallel-item:only-child::after {width: 0;}#sk-container-id-6 div.sk-dashed-wrapped {border: 1px dashed gray;margin: 0 0.4em 0.5em 0.4em;box-sizing: border-box;padding-bottom: 0.4em;background-color: white;}#sk-container-id-6 div.sk-label label {font-family: monospace;font-weight: bold;display: inline-block;line-height: 1.2em;}#sk-container-id-6 div.sk-label-container {text-align: center;}#sk-container-id-6 div.sk-container {/* jupyter's `normalize.less` sets `[hidden] { display: none; }` but bootstrap.min.css set `[hidden] { display: none !important; }` so we also need the `!important` here to be able to override the default hidden behavior on the sphinx rendered scikit-learn.org. See: https://github.com/scikit-learn/scikit-learn/issues/21755 */display: inline-block !important;position: relative;}#sk-container-id-6 div.sk-text-repr-fallback {display: none;}</style><div id=\"sk-container-id-6\" class=\"sk-top-container\"><div class=\"sk-text-repr-fallback\"><pre>KernelRidge(alpha=1.0)</pre><b>In a Jupyter environment, please rerun this cell to show the HTML representation or trust the notebook. <br />On GitHub, the HTML representation is unable to render, please try loading this page with nbviewer.org.</b></div><div class=\"sk-container\" hidden><div class=\"sk-item\"><div class=\"sk-estimator sk-toggleable\"><input class=\"sk-toggleable__control sk-hidden--visually\" id=\"sk-estimator-id-6\" type=\"checkbox\" checked><label for=\"sk-estimator-id-6\" class=\"sk-toggleable__label sk-toggleable__label-arrow\">KernelRidge</label><div class=\"sk-toggleable__content\"><pre>KernelRidge(alpha=1.0)</pre></div></div></div></div></div>"
      ],
      "text/plain": [
       "KernelRidge(alpha=1.0)"
      ]
     },
     "execution_count": 71,
     "metadata": {},
     "output_type": "execute_result"
    }
   ],
   "source": [
    "clf_KRR.fit(X_train,y_train)"
   ]
  },
  {
   "cell_type": "code",
   "execution_count": 72,
   "id": "8a96ed17",
   "metadata": {},
   "outputs": [
    {
     "data": {
      "text/html": [
       "<style>#sk-container-id-7 {color: black;}#sk-container-id-7 pre{padding: 0;}#sk-container-id-7 div.sk-toggleable {background-color: white;}#sk-container-id-7 label.sk-toggleable__label {cursor: pointer;display: block;width: 100%;margin-bottom: 0;padding: 0.3em;box-sizing: border-box;text-align: center;}#sk-container-id-7 label.sk-toggleable__label-arrow:before {content: \"▸\";float: left;margin-right: 0.25em;color: #696969;}#sk-container-id-7 label.sk-toggleable__label-arrow:hover:before {color: black;}#sk-container-id-7 div.sk-estimator:hover label.sk-toggleable__label-arrow:before {color: black;}#sk-container-id-7 div.sk-toggleable__content {max-height: 0;max-width: 0;overflow: hidden;text-align: left;background-color: #f0f8ff;}#sk-container-id-7 div.sk-toggleable__content pre {margin: 0.2em;color: black;border-radius: 0.25em;background-color: #f0f8ff;}#sk-container-id-7 input.sk-toggleable__control:checked~div.sk-toggleable__content {max-height: 200px;max-width: 100%;overflow: auto;}#sk-container-id-7 input.sk-toggleable__control:checked~label.sk-toggleable__label-arrow:before {content: \"▾\";}#sk-container-id-7 div.sk-estimator input.sk-toggleable__control:checked~label.sk-toggleable__label {background-color: #d4ebff;}#sk-container-id-7 div.sk-label input.sk-toggleable__control:checked~label.sk-toggleable__label {background-color: #d4ebff;}#sk-container-id-7 input.sk-hidden--visually {border: 0;clip: rect(1px 1px 1px 1px);clip: rect(1px, 1px, 1px, 1px);height: 1px;margin: -1px;overflow: hidden;padding: 0;position: absolute;width: 1px;}#sk-container-id-7 div.sk-estimator {font-family: monospace;background-color: #f0f8ff;border: 1px dotted black;border-radius: 0.25em;box-sizing: border-box;margin-bottom: 0.5em;}#sk-container-id-7 div.sk-estimator:hover {background-color: #d4ebff;}#sk-container-id-7 div.sk-parallel-item::after {content: \"\";width: 100%;border-bottom: 1px solid gray;flex-grow: 1;}#sk-container-id-7 div.sk-label:hover label.sk-toggleable__label {background-color: #d4ebff;}#sk-container-id-7 div.sk-serial::before {content: \"\";position: absolute;border-left: 1px solid gray;box-sizing: border-box;top: 0;bottom: 0;left: 50%;z-index: 0;}#sk-container-id-7 div.sk-serial {display: flex;flex-direction: column;align-items: center;background-color: white;padding-right: 0.2em;padding-left: 0.2em;position: relative;}#sk-container-id-7 div.sk-item {position: relative;z-index: 1;}#sk-container-id-7 div.sk-parallel {display: flex;align-items: stretch;justify-content: center;background-color: white;position: relative;}#sk-container-id-7 div.sk-item::before, #sk-container-id-7 div.sk-parallel-item::before {content: \"\";position: absolute;border-left: 1px solid gray;box-sizing: border-box;top: 0;bottom: 0;left: 50%;z-index: -1;}#sk-container-id-7 div.sk-parallel-item {display: flex;flex-direction: column;z-index: 1;position: relative;background-color: white;}#sk-container-id-7 div.sk-parallel-item:first-child::after {align-self: flex-end;width: 50%;}#sk-container-id-7 div.sk-parallel-item:last-child::after {align-self: flex-start;width: 50%;}#sk-container-id-7 div.sk-parallel-item:only-child::after {width: 0;}#sk-container-id-7 div.sk-dashed-wrapped {border: 1px dashed gray;margin: 0 0.4em 0.5em 0.4em;box-sizing: border-box;padding-bottom: 0.4em;background-color: white;}#sk-container-id-7 div.sk-label label {font-family: monospace;font-weight: bold;display: inline-block;line-height: 1.2em;}#sk-container-id-7 div.sk-label-container {text-align: center;}#sk-container-id-7 div.sk-container {/* jupyter's `normalize.less` sets `[hidden] { display: none; }` but bootstrap.min.css set `[hidden] { display: none !important; }` so we also need the `!important` here to be able to override the default hidden behavior on the sphinx rendered scikit-learn.org. See: https://github.com/scikit-learn/scikit-learn/issues/21755 */display: inline-block !important;position: relative;}#sk-container-id-7 div.sk-text-repr-fallback {display: none;}</style><div id=\"sk-container-id-7\" class=\"sk-top-container\"><div class=\"sk-text-repr-fallback\"><pre>KernelRidge()</pre><b>In a Jupyter environment, please rerun this cell to show the HTML representation or trust the notebook. <br />On GitHub, the HTML representation is unable to render, please try loading this page with nbviewer.org.</b></div><div class=\"sk-container\" hidden><div class=\"sk-item\"><div class=\"sk-estimator sk-toggleable\"><input class=\"sk-toggleable__control sk-hidden--visually\" id=\"sk-estimator-id-7\" type=\"checkbox\" checked><label for=\"sk-estimator-id-7\" class=\"sk-toggleable__label sk-toggleable__label-arrow\">KernelRidge</label><div class=\"sk-toggleable__content\"><pre>KernelRidge()</pre></div></div></div></div></div>"
      ],
      "text/plain": [
       "KernelRidge()"
      ]
     },
     "execution_count": 72,
     "metadata": {},
     "output_type": "execute_result"
    }
   ],
   "source": [
    "KernelRidge()"
   ]
  },
  {
   "cell_type": "code",
   "execution_count": 73,
   "id": "aa5c3fc0",
   "metadata": {},
   "outputs": [],
   "source": [
    "prediction = clf_KRR.predict(X_test)"
   ]
  },
  {
   "cell_type": "code",
   "execution_count": 74,
   "id": "f0e49ca6",
   "metadata": {},
   "outputs": [
    {
     "data": {
      "text/plain": [
       "array([533.13079444, 433.60663934, 408.96788232, 483.60308163,\n",
       "       362.19111245, 459.22271795, 433.60663934, 464.8714982 ,\n",
       "       455.4431568 , 533.91243706, 385.57949739, 410.34335379,\n",
       "       434.98211082, 459.22271795, 483.72818101, 433.60663934,\n",
       "       508.36693804, 436.35758229])"
      ]
     },
     "execution_count": 74,
     "metadata": {},
     "output_type": "execute_result"
    }
   ],
   "source": [
    "prediction"
   ]
  },
  {
   "cell_type": "code",
   "execution_count": 75,
   "id": "a8e63f36",
   "metadata": {},
   "outputs": [
    {
     "data": {
      "image/png": "[encoded data removed]",
      "text/plain": [
       "<Figure size 640x480 with 1 Axes>"
      ]
     },
     "metadata": {},
     "output_type": "display_data"
    }
   ],
   "source": [
    "plt.plot(prediction, y_test, '*')\n",
    "plt.plot(y_test, y_test, '-', lw=1.3, alpha=0.5)\n",
    "plt.title(\"Kernel Ridge Regression model\")\n",
    "plt.xlabel('Predicted bp, K')\n",
    "plt.ylabel('True bp, K');"
   ]
  },
  {
   "cell_type": "code",
   "execution_count": 76,
   "id": "94b8319d",
   "metadata": {},
   "outputs": [
    {
     "data": {
      "text/plain": [
       "0.8135825515120059"
      ]
     },
     "execution_count": 76,
     "metadata": {},
     "output_type": "execute_result"
    }
   ],
   "source": [
    "clf_KRR.score(X_test,y_test)"
   ]
  },
  {
   "cell_type": "markdown",
   "id": "286f081e",
   "metadata": {},
   "source": [
    "### Ridge Regression Cross-Validation\n",
    "\n",
    "\n",
    "\n",
    "\"\"\"\n",
    "class sklearn.linear_model.RidgeCV(alphas=(0.1, 1.0, 10.0), *, fit_intercept=True, scoring=None, cv=None, gcv_mode=None, store_cv_values=False, alpha_per_target=False)\n",
    "\"\"\""
   ]
  },
  {
   "cell_type": "code",
   "execution_count": 113,
   "id": "4f8d9662",
   "metadata": {},
   "outputs": [],
   "source": [
    "from sklearn.linear_model import RidgeCV\n",
    "from sklearn.metrics import mean_squared_error, r2_score    "
   ]
  },
  {
   "cell_type": "code",
   "execution_count": 101,
   "id": "61e29e7a",
   "metadata": {},
   "outputs": [],
   "source": [
    "clf = RidgeCV(alphas=[1e-3, 1e-2, 1e-1, 1, 2, 3, 4, 5], store_cv_values = True, alpha_per_target = True)"
   ]
  },
  {
   "cell_type": "markdown",
   "id": "1ddff1de",
   "metadata": {},
   "source": [
    "- **alphas:** *alphasarray-like of shape (n_alphas,), default=(0.1, 1.0, 10.0)*\n",
    "\n",
    "Array of alpha values to try. Regularization strength; must be a positive float. Regularization improves the conditioning of the problem and reduces the variance of the estimates. Larger values specify stronger regularization. To know more, see the [`link`](https://scikit-learn.org/stable/modules/generated/sklearn.linear_model.RidgeCV.html).\n",
    "\n",
    "- **store_cv_values:** *bool, default=False*\n",
    "\n",
    "Flag indicating if the cross-validation values corresponding to each alpha should be stored in the cv_values_ attribute (see below). This flag is only compatible with cv=None (i.e. using Leave-One-Out Cross-Validation).\n",
    "\n",
    "- **alpha_per_target:** *bool, default=False*\n",
    "\n",
    "Flag indicating whether to optimize the alpha value (picked from the alphas parameter list) for each target separately (for multi-output settings: multiple prediction targets). When set to True, after fitting, the alpha_ attribute will contain a value for each target. When set to False, a single alpha is used for all targets."
   ]
  },
  {
   "cell_type": "code",
   "execution_count": 102,
   "id": "c8e24f6c",
   "metadata": {},
   "outputs": [
    {
     "data": {
      "text/html": [
       "<style>#sk-container-id-13 {color: black;}#sk-container-id-13 pre{padding: 0;}#sk-container-id-13 div.sk-toggleable {background-color: white;}#sk-container-id-13 label.sk-toggleable__label {cursor: pointer;display: block;width: 100%;margin-bottom: 0;padding: 0.3em;box-sizing: border-box;text-align: center;}#sk-container-id-13 label.sk-toggleable__label-arrow:before {content: \"▸\";float: left;margin-right: 0.25em;color: #696969;}#sk-container-id-13 label.sk-toggleable__label-arrow:hover:before {color: black;}#sk-container-id-13 div.sk-estimator:hover label.sk-toggleable__label-arrow:before {color: black;}#sk-container-id-13 div.sk-toggleable__content {max-height: 0;max-width: 0;overflow: hidden;text-align: left;background-color: #f0f8ff;}#sk-container-id-13 div.sk-toggleable__content pre {margin: 0.2em;color: black;border-radius: 0.25em;background-color: #f0f8ff;}#sk-container-id-13 input.sk-toggleable__control:checked~div.sk-toggleable__content {max-height: 200px;max-width: 100%;overflow: auto;}#sk-container-id-13 input.sk-toggleable__control:checked~label.sk-toggleable__label-arrow:before {content: \"▾\";}#sk-container-id-13 div.sk-estimator input.sk-toggleable__control:checked~label.sk-toggleable__label {background-color: #d4ebff;}#sk-container-id-13 div.sk-label input.sk-toggleable__control:checked~label.sk-toggleable__label {background-color: #d4ebff;}#sk-container-id-13 input.sk-hidden--visually {border: 0;clip: rect(1px 1px 1px 1px);clip: rect(1px, 1px, 1px, 1px);height: 1px;margin: -1px;overflow: hidden;padding: 0;position: absolute;width: 1px;}#sk-container-id-13 div.sk-estimator {font-family: monospace;background-color: #f0f8ff;border: 1px dotted black;border-radius: 0.25em;box-sizing: border-box;margin-bottom: 0.5em;}#sk-container-id-13 div.sk-estimator:hover {background-color: #d4ebff;}#sk-container-id-13 div.sk-parallel-item::after {content: \"\";width: 100%;border-bottom: 1px solid gray;flex-grow: 1;}#sk-container-id-13 div.sk-label:hover label.sk-toggleable__label {background-color: #d4ebff;}#sk-container-id-13 div.sk-serial::before {content: \"\";position: absolute;border-left: 1px solid gray;box-sizing: border-box;top: 0;bottom: 0;left: 50%;z-index: 0;}#sk-container-id-13 div.sk-serial {display: flex;flex-direction: column;align-items: center;background-color: white;padding-right: 0.2em;padding-left: 0.2em;position: relative;}#sk-container-id-13 div.sk-item {position: relative;z-index: 1;}#sk-container-id-13 div.sk-parallel {display: flex;align-items: stretch;justify-content: center;background-color: white;position: relative;}#sk-container-id-13 div.sk-item::before, #sk-container-id-13 div.sk-parallel-item::before {content: \"\";position: absolute;border-left: 1px solid gray;box-sizing: border-box;top: 0;bottom: 0;left: 50%;z-index: -1;}#sk-container-id-13 div.sk-parallel-item {display: flex;flex-direction: column;z-index: 1;position: relative;background-color: white;}#sk-container-id-13 div.sk-parallel-item:first-child::after {align-self: flex-end;width: 50%;}#sk-container-id-13 div.sk-parallel-item:last-child::after {align-self: flex-start;width: 50%;}#sk-container-id-13 div.sk-parallel-item:only-child::after {width: 0;}#sk-container-id-13 div.sk-dashed-wrapped {border: 1px dashed gray;margin: 0 0.4em 0.5em 0.4em;box-sizing: border-box;padding-bottom: 0.4em;background-color: white;}#sk-container-id-13 div.sk-label label {font-family: monospace;font-weight: bold;display: inline-block;line-height: 1.2em;}#sk-container-id-13 div.sk-label-container {text-align: center;}#sk-container-id-13 div.sk-container {/* jupyter's `normalize.less` sets `[hidden] { display: none; }` but bootstrap.min.css set `[hidden] { display: none !important; }` so we also need the `!important` here to be able to override the default hidden behavior on the sphinx rendered scikit-learn.org. See: https://github.com/scikit-learn/scikit-learn/issues/21755 */display: inline-block !important;position: relative;}#sk-container-id-13 div.sk-text-repr-fallback {display: none;}</style><div id=\"sk-container-id-13\" class=\"sk-top-container\"><div class=\"sk-text-repr-fallback\"><pre>RidgeCV(alpha_per_target=True, alphas=[0.001, 0.01, 0.1, 1, 2, 3, 4, 5],\n",
       "        store_cv_values=True)</pre><b>In a Jupyter environment, please rerun this cell to show the HTML representation or trust the notebook. <br />On GitHub, the HTML representation is unable to render, please try loading this page with nbviewer.org.</b></div><div class=\"sk-container\" hidden><div class=\"sk-item\"><div class=\"sk-estimator sk-toggleable\"><input class=\"sk-toggleable__control sk-hidden--visually\" id=\"sk-estimator-id-13\" type=\"checkbox\" checked><label for=\"sk-estimator-id-13\" class=\"sk-toggleable__label sk-toggleable__label-arrow\">RidgeCV</label><div class=\"sk-toggleable__content\"><pre>RidgeCV(alpha_per_target=True, alphas=[0.001, 0.01, 0.1, 1, 2, 3, 4, 5],\n",
       "        store_cv_values=True)</pre></div></div></div></div></div>"
      ],
      "text/plain": [
       "RidgeCV(alpha_per_target=True, alphas=[0.001, 0.01, 0.1, 1, 2, 3, 4, 5],\n",
       "        store_cv_values=True)"
      ]
     },
     "execution_count": 102,
     "metadata": {},
     "output_type": "execute_result"
    }
   ],
   "source": [
    "clf.fit(X_train,y_train)"
   ]
  },
  {
   "cell_type": "code",
   "execution_count": 103,
   "id": "65737140",
   "metadata": {},
   "outputs": [
    {
     "data": {
      "text/html": [
       "<style>#sk-container-id-14 {color: black;}#sk-container-id-14 pre{padding: 0;}#sk-container-id-14 div.sk-toggleable {background-color: white;}#sk-container-id-14 label.sk-toggleable__label {cursor: pointer;display: block;width: 100%;margin-bottom: 0;padding: 0.3em;box-sizing: border-box;text-align: center;}#sk-container-id-14 label.sk-toggleable__label-arrow:before {content: \"▸\";float: left;margin-right: 0.25em;color: #696969;}#sk-container-id-14 label.sk-toggleable__label-arrow:hover:before {color: black;}#sk-container-id-14 div.sk-estimator:hover label.sk-toggleable__label-arrow:before {color: black;}#sk-container-id-14 div.sk-toggleable__content {max-height: 0;max-width: 0;overflow: hidden;text-align: left;background-color: #f0f8ff;}#sk-container-id-14 div.sk-toggleable__content pre {margin: 0.2em;color: black;border-radius: 0.25em;background-color: #f0f8ff;}#sk-container-id-14 input.sk-toggleable__control:checked~div.sk-toggleable__content {max-height: 200px;max-width: 100%;overflow: auto;}#sk-container-id-14 input.sk-toggleable__control:checked~label.sk-toggleable__label-arrow:before {content: \"▾\";}#sk-container-id-14 div.sk-estimator input.sk-toggleable__control:checked~label.sk-toggleable__label {background-color: #d4ebff;}#sk-container-id-14 div.sk-label input.sk-toggleable__control:checked~label.sk-toggleable__label {background-color: #d4ebff;}#sk-container-id-14 input.sk-hidden--visually {border: 0;clip: rect(1px 1px 1px 1px);clip: rect(1px, 1px, 1px, 1px);height: 1px;margin: -1px;overflow: hidden;padding: 0;position: absolute;width: 1px;}#sk-container-id-14 div.sk-estimator {font-family: monospace;background-color: #f0f8ff;border: 1px dotted black;border-radius: 0.25em;box-sizing: border-box;margin-bottom: 0.5em;}#sk-container-id-14 div.sk-estimator:hover {background-color: #d4ebff;}#sk-container-id-14 div.sk-parallel-item::after {content: \"\";width: 100%;border-bottom: 1px solid gray;flex-grow: 1;}#sk-container-id-14 div.sk-label:hover label.sk-toggleable__label {background-color: #d4ebff;}#sk-container-id-14 div.sk-serial::before {content: \"\";position: absolute;border-left: 1px solid gray;box-sizing: border-box;top: 0;bottom: 0;left: 50%;z-index: 0;}#sk-container-id-14 div.sk-serial {display: flex;flex-direction: column;align-items: center;background-color: white;padding-right: 0.2em;padding-left: 0.2em;position: relative;}#sk-container-id-14 div.sk-item {position: relative;z-index: 1;}#sk-container-id-14 div.sk-parallel {display: flex;align-items: stretch;justify-content: center;background-color: white;position: relative;}#sk-container-id-14 div.sk-item::before, #sk-container-id-14 div.sk-parallel-item::before {content: \"\";position: absolute;border-left: 1px solid gray;box-sizing: border-box;top: 0;bottom: 0;left: 50%;z-index: -1;}#sk-container-id-14 div.sk-parallel-item {display: flex;flex-direction: column;z-index: 1;position: relative;background-color: white;}#sk-container-id-14 div.sk-parallel-item:first-child::after {align-self: flex-end;width: 50%;}#sk-container-id-14 div.sk-parallel-item:last-child::after {align-self: flex-start;width: 50%;}#sk-container-id-14 div.sk-parallel-item:only-child::after {width: 0;}#sk-container-id-14 div.sk-dashed-wrapped {border: 1px dashed gray;margin: 0 0.4em 0.5em 0.4em;box-sizing: border-box;padding-bottom: 0.4em;background-color: white;}#sk-container-id-14 div.sk-label label {font-family: monospace;font-weight: bold;display: inline-block;line-height: 1.2em;}#sk-container-id-14 div.sk-label-container {text-align: center;}#sk-container-id-14 div.sk-container {/* jupyter's `normalize.less` sets `[hidden] { display: none; }` but bootstrap.min.css set `[hidden] { display: none !important; }` so we also need the `!important` here to be able to override the default hidden behavior on the sphinx rendered scikit-learn.org. See: https://github.com/scikit-learn/scikit-learn/issues/21755 */display: inline-block !important;position: relative;}#sk-container-id-14 div.sk-text-repr-fallback {display: none;}</style><div id=\"sk-container-id-14\" class=\"sk-top-container\"><div class=\"sk-text-repr-fallback\"><pre>RidgeCV()</pre><b>In a Jupyter environment, please rerun this cell to show the HTML representation or trust the notebook. <br />On GitHub, the HTML representation is unable to render, please try loading this page with nbviewer.org.</b></div><div class=\"sk-container\" hidden><div class=\"sk-item\"><div class=\"sk-estimator sk-toggleable\"><input class=\"sk-toggleable__control sk-hidden--visually\" id=\"sk-estimator-id-14\" type=\"checkbox\" checked><label for=\"sk-estimator-id-14\" class=\"sk-toggleable__label sk-toggleable__label-arrow\">RidgeCV</label><div class=\"sk-toggleable__content\"><pre>RidgeCV()</pre></div></div></div></div></div>"
      ],
      "text/plain": [
       "RidgeCV()"
      ]
     },
     "execution_count": 103,
     "metadata": {},
     "output_type": "execute_result"
    }
   ],
   "source": [
    "RidgeCV()"
   ]
  },
  {
   "cell_type": "code",
   "execution_count": 104,
   "id": "3c657f29",
   "metadata": {},
   "outputs": [],
   "source": [
    "prediction = clf.predict(X_test)"
   ]
  },
  {
   "cell_type": "code",
   "execution_count": 105,
   "id": "6b176e5a",
   "metadata": {},
   "outputs": [
    {
     "data": {
      "text/plain": [
       "array([ -5.00766467,  88.42081454, -14.99015295,   5.51407447,\n",
       "        -2.02306591,  16.03568563])"
      ]
     },
     "execution_count": 105,
     "metadata": {},
     "output_type": "execute_result"
    }
   ],
   "source": [
    "clf.coef_"
   ]
  },
  {
   "cell_type": "code",
   "execution_count": 106,
   "id": "7fa42405",
   "metadata": {},
   "outputs": [
    {
     "data": {
      "text/plain": [
       "412.01917841657"
      ]
     },
     "execution_count": 106,
     "metadata": {},
     "output_type": "execute_result"
    }
   ],
   "source": [
    "clf.intercept_"
   ]
  },
  {
   "cell_type": "code",
   "execution_count": 107,
   "id": "5caaca41",
   "metadata": {},
   "outputs": [
    {
     "data": {
      "text/plain": [
       "array([521.93905378, 439.59816751, 421.38481159, 485.61249523,\n",
       "       355.07794715, 445.19503171, 439.59816751, 487.58548449,\n",
       "       488.59701745, 497.31120831, 388.23137937, 406.39465865,\n",
       "       424.60801457, 445.19503171, 485.56241858, 439.59816751,\n",
       "       503.77577451, 409.61786162])"
      ]
     },
     "execution_count": 107,
     "metadata": {},
     "output_type": "execute_result"
    }
   ],
   "source": [
    "prediction"
   ]
  },
  {
   "cell_type": "code",
   "execution_count": 118,
   "id": "991b8b54",
   "metadata": {},
   "outputs": [
    {
     "name": "stdout",
     "output_type": "stream",
     "text": [
      "Mean Squared Error (MSE): 49.17080312261136\n",
      "R-Squared (R2): 0.9736149799671107\n"
     ]
    }
   ],
   "source": [
    "MSE = mean_squared_error(y_test, y_pred)\n",
    "R2 = clf.score(X_test,y_test)\n",
    "print(f\"Mean Squared Error (MSE): {MSE}\")\n",
    "print(f\"R-Squared (R2): {R2}\")\n"
   ]
  },
  {
   "cell_type": "code",
   "execution_count": 109,
   "id": "082045b7",
   "metadata": {},
   "outputs": [
    {
     "data": {
      "text/plain": [
       "<bound method BaseEstimator.get_params of RidgeCV(alpha_per_target=True, alphas=[0.001, 0.01, 0.1, 1, 2, 3, 4, 5],\n",
       "        store_cv_values=True)>"
      ]
     },
     "execution_count": 109,
     "metadata": {},
     "output_type": "execute_result"
    }
   ],
   "source": [
    "clf.get_params"
   ]
  },
  {
   "cell_type": "code",
   "execution_count": 110,
   "id": "031baa6f",
   "metadata": {},
   "outputs": [
    {
     "name": "stdout",
     "output_type": "stream",
     "text": [
      "[ 85.26124502  86.65181205  88.88415735  96.03487179 103.13753244\n",
      " 110.80706077 118.1622783  124.94024738]\n"
     ]
    }
   ],
   "source": [
    "print(np.mean(clf.cv_values_, axis=0))"
   ]
  },
  {
   "cell_type": "code",
   "execution_count": 136,
   "id": "dedbd3c9",
   "metadata": {},
   "outputs": [
    {
     "data": {
      "text/plain": [
       "0.001"
      ]
     },
     "execution_count": 136,
     "metadata": {},
     "output_type": "execute_result"
    }
   ],
   "source": [
    "clf.alpha_"
   ]
  },
  {
   "cell_type": "code",
   "execution_count": 137,
   "id": "51f26dd8",
   "metadata": {},
   "outputs": [
    {
     "data": {
      "text/plain": [
       "array([ -5.00766467,  88.42081454, -14.99015295,   5.51407447,\n",
       "        -2.02306591,  16.03568563])"
      ]
     },
     "execution_count": 137,
     "metadata": {},
     "output_type": "execute_result"
    }
   ],
   "source": [
    "clf.coef_"
   ]
  },
  {
   "cell_type": "markdown",
   "id": "7d7a07bd",
   "metadata": {},
   "source": [
    "### Entendendo a Regularização e o Hiperparâmetro Alfa"
   ]
  },
  {
   "cell_type": "code",
   "execution_count": 139,
   "id": "676b3cb7",
   "metadata": {},
   "outputs": [
    {
     "data": {
      "image/png": "[encoded data removed]",
      "text/plain": [
       "<IPython.core.display.Image object>"
      ]
     },
     "execution_count": 139,
     "metadata": {
      "image/png": {
       "height": 300,
       "width": 600
      }
     },
     "output_type": "execute_result"
    }
   ],
   "source": [
    "from IPython import display\n",
    "display.Image(\"data/ridge-graph.png\", width = 600, height = 300)"
   ]
  },
  {
   "cell_type": "code",
   "execution_count": 88,
   "id": "57718bad",
   "metadata": {},
   "outputs": [
    {
     "data": {
      "image/png": "[encoded data removed]",
      "text/plain": [
       "<Figure size 640x480 with 1 Axes>"
      ]
     },
     "metadata": {},
     "output_type": "display_data"
    }
   ],
   "source": [
    "plt.plot(prediction, y_test, 'x')\n",
    "plt.plot(y_test, y_test, '-', lw=1.3, alpha=0.5)\n",
    "plt.title(\"Ridge Regression Cross-Validation model\")\n",
    "plt.xlabel('Predicted bp, K')\n",
    "plt.ylabel('True bp, K');"
   ]
  },
  {
   "cell_type": "markdown",
   "id": "f3d7c1c3",
   "metadata": {},
   "source": [
    "### EXEMPLOS AVANÇADOS E PRÁTICA"
   ]
  },
  {
   "cell_type": "markdown",
   "id": "ae5c4314",
   "metadata": {},
   "source": [
    "Em muitas situações as variações dos métodos, especialmente na penalização do ajuste aos dados, tentam mitigar imprecisões dos dados obtidos. O exemplo a seguir inclui um \"ruído\" aos dados de treinamento para indicar possíveis variações nos modelos preditivos gerados."
   ]
  },
  {
   "cell_type": "code",
   "execution_count": 177,
   "id": "52c1e0a3",
   "metadata": {},
   "outputs": [],
   "source": [
    "X_train_rn = .1 * np.random.normal(size=(54, 6)) + X_train"
   ]
  },
  {
   "cell_type": "code",
   "execution_count": 178,
   "id": "522823d5",
   "metadata": {},
   "outputs": [
    {
     "data": {
      "text/html": [
       "<div>\n",
       "<style scoped>\n",
       "    .dataframe tbody tr th:only-of-type {\n",
       "        vertical-align: middle;\n",
       "    }\n",
       "\n",
       "    .dataframe tbody tr th {\n",
       "        vertical-align: top;\n",
       "    }\n",
       "\n",
       "    .dataframe thead th {\n",
       "        text-align: right;\n",
       "    }\n",
       "</style>\n",
       "<table border=\"1\" class=\"dataframe\">\n",
       "  <thead>\n",
       "    <tr style=\"text-align: right;\">\n",
       "      <th></th>\n",
       "      <th>MW</th>\n",
       "      <th>carbons</th>\n",
       "      <th>degree</th>\n",
       "      <th>aliphatic</th>\n",
       "      <th>avg_aryl_position</th>\n",
       "      <th>cyclic</th>\n",
       "    </tr>\n",
       "  </thead>\n",
       "  <tbody>\n",
       "    <tr>\n",
       "      <th>45</th>\n",
       "      <td>130.139360</td>\n",
       "      <td>7.920701</td>\n",
       "      <td>2.100821</td>\n",
       "      <td>1.063333</td>\n",
       "      <td>0.020451</td>\n",
       "      <td>0.174048</td>\n",
       "    </tr>\n",
       "    <tr>\n",
       "      <th>30</th>\n",
       "      <td>102.282155</td>\n",
       "      <td>6.054975</td>\n",
       "      <td>0.825102</td>\n",
       "      <td>0.991117</td>\n",
       "      <td>0.108951</td>\n",
       "      <td>-0.149002</td>\n",
       "    </tr>\n",
       "    <tr>\n",
       "      <th>38</th>\n",
       "      <td>116.359132</td>\n",
       "      <td>6.905529</td>\n",
       "      <td>2.173205</td>\n",
       "      <td>0.883768</td>\n",
       "      <td>-0.086015</td>\n",
       "      <td>-0.083659</td>\n",
       "    </tr>\n",
       "    <tr>\n",
       "      <th>27</th>\n",
       "      <td>102.146788</td>\n",
       "      <td>5.964291</td>\n",
       "      <td>1.036386</td>\n",
       "      <td>1.151425</td>\n",
       "      <td>0.003317</td>\n",
       "      <td>0.063493</td>\n",
       "    </tr>\n",
       "    <tr>\n",
       "      <th>20</th>\n",
       "      <td>102.205414</td>\n",
       "      <td>6.026956</td>\n",
       "      <td>0.808039</td>\n",
       "      <td>0.854050</td>\n",
       "      <td>0.152181</td>\n",
       "      <td>-0.100433</td>\n",
       "    </tr>\n",
       "    <tr>\n",
       "      <th>31</th>\n",
       "      <td>102.111668</td>\n",
       "      <td>5.874273</td>\n",
       "      <td>0.883288</td>\n",
       "      <td>0.856881</td>\n",
       "      <td>-0.101244</td>\n",
       "      <td>-0.149591</td>\n",
       "    </tr>\n",
       "    <tr>\n",
       "      <th>22</th>\n",
       "      <td>102.121010</td>\n",
       "      <td>6.103780</td>\n",
       "      <td>3.045764</td>\n",
       "      <td>1.070763</td>\n",
       "      <td>-0.114063</td>\n",
       "      <td>-0.150417</td>\n",
       "    </tr>\n",
       "    <tr>\n",
       "      <th>25</th>\n",
       "      <td>102.283903</td>\n",
       "      <td>5.856666</td>\n",
       "      <td>1.928246</td>\n",
       "      <td>0.897069</td>\n",
       "      <td>0.060455</td>\n",
       "      <td>-0.182600</td>\n",
       "    </tr>\n",
       "    <tr>\n",
       "      <th>2</th>\n",
       "      <td>59.980038</td>\n",
       "      <td>3.075998</td>\n",
       "      <td>0.815367</td>\n",
       "      <td>1.021479</td>\n",
       "      <td>-0.150391</td>\n",
       "      <td>-0.051751</td>\n",
       "    </tr>\n",
       "    <tr>\n",
       "      <th>23</th>\n",
       "      <td>102.205802</td>\n",
       "      <td>5.945368</td>\n",
       "      <td>2.881200</td>\n",
       "      <td>1.012520</td>\n",
       "      <td>0.147568</td>\n",
       "      <td>-0.023073</td>\n",
       "    </tr>\n",
       "    <tr>\n",
       "      <th>55</th>\n",
       "      <td>108.148389</td>\n",
       "      <td>7.071604</td>\n",
       "      <td>1.767386</td>\n",
       "      <td>0.154935</td>\n",
       "      <td>2.064538</td>\n",
       "      <td>1.084146</td>\n",
       "    </tr>\n",
       "    <tr>\n",
       "      <th>54</th>\n",
       "      <td>108.034209</td>\n",
       "      <td>7.008959</td>\n",
       "      <td>2.145835</td>\n",
       "      <td>0.034691</td>\n",
       "      <td>2.973213</td>\n",
       "      <td>1.069635</td>\n",
       "    </tr>\n",
       "    <tr>\n",
       "      <th>44</th>\n",
       "      <td>130.370217</td>\n",
       "      <td>7.955949</td>\n",
       "      <td>0.952064</td>\n",
       "      <td>0.937473</td>\n",
       "      <td>0.056682</td>\n",
       "      <td>0.019654</td>\n",
       "    </tr>\n",
       "    <tr>\n",
       "      <th>33</th>\n",
       "      <td>116.172467</td>\n",
       "      <td>6.948743</td>\n",
       "      <td>2.056683</td>\n",
       "      <td>1.080213</td>\n",
       "      <td>-0.038548</td>\n",
       "      <td>-0.096947</td>\n",
       "    </tr>\n",
       "    <tr>\n",
       "      <th>28</th>\n",
       "      <td>102.137018</td>\n",
       "      <td>5.964772</td>\n",
       "      <td>1.211595</td>\n",
       "      <td>1.035623</td>\n",
       "      <td>-0.026154</td>\n",
       "      <td>0.161339</td>\n",
       "    </tr>\n",
       "    <tr>\n",
       "      <th>67</th>\n",
       "      <td>100.222512</td>\n",
       "      <td>5.899556</td>\n",
       "      <td>2.016738</td>\n",
       "      <td>0.888222</td>\n",
       "      <td>-0.044151</td>\n",
       "      <td>0.908836</td>\n",
       "    </tr>\n",
       "    <tr>\n",
       "      <th>15</th>\n",
       "      <td>88.201751</td>\n",
       "      <td>5.075216</td>\n",
       "      <td>3.047827</td>\n",
       "      <td>1.166333</td>\n",
       "      <td>0.233499</td>\n",
       "      <td>-0.221149</td>\n",
       "    </tr>\n",
       "    <tr>\n",
       "      <th>37</th>\n",
       "      <td>116.127977</td>\n",
       "      <td>6.852050</td>\n",
       "      <td>2.072477</td>\n",
       "      <td>1.029678</td>\n",
       "      <td>-0.080928</td>\n",
       "      <td>0.026167</td>\n",
       "    </tr>\n",
       "    <tr>\n",
       "      <th>57</th>\n",
       "      <td>122.304102</td>\n",
       "      <td>8.116558</td>\n",
       "      <td>2.007857</td>\n",
       "      <td>0.053382</td>\n",
       "      <td>3.415208</td>\n",
       "      <td>0.845941</td>\n",
       "    </tr>\n",
       "    <tr>\n",
       "      <th>51</th>\n",
       "      <td>186.383261</td>\n",
       "      <td>11.967839</td>\n",
       "      <td>1.027539</td>\n",
       "      <td>0.919221</td>\n",
       "      <td>0.009386</td>\n",
       "      <td>0.114216</td>\n",
       "    </tr>\n",
       "    <tr>\n",
       "      <th>48</th>\n",
       "      <td>158.247341</td>\n",
       "      <td>9.912615</td>\n",
       "      <td>1.021014</td>\n",
       "      <td>0.979274</td>\n",
       "      <td>0.096065</td>\n",
       "      <td>0.245230</td>\n",
       "    </tr>\n",
       "    <tr>\n",
       "      <th>29</th>\n",
       "      <td>102.130095</td>\n",
       "      <td>6.436900</td>\n",
       "      <td>2.056009</td>\n",
       "      <td>1.195525</td>\n",
       "      <td>-0.002482</td>\n",
       "      <td>-0.019600</td>\n",
       "    </tr>\n",
       "    <tr>\n",
       "      <th>0</th>\n",
       "      <td>32.098749</td>\n",
       "      <td>0.935309</td>\n",
       "      <td>0.963475</td>\n",
       "      <td>0.880275</td>\n",
       "      <td>0.188138</td>\n",
       "      <td>-0.014391</td>\n",
       "    </tr>\n",
       "    <tr>\n",
       "      <th>18</th>\n",
       "      <td>102.226052</td>\n",
       "      <td>5.902599</td>\n",
       "      <td>2.245362</td>\n",
       "      <td>1.224412</td>\n",
       "      <td>-0.004192</td>\n",
       "      <td>-0.095044</td>\n",
       "    </tr>\n",
       "    <tr>\n",
       "      <th>65</th>\n",
       "      <td>136.179442</td>\n",
       "      <td>9.056692</td>\n",
       "      <td>1.990610</td>\n",
       "      <td>0.027884</td>\n",
       "      <td>3.979338</td>\n",
       "      <td>1.014926</td>\n",
       "    </tr>\n",
       "    <tr>\n",
       "      <th>13</th>\n",
       "      <td>88.155947</td>\n",
       "      <td>5.093587</td>\n",
       "      <td>1.996987</td>\n",
       "      <td>1.091511</td>\n",
       "      <td>-0.011002</td>\n",
       "      <td>-0.053793</td>\n",
       "    </tr>\n",
       "    <tr>\n",
       "      <th>60</th>\n",
       "      <td>122.255309</td>\n",
       "      <td>7.952649</td>\n",
       "      <td>2.055754</td>\n",
       "      <td>0.022215</td>\n",
       "      <td>3.622318</td>\n",
       "      <td>1.033681</td>\n",
       "    </tr>\n",
       "    <tr>\n",
       "      <th>6</th>\n",
       "      <td>74.122538</td>\n",
       "      <td>4.085243</td>\n",
       "      <td>1.110676</td>\n",
       "      <td>0.969887</td>\n",
       "      <td>0.116761</td>\n",
       "      <td>0.035715</td>\n",
       "    </tr>\n",
       "    <tr>\n",
       "      <th>14</th>\n",
       "      <td>88.122898</td>\n",
       "      <td>5.052092</td>\n",
       "      <td>1.923138</td>\n",
       "      <td>0.905679</td>\n",
       "      <td>0.151460</td>\n",
       "      <td>0.181425</td>\n",
       "    </tr>\n",
       "    <tr>\n",
       "      <th>61</th>\n",
       "      <td>122.370129</td>\n",
       "      <td>7.966099</td>\n",
       "      <td>2.042267</td>\n",
       "      <td>-0.195872</td>\n",
       "      <td>4.082822</td>\n",
       "      <td>0.957268</td>\n",
       "    </tr>\n",
       "    <tr>\n",
       "      <th>9</th>\n",
       "      <td>88.199783</td>\n",
       "      <td>4.970400</td>\n",
       "      <td>0.891805</td>\n",
       "      <td>1.166953</td>\n",
       "      <td>0.033284</td>\n",
       "      <td>-0.036030</td>\n",
       "    </tr>\n",
       "    <tr>\n",
       "      <th>3</th>\n",
       "      <td>60.030401</td>\n",
       "      <td>2.853337</td>\n",
       "      <td>1.960236</td>\n",
       "      <td>0.979170</td>\n",
       "      <td>0.199369</td>\n",
       "      <td>0.072720</td>\n",
       "    </tr>\n",
       "    <tr>\n",
       "      <th>1</th>\n",
       "      <td>45.942840</td>\n",
       "      <td>2.043659</td>\n",
       "      <td>1.085693</td>\n",
       "      <td>1.044193</td>\n",
       "      <td>0.008799</td>\n",
       "      <td>0.000209</td>\n",
       "    </tr>\n",
       "    <tr>\n",
       "      <th>43</th>\n",
       "      <td>130.429134</td>\n",
       "      <td>8.190199</td>\n",
       "      <td>0.960894</td>\n",
       "      <td>1.351931</td>\n",
       "      <td>0.165809</td>\n",
       "      <td>-0.053525</td>\n",
       "    </tr>\n",
       "    <tr>\n",
       "      <th>4</th>\n",
       "      <td>74.126877</td>\n",
       "      <td>3.988845</td>\n",
       "      <td>1.020608</td>\n",
       "      <td>0.972212</td>\n",
       "      <td>-0.159322</td>\n",
       "      <td>-0.022708</td>\n",
       "    </tr>\n",
       "    <tr>\n",
       "      <th>36</th>\n",
       "      <td>116.392153</td>\n",
       "      <td>7.181349</td>\n",
       "      <td>3.278323</td>\n",
       "      <td>1.057467</td>\n",
       "      <td>-0.073716</td>\n",
       "      <td>-0.221911</td>\n",
       "    </tr>\n",
       "    <tr>\n",
       "      <th>11</th>\n",
       "      <td>88.216295</td>\n",
       "      <td>5.031749</td>\n",
       "      <td>1.039376</td>\n",
       "      <td>1.101089</td>\n",
       "      <td>-0.143410</td>\n",
       "      <td>-0.171411</td>\n",
       "    </tr>\n",
       "    <tr>\n",
       "      <th>53</th>\n",
       "      <td>108.038558</td>\n",
       "      <td>7.019197</td>\n",
       "      <td>2.085739</td>\n",
       "      <td>-0.149093</td>\n",
       "      <td>4.048159</td>\n",
       "      <td>1.030496</td>\n",
       "    </tr>\n",
       "    <tr>\n",
       "      <th>52</th>\n",
       "      <td>94.124910</td>\n",
       "      <td>5.946510</td>\n",
       "      <td>1.777439</td>\n",
       "      <td>0.065845</td>\n",
       "      <td>-0.034167</td>\n",
       "      <td>1.222947</td>\n",
       "    </tr>\n",
       "    <tr>\n",
       "      <th>10</th>\n",
       "      <td>88.111832</td>\n",
       "      <td>4.909877</td>\n",
       "      <td>0.943891</td>\n",
       "      <td>0.992511</td>\n",
       "      <td>-0.023241</td>\n",
       "      <td>0.178998</td>\n",
       "    </tr>\n",
       "    <tr>\n",
       "      <th>71</th>\n",
       "      <td>86.060070</td>\n",
       "      <td>4.977126</td>\n",
       "      <td>1.911249</td>\n",
       "      <td>1.047217</td>\n",
       "      <td>-0.078535</td>\n",
       "      <td>0.864052</td>\n",
       "    </tr>\n",
       "    <tr>\n",
       "      <th>47</th>\n",
       "      <td>144.250572</td>\n",
       "      <td>9.078187</td>\n",
       "      <td>2.030520</td>\n",
       "      <td>0.926847</td>\n",
       "      <td>-0.111864</td>\n",
       "      <td>-0.182178</td>\n",
       "    </tr>\n",
       "    <tr>\n",
       "      <th>21</th>\n",
       "      <td>102.245651</td>\n",
       "      <td>5.887480</td>\n",
       "      <td>1.145870</td>\n",
       "      <td>0.956541</td>\n",
       "      <td>-0.006522</td>\n",
       "      <td>-0.001822</td>\n",
       "    </tr>\n",
       "    <tr>\n",
       "      <th>5</th>\n",
       "      <td>74.007474</td>\n",
       "      <td>4.001847</td>\n",
       "      <td>2.205965</td>\n",
       "      <td>1.237923</td>\n",
       "      <td>-0.097933</td>\n",
       "      <td>0.082243</td>\n",
       "    </tr>\n",
       "    <tr>\n",
       "      <th>17</th>\n",
       "      <td>102.003274</td>\n",
       "      <td>6.008230</td>\n",
       "      <td>2.080239</td>\n",
       "      <td>1.182513</td>\n",
       "      <td>-0.076923</td>\n",
       "      <td>-0.059938</td>\n",
       "    </tr>\n",
       "    <tr>\n",
       "      <th>34</th>\n",
       "      <td>116.039816</td>\n",
       "      <td>7.035956</td>\n",
       "      <td>2.030509</td>\n",
       "      <td>1.029656</td>\n",
       "      <td>0.059850</td>\n",
       "      <td>-0.092139</td>\n",
       "    </tr>\n",
       "    <tr>\n",
       "      <th>24</th>\n",
       "      <td>102.118304</td>\n",
       "      <td>5.892976</td>\n",
       "      <td>2.066086</td>\n",
       "      <td>0.897873</td>\n",
       "      <td>-0.007500</td>\n",
       "      <td>0.094004</td>\n",
       "    </tr>\n",
       "    <tr>\n",
       "      <th>8</th>\n",
       "      <td>88.198273</td>\n",
       "      <td>5.113103</td>\n",
       "      <td>1.005800</td>\n",
       "      <td>0.927704</td>\n",
       "      <td>0.164612</td>\n",
       "      <td>-0.028368</td>\n",
       "    </tr>\n",
       "    <tr>\n",
       "      <th>46</th>\n",
       "      <td>144.371427</td>\n",
       "      <td>9.132994</td>\n",
       "      <td>1.020190</td>\n",
       "      <td>1.151296</td>\n",
       "      <td>-0.001015</td>\n",
       "      <td>0.015272</td>\n",
       "    </tr>\n",
       "    <tr>\n",
       "      <th>49</th>\n",
       "      <td>158.318976</td>\n",
       "      <td>9.983916</td>\n",
       "      <td>1.867737</td>\n",
       "      <td>0.927111</td>\n",
       "      <td>0.038637</td>\n",
       "      <td>-0.066137</td>\n",
       "    </tr>\n",
       "    <tr>\n",
       "      <th>62</th>\n",
       "      <td>136.165312</td>\n",
       "      <td>9.063055</td>\n",
       "      <td>2.021055</td>\n",
       "      <td>-0.011760</td>\n",
       "      <td>5.835540</td>\n",
       "      <td>0.948775</td>\n",
       "    </tr>\n",
       "    <tr>\n",
       "      <th>69</th>\n",
       "      <td>113.986927</td>\n",
       "      <td>7.154884</td>\n",
       "      <td>2.056922</td>\n",
       "      <td>0.139399</td>\n",
       "      <td>0.048984</td>\n",
       "      <td>0.986266</td>\n",
       "    </tr>\n",
       "    <tr>\n",
       "      <th>19</th>\n",
       "      <td>102.071255</td>\n",
       "      <td>5.869406</td>\n",
       "      <td>0.856515</td>\n",
       "      <td>1.102157</td>\n",
       "      <td>-0.042824</td>\n",
       "      <td>0.017937</td>\n",
       "    </tr>\n",
       "    <tr>\n",
       "      <th>42</th>\n",
       "      <td>130.423651</td>\n",
       "      <td>7.946775</td>\n",
       "      <td>0.926359</td>\n",
       "      <td>0.999425</td>\n",
       "      <td>-0.046719</td>\n",
       "      <td>0.096353</td>\n",
       "    </tr>\n",
       "  </tbody>\n",
       "</table>\n",
       "</div>"
      ],
      "text/plain": [
       "            MW    carbons    degree  aliphatic  avg_aryl_position    cyclic\n",
       "45  130.139360   7.920701  2.100821   1.063333           0.020451  0.174048\n",
       "30  102.282155   6.054975  0.825102   0.991117           0.108951 -0.149002\n",
       "38  116.359132   6.905529  2.173205   0.883768          -0.086015 -0.083659\n",
       "27  102.146788   5.964291  1.036386   1.151425           0.003317  0.063493\n",
       "20  102.205414   6.026956  0.808039   0.854050           0.152181 -0.100433\n",
       "31  102.111668   5.874273  0.883288   0.856881          -0.101244 -0.149591\n",
       "22  102.121010   6.103780  3.045764   1.070763          -0.114063 -0.150417\n",
       "25  102.283903   5.856666  1.928246   0.897069           0.060455 -0.182600\n",
       "2    59.980038   3.075998  0.815367   1.021479          -0.150391 -0.051751\n",
       "23  102.205802   5.945368  2.881200   1.012520           0.147568 -0.023073\n",
       "55  108.148389   7.071604  1.767386   0.154935           2.064538  1.084146\n",
       "54  108.034209   7.008959  2.145835   0.034691           2.973213  1.069635\n",
       "44  130.370217   7.955949  0.952064   0.937473           0.056682  0.019654\n",
       "33  116.172467   6.948743  2.056683   1.080213          -0.038548 -0.096947\n",
       "28  102.137018   5.964772  1.211595   1.035623          -0.026154  0.161339\n",
       "67  100.222512   5.899556  2.016738   0.888222          -0.044151  0.908836\n",
       "15   88.201751   5.075216  3.047827   1.166333           0.233499 -0.221149\n",
       "37  116.127977   6.852050  2.072477   1.029678          -0.080928  0.026167\n",
       "57  122.304102   8.116558  2.007857   0.053382           3.415208  0.845941\n",
       "51  186.383261  11.967839  1.027539   0.919221           0.009386  0.114216\n",
       "48  158.247341   9.912615  1.021014   0.979274           0.096065  0.245230\n",
       "29  102.130095   6.436900  2.056009   1.195525          -0.002482 -0.019600\n",
       "0    32.098749   0.935309  0.963475   0.880275           0.188138 -0.014391\n",
       "18  102.226052   5.902599  2.245362   1.224412          -0.004192 -0.095044\n",
       "65  136.179442   9.056692  1.990610   0.027884           3.979338  1.014926\n",
       "13   88.155947   5.093587  1.996987   1.091511          -0.011002 -0.053793\n",
       "60  122.255309   7.952649  2.055754   0.022215           3.622318  1.033681\n",
       "6    74.122538   4.085243  1.110676   0.969887           0.116761  0.035715\n",
       "14   88.122898   5.052092  1.923138   0.905679           0.151460  0.181425\n",
       "61  122.370129   7.966099  2.042267  -0.195872           4.082822  0.957268\n",
       "9    88.199783   4.970400  0.891805   1.166953           0.033284 -0.036030\n",
       "3    60.030401   2.853337  1.960236   0.979170           0.199369  0.072720\n",
       "1    45.942840   2.043659  1.085693   1.044193           0.008799  0.000209\n",
       "43  130.429134   8.190199  0.960894   1.351931           0.165809 -0.053525\n",
       "4    74.126877   3.988845  1.020608   0.972212          -0.159322 -0.022708\n",
       "36  116.392153   7.181349  3.278323   1.057467          -0.073716 -0.221911\n",
       "11   88.216295   5.031749  1.039376   1.101089          -0.143410 -0.171411\n",
       "53  108.038558   7.019197  2.085739  -0.149093           4.048159  1.030496\n",
       "52   94.124910   5.946510  1.777439   0.065845          -0.034167  1.222947\n",
       "10   88.111832   4.909877  0.943891   0.992511          -0.023241  0.178998\n",
       "71   86.060070   4.977126  1.911249   1.047217          -0.078535  0.864052\n",
       "47  144.250572   9.078187  2.030520   0.926847          -0.111864 -0.182178\n",
       "21  102.245651   5.887480  1.145870   0.956541          -0.006522 -0.001822\n",
       "5    74.007474   4.001847  2.205965   1.237923          -0.097933  0.082243\n",
       "17  102.003274   6.008230  2.080239   1.182513          -0.076923 -0.059938\n",
       "34  116.039816   7.035956  2.030509   1.029656           0.059850 -0.092139\n",
       "24  102.118304   5.892976  2.066086   0.897873          -0.007500  0.094004\n",
       "8    88.198273   5.113103  1.005800   0.927704           0.164612 -0.028368\n",
       "46  144.371427   9.132994  1.020190   1.151296          -0.001015  0.015272\n",
       "49  158.318976   9.983916  1.867737   0.927111           0.038637 -0.066137\n",
       "62  136.165312   9.063055  2.021055  -0.011760           5.835540  0.948775\n",
       "69  113.986927   7.154884  2.056922   0.139399           0.048984  0.986266\n",
       "19  102.071255   5.869406  0.856515   1.102157          -0.042824  0.017937\n",
       "42  130.423651   7.946775  0.926359   0.999425          -0.046719  0.096353"
      ]
     },
     "execution_count": 178,
     "metadata": {},
     "output_type": "execute_result"
    }
   ],
   "source": [
    "X_train_rn"
   ]
  },
  {
   "cell_type": "code",
   "execution_count": 179,
   "id": "ac0f13aa",
   "metadata": {},
   "outputs": [
    {
     "data": {
      "text/html": [
       "<style>#sk-container-id-29 {color: black;}#sk-container-id-29 pre{padding: 0;}#sk-container-id-29 div.sk-toggleable {background-color: white;}#sk-container-id-29 label.sk-toggleable__label {cursor: pointer;display: block;width: 100%;margin-bottom: 0;padding: 0.3em;box-sizing: border-box;text-align: center;}#sk-container-id-29 label.sk-toggleable__label-arrow:before {content: \"▸\";float: left;margin-right: 0.25em;color: #696969;}#sk-container-id-29 label.sk-toggleable__label-arrow:hover:before {color: black;}#sk-container-id-29 div.sk-estimator:hover label.sk-toggleable__label-arrow:before {color: black;}#sk-container-id-29 div.sk-toggleable__content {max-height: 0;max-width: 0;overflow: hidden;text-align: left;background-color: #f0f8ff;}#sk-container-id-29 div.sk-toggleable__content pre {margin: 0.2em;color: black;border-radius: 0.25em;background-color: #f0f8ff;}#sk-container-id-29 input.sk-toggleable__control:checked~div.sk-toggleable__content {max-height: 200px;max-width: 100%;overflow: auto;}#sk-container-id-29 input.sk-toggleable__control:checked~label.sk-toggleable__label-arrow:before {content: \"▾\";}#sk-container-id-29 div.sk-estimator input.sk-toggleable__control:checked~label.sk-toggleable__label {background-color: #d4ebff;}#sk-container-id-29 div.sk-label input.sk-toggleable__control:checked~label.sk-toggleable__label {background-color: #d4ebff;}#sk-container-id-29 input.sk-hidden--visually {border: 0;clip: rect(1px 1px 1px 1px);clip: rect(1px, 1px, 1px, 1px);height: 1px;margin: -1px;overflow: hidden;padding: 0;position: absolute;width: 1px;}#sk-container-id-29 div.sk-estimator {font-family: monospace;background-color: #f0f8ff;border: 1px dotted black;border-radius: 0.25em;box-sizing: border-box;margin-bottom: 0.5em;}#sk-container-id-29 div.sk-estimator:hover {background-color: #d4ebff;}#sk-container-id-29 div.sk-parallel-item::after {content: \"\";width: 100%;border-bottom: 1px solid gray;flex-grow: 1;}#sk-container-id-29 div.sk-label:hover label.sk-toggleable__label {background-color: #d4ebff;}#sk-container-id-29 div.sk-serial::before {content: \"\";position: absolute;border-left: 1px solid gray;box-sizing: border-box;top: 0;bottom: 0;left: 50%;z-index: 0;}#sk-container-id-29 div.sk-serial {display: flex;flex-direction: column;align-items: center;background-color: white;padding-right: 0.2em;padding-left: 0.2em;position: relative;}#sk-container-id-29 div.sk-item {position: relative;z-index: 1;}#sk-container-id-29 div.sk-parallel {display: flex;align-items: stretch;justify-content: center;background-color: white;position: relative;}#sk-container-id-29 div.sk-item::before, #sk-container-id-29 div.sk-parallel-item::before {content: \"\";position: absolute;border-left: 1px solid gray;box-sizing: border-box;top: 0;bottom: 0;left: 50%;z-index: -1;}#sk-container-id-29 div.sk-parallel-item {display: flex;flex-direction: column;z-index: 1;position: relative;background-color: white;}#sk-container-id-29 div.sk-parallel-item:first-child::after {align-self: flex-end;width: 50%;}#sk-container-id-29 div.sk-parallel-item:last-child::after {align-self: flex-start;width: 50%;}#sk-container-id-29 div.sk-parallel-item:only-child::after {width: 0;}#sk-container-id-29 div.sk-dashed-wrapped {border: 1px dashed gray;margin: 0 0.4em 0.5em 0.4em;box-sizing: border-box;padding-bottom: 0.4em;background-color: white;}#sk-container-id-29 div.sk-label label {font-family: monospace;font-weight: bold;display: inline-block;line-height: 1.2em;}#sk-container-id-29 div.sk-label-container {text-align: center;}#sk-container-id-29 div.sk-container {/* jupyter's `normalize.less` sets `[hidden] { display: none; }` but bootstrap.min.css set `[hidden] { display: none !important; }` so we also need the `!important` here to be able to override the default hidden behavior on the sphinx rendered scikit-learn.org. See: https://github.com/scikit-learn/scikit-learn/issues/21755 */display: inline-block !important;position: relative;}#sk-container-id-29 div.sk-text-repr-fallback {display: none;}</style><div id=\"sk-container-id-29\" class=\"sk-top-container\"><div class=\"sk-text-repr-fallback\"><pre>LinearRegression()</pre><b>In a Jupyter environment, please rerun this cell to show the HTML representation or trust the notebook. <br />On GitHub, the HTML representation is unable to render, please try loading this page with nbviewer.org.</b></div><div class=\"sk-container\" hidden><div class=\"sk-item\"><div class=\"sk-estimator sk-toggleable\"><input class=\"sk-toggleable__control sk-hidden--visually\" id=\"sk-estimator-id-29\" type=\"checkbox\" checked><label for=\"sk-estimator-id-29\" class=\"sk-toggleable__label sk-toggleable__label-arrow\">LinearRegression</label><div class=\"sk-toggleable__content\"><pre>LinearRegression()</pre></div></div></div></div></div>"
      ],
      "text/plain": [
       "LinearRegression()"
      ]
     },
     "execution_count": 179,
     "metadata": {},
     "output_type": "execute_result"
    }
   ],
   "source": [
    "reg.fit(X_train_rn, y_train)"
   ]
  },
  {
   "cell_type": "code",
   "execution_count": 180,
   "id": "dbbe966b",
   "metadata": {},
   "outputs": [
    {
     "data": {
      "text/plain": [
       "0.9344194974892706"
      ]
     },
     "execution_count": 180,
     "metadata": {},
     "output_type": "execute_result"
    }
   ],
   "source": [
    "reg.score(X_test,y_test)"
   ]
  },
  {
   "cell_type": "code",
   "execution_count": 181,
   "id": "a8625ab1",
   "metadata": {},
   "outputs": [
    {
     "data": {
      "text/html": [
       "<style>#sk-container-id-30 {color: black;}#sk-container-id-30 pre{padding: 0;}#sk-container-id-30 div.sk-toggleable {background-color: white;}#sk-container-id-30 label.sk-toggleable__label {cursor: pointer;display: block;width: 100%;margin-bottom: 0;padding: 0.3em;box-sizing: border-box;text-align: center;}#sk-container-id-30 label.sk-toggleable__label-arrow:before {content: \"▸\";float: left;margin-right: 0.25em;color: #696969;}#sk-container-id-30 label.sk-toggleable__label-arrow:hover:before {color: black;}#sk-container-id-30 div.sk-estimator:hover label.sk-toggleable__label-arrow:before {color: black;}#sk-container-id-30 div.sk-toggleable__content {max-height: 0;max-width: 0;overflow: hidden;text-align: left;background-color: #f0f8ff;}#sk-container-id-30 div.sk-toggleable__content pre {margin: 0.2em;color: black;border-radius: 0.25em;background-color: #f0f8ff;}#sk-container-id-30 input.sk-toggleable__control:checked~div.sk-toggleable__content {max-height: 200px;max-width: 100%;overflow: auto;}#sk-container-id-30 input.sk-toggleable__control:checked~label.sk-toggleable__label-arrow:before {content: \"▾\";}#sk-container-id-30 div.sk-estimator input.sk-toggleable__control:checked~label.sk-toggleable__label {background-color: #d4ebff;}#sk-container-id-30 div.sk-label input.sk-toggleable__control:checked~label.sk-toggleable__label {background-color: #d4ebff;}#sk-container-id-30 input.sk-hidden--visually {border: 0;clip: rect(1px 1px 1px 1px);clip: rect(1px, 1px, 1px, 1px);height: 1px;margin: -1px;overflow: hidden;padding: 0;position: absolute;width: 1px;}#sk-container-id-30 div.sk-estimator {font-family: monospace;background-color: #f0f8ff;border: 1px dotted black;border-radius: 0.25em;box-sizing: border-box;margin-bottom: 0.5em;}#sk-container-id-30 div.sk-estimator:hover {background-color: #d4ebff;}#sk-container-id-30 div.sk-parallel-item::after {content: \"\";width: 100%;border-bottom: 1px solid gray;flex-grow: 1;}#sk-container-id-30 div.sk-label:hover label.sk-toggleable__label {background-color: #d4ebff;}#sk-container-id-30 div.sk-serial::before {content: \"\";position: absolute;border-left: 1px solid gray;box-sizing: border-box;top: 0;bottom: 0;left: 50%;z-index: 0;}#sk-container-id-30 div.sk-serial {display: flex;flex-direction: column;align-items: center;background-color: white;padding-right: 0.2em;padding-left: 0.2em;position: relative;}#sk-container-id-30 div.sk-item {position: relative;z-index: 1;}#sk-container-id-30 div.sk-parallel {display: flex;align-items: stretch;justify-content: center;background-color: white;position: relative;}#sk-container-id-30 div.sk-item::before, #sk-container-id-30 div.sk-parallel-item::before {content: \"\";position: absolute;border-left: 1px solid gray;box-sizing: border-box;top: 0;bottom: 0;left: 50%;z-index: -1;}#sk-container-id-30 div.sk-parallel-item {display: flex;flex-direction: column;z-index: 1;position: relative;background-color: white;}#sk-container-id-30 div.sk-parallel-item:first-child::after {align-self: flex-end;width: 50%;}#sk-container-id-30 div.sk-parallel-item:last-child::after {align-self: flex-start;width: 50%;}#sk-container-id-30 div.sk-parallel-item:only-child::after {width: 0;}#sk-container-id-30 div.sk-dashed-wrapped {border: 1px dashed gray;margin: 0 0.4em 0.5em 0.4em;box-sizing: border-box;padding-bottom: 0.4em;background-color: white;}#sk-container-id-30 div.sk-label label {font-family: monospace;font-weight: bold;display: inline-block;line-height: 1.2em;}#sk-container-id-30 div.sk-label-container {text-align: center;}#sk-container-id-30 div.sk-container {/* jupyter's `normalize.less` sets `[hidden] { display: none; }` but bootstrap.min.css set `[hidden] { display: none !important; }` so we also need the `!important` here to be able to override the default hidden behavior on the sphinx rendered scikit-learn.org. See: https://github.com/scikit-learn/scikit-learn/issues/21755 */display: inline-block !important;position: relative;}#sk-container-id-30 div.sk-text-repr-fallback {display: none;}</style><div id=\"sk-container-id-30\" class=\"sk-top-container\"><div class=\"sk-text-repr-fallback\"><pre>Ridge(alpha=4.0)</pre><b>In a Jupyter environment, please rerun this cell to show the HTML representation or trust the notebook. <br />On GitHub, the HTML representation is unable to render, please try loading this page with nbviewer.org.</b></div><div class=\"sk-container\" hidden><div class=\"sk-item\"><div class=\"sk-estimator sk-toggleable\"><input class=\"sk-toggleable__control sk-hidden--visually\" id=\"sk-estimator-id-30\" type=\"checkbox\" checked><label for=\"sk-estimator-id-30\" class=\"sk-toggleable__label sk-toggleable__label-arrow\">Ridge</label><div class=\"sk-toggleable__content\"><pre>Ridge(alpha=4.0)</pre></div></div></div></div></div>"
      ],
      "text/plain": [
       "Ridge(alpha=4.0)"
      ]
     },
     "execution_count": 181,
     "metadata": {},
     "output_type": "execute_result"
    }
   ],
   "source": [
    "clf.fit(X_train_rn, y_train)"
   ]
  },
  {
   "cell_type": "code",
   "execution_count": 182,
   "id": "e74b2d03",
   "metadata": {},
   "outputs": [
    {
     "data": {
      "text/plain": [
       "0.949908192680655"
      ]
     },
     "execution_count": 182,
     "metadata": {},
     "output_type": "execute_result"
    }
   ],
   "source": [
    "clf.score(X_test,y_test)"
   ]
  },
  {
   "cell_type": "code",
   "execution_count": null,
   "id": "dfe68ed5",
   "metadata": {},
   "outputs": [],
   "source": []
  }
 ],
 "metadata": {
  "kernelspec": {
   "display_name": "Python 3 (ipykernel)",
   "language": "python",
   "name": "python3"
  },
  "language_info": {
   "codemirror_mode": {
    "name": "ipython",
    "version": 3
   },
   "file_extension": ".py",
   "mimetype": "text/x-python",
   "name": "python",
   "nbconvert_exporter": "python",
   "pygments_lexer": "ipython3",
   "version": "3.11.3"
  }
 },
 "nbformat": 4,
 "nbformat_minor": 5
}
